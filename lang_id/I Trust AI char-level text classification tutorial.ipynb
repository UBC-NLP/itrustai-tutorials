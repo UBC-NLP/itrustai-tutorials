{
 "cells": [
  {
   "cell_type": "markdown",
   "id": "75a3eff3",
   "metadata": {},
   "source": [
    "# Text Classification\n",
    "This notebook will demonstrate how to build a transformer model from scratch to predict the language of a given tweet. The training set consists of tweets of 77 languages. The model is trained on character level. "
   ]
  },
  {
   "cell_type": "markdown",
   "id": "39172101",
   "metadata": {},
   "source": [
    "# Environmental setup\n",
    "Install Fairseq library "
   ]
  },
  {
   "cell_type": "code",
   "execution_count": null,
   "id": "4370950d",
   "metadata": {},
   "outputs": [],
   "source": [
    "!git clone https://github.com/pytorch/fairseq\n",
    "%cd fairseq\n",
    "!pip install --editable ./"
   ]
  },
  {
   "cell_type": "markdown",
   "id": "c7f11b4e",
   "metadata": {},
   "source": [
    "# Preprocess the data"
   ]
  },
  {
   "cell_type": "code",
   "execution_count": null,
   "id": "cb3b0026",
   "metadata": {
    "scrolled": true
   },
   "outputs": [],
   "source": [
    "%cd ../data/twitter/\n",
    "!fairseq-preprocess \\\n",
    "  --trainpref train --validpref valid --testpref test \\\n",
    "  --source-lang input --target-lang label \\\n",
    "  --destdir ../../tmp/data-bin/ --dataset-impl raw --tokenizer space"
   ]
  },
  {
   "cell_type": "markdown",
   "id": "ea414e22",
   "metadata": {},
   "source": [
    "# Register a new Fairseq custom task"
   ]
  },
  {
   "cell_type": "code",
   "execution_count": null,
   "id": "2c6967d6",
   "metadata": {},
   "outputs": [],
   "source": [
    "%cd ../..\n",
    "!cp src/simple_classification.py fairseq/fairseq/tasks/"
   ]
  },
  {
   "cell_type": "markdown",
   "id": "3166f28f",
   "metadata": {},
   "source": [
    "# train a transformer model from scratch"
   ]
  },
  {
   "cell_type": "code",
   "execution_count": null,
   "id": "bd88fd1e",
   "metadata": {},
   "outputs": [],
   "source": [
    "!fairseq-train tmp/data-bin/ --task simple_classification \\\n",
    "                        --arch transformer \\\n",
    "                        --save-interval 1 \\\n",
    "                        --distributed-world-size 10 \\\n",
    "                        --max-epoch 30 \\\n",
    "                        --save-dir save-dir \\\n",
    "                        --distributed-world-size 1 \\\n",
    "                        --share-decoder-input-output-embed \\\n",
    "                        --optimizer adam --adam-betas '(0.9,0.98)' \\\n",
    "                        --clip-norm 0.0 --lr 5e-6 --lr-scheduler inverse_sqrt \\\n",
    "                        --warmup-updates 4000 --dropout 0.1 \\\n",
    "                        --decoder-embed-dim 512 \\\n",
    "                        --encoder-embed-dim 512 \\\n",
    "                        --weight-decay 0.0001 --criterion label_smoothed_cross_entropy \\\n",
    "                        --label-smoothing 0.5 --batch-size 32 \\\n",
    "                        --activation-dropout 0.3 --encoder-attention-heads 8  \\\n",
    "                        --encoder-layers 6 \\\n",
    "                        --decoder-layers 6 --decoder-attention-heads 8 \\\n",
    "                        --encoder-ffn-embed-dim 1536 --decoder-ffn-embed-dim 1536 \\\n",
    "                        --activation-dropout 0.3 \\"
   ]
  },
  {
   "cell_type": "markdown",
   "id": "e109ca52",
   "metadata": {},
   "source": [
    "# If you encounter error message as below\n",
    "ValueError: Please build (or rebuild) Cython components with `python setup.py build_ext --inplace`.\n",
    "## Uncomment following cell and run it."
   ]
  },
  {
   "cell_type": "code",
   "execution_count": null,
   "id": "89d6eb0d",
   "metadata": {},
   "outputs": [],
   "source": [
    "#! pip uninstall -y numpy\n",
    "#! pip install numpy"
   ]
  },
  {
   "cell_type": "markdown",
   "id": "7d67937f",
   "metadata": {},
   "source": [
    "# Evaluation on test set"
   ]
  },
  {
   "cell_type": "code",
   "execution_count": null,
   "id": "a47f61f9",
   "metadata": {},
   "outputs": [],
   "source": [
    "!python3 src/eval_classifier.py tmp/data-bin/ --path save-dir/checkpoint_best.pt"
   ]
  },
  {
   "cell_type": "code",
   "execution_count": null,
   "id": "85676f45",
   "metadata": {},
   "outputs": [],
   "source": []
  }
 ],
 "metadata": {
  "kernelspec": {
   "display_name": "Python 3 (ipykernel)",
   "language": "python",
   "name": "python3"
  },
  "language_info": {
   "codemirror_mode": {
    "name": "ipython",
    "version": 3
   },
   "file_extension": ".py",
   "mimetype": "text/x-python",
   "name": "python",
   "nbconvert_exporter": "python",
   "pygments_lexer": "ipython3",
   "version": "3.9.7"
  }
 },
 "nbformat": 4,
 "nbformat_minor": 5
}
