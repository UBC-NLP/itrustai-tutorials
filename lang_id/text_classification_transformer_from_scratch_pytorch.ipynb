{
  "nbformat": 4,
  "nbformat_minor": 0,
  "metadata": {
    "colab": {
      "name": "text-classification-pytorch.ipynb",
      "provenance": [],
      "collapsed_sections": []
    },
    "kernelspec": {
      "name": "python3",
      "display_name": "Python 3"
    },
    "language_info": {
      "name": "python"
    },
    "accelerator": "GPU"
  },
  "cells": [
    {
      "cell_type": "markdown",
      "source": [
        "Read in files..."
      ],
      "metadata": {
        "id": "2M9kGQxrKG7W"
      }
    },
    {
      "cell_type": "code",
      "source": [
        "import pandas as pd\n",
        "dev_df = pd.read_csv(\"dev.input-label\", sep=\"\\t\")\n",
        "test_df = pd.read_csv(\"test.input-label\", sep=\"\\t\")\n",
        "train_df = pd.read_csv(\"train.input-label\", sep=\"\\t\")"
      ],
      "metadata": {
        "id": "K1ZmXQeiJEV8"
      },
      "execution_count": null,
      "outputs": []
    },
    {
      "cell_type": "code",
      "source": [
        "pip install bpemb"
      ],
      "metadata": {
        "colab": {
          "base_uri": "https://localhost:8080/"
        },
        "id": "3wy0Vzeh5q4o",
        "outputId": "6df669d8-75bd-412d-9e4c-74bbf5fff81f"
      },
      "execution_count": null,
      "outputs": [
        {
          "output_type": "stream",
          "name": "stdout",
          "text": [
            "Requirement already satisfied: bpemb in /usr/local/lib/python3.7/dist-packages (0.3.3)\n",
            "Requirement already satisfied: numpy in /usr/local/lib/python3.7/dist-packages (from bpemb) (1.19.5)\n",
            "Requirement already satisfied: tqdm in /usr/local/lib/python3.7/dist-packages (from bpemb) (4.62.3)\n",
            "Requirement already satisfied: gensim in /usr/local/lib/python3.7/dist-packages (from bpemb) (3.6.0)\n",
            "Requirement already satisfied: sentencepiece in /usr/local/lib/python3.7/dist-packages (from bpemb) (0.1.96)\n",
            "Requirement already satisfied: requests in /usr/local/lib/python3.7/dist-packages (from bpemb) (2.23.0)\n",
            "Requirement already satisfied: scipy>=0.18.1 in /usr/local/lib/python3.7/dist-packages (from gensim->bpemb) (1.4.1)\n",
            "Requirement already satisfied: six>=1.5.0 in /usr/local/lib/python3.7/dist-packages (from gensim->bpemb) (1.15.0)\n",
            "Requirement already satisfied: smart-open>=1.2.1 in /usr/local/lib/python3.7/dist-packages (from gensim->bpemb) (5.2.1)\n",
            "Requirement already satisfied: idna<3,>=2.5 in /usr/local/lib/python3.7/dist-packages (from requests->bpemb) (2.10)\n",
            "Requirement already satisfied: certifi>=2017.4.17 in /usr/local/lib/python3.7/dist-packages (from requests->bpemb) (2021.10.8)\n",
            "Requirement already satisfied: chardet<4,>=3.0.2 in /usr/local/lib/python3.7/dist-packages (from requests->bpemb) (3.0.4)\n",
            "Requirement already satisfied: urllib3!=1.25.0,!=1.25.1,<1.26,>=1.21.1 in /usr/local/lib/python3.7/dist-packages (from requests->bpemb) (1.24.3)\n"
          ]
        }
      ]
    },
    {
      "cell_type": "markdown",
      "source": [
        "Create Byte pair embeddings"
      ],
      "metadata": {
        "id": "uefTOXzJKJza"
      }
    },
    {
      "cell_type": "code",
      "source": [
        "from bpemb import BPEmb\n",
        "multibpemb = BPEmb(lang=\"multi\", vs=100000, dim=300)"
      ],
      "metadata": {
        "id": "8CmkU4wvtZtZ"
      },
      "execution_count": null,
      "outputs": []
    },
    {
      "cell_type": "code",
      "source": [
        "#https://bpemb.h-its.org/\n",
        "def subword(text):\n",
        "  doc = open(\"dev.tsv\", \"w\")\n",
        "  for i, j in text.iterrows():\n",
        "    subwords = multibpemb.encode(j[0])\n",
        "    subwords = str(subwords)\n",
        "    doc.write(str(subwords) + \"\\t\" + str(j[1]) + \"\\n\")"
      ],
      "metadata": {
        "id": "AC-jS-WQu3zo"
      },
      "execution_count": null,
      "outputs": []
    },
    {
      "cell_type": "code",
      "source": [
        "subword(dev_df)\n",
        "#subword(test_df)\n",
        "#subword(train_df)"
      ],
      "metadata": {
        "id": "0c2viDH4KnQL"
      },
      "execution_count": null,
      "outputs": []
    },
    {
      "cell_type": "code",
      "source": [
        "dev_new = pd.read_csv(\"dev.tsv\", sep=\"\\t\")\n",
        "test_new = pd.read_csv(\"test.tsv\", sep=\"\\t\")\n",
        "train_new = pd.read_csv(\"train.tsv\", sep=\"\\t\")\n"
      ],
      "metadata": {
        "id": "aRmhbx_v1hre"
      },
      "execution_count": null,
      "outputs": []
    },
    {
      "cell_type": "code",
      "source": [
        "print(dev_new)"
      ],
      "metadata": {
        "colab": {
          "base_uri": "https://localhost:8080/"
        },
        "id": "W44uYd6L7YKg",
        "outputId": "03cf52e1-9f17-4455-b85a-6a188fd4955f"
      },
      "execution_count": null,
      "outputs": [
        {
          "output_type": "stream",
          "name": "stdout",
          "text": [
            "     ['▁', '【', '▁', '時', '報', '】', '午', '後', '▁0', '時', 'な', 'ので', 'す', '。', 'この', '時間', 'は', '眠', 'く', 'なる', 'ので', 'す', '▁...']  ja\n",
            "0     ['▁የ', 'ም', 'ታ', 'ው', 'ቀ', 'ው', '▁የ', 'ይ', 'ሖ'...                                                                            am\n",
            "1     ['▁no', '▁voy', '▁a', '▁ir', '▁a', '▁bus', 'ca...                                                                            lv\n",
            "2     ['▁@', 'rev', 'ij', 'are', 'porter', '▁raz', '...                                                                            sl\n",
            "3     ['▁lang', 'ar', '▁ekki', '▁í', '▁range', '▁rov...                                                                            is\n",
            "4     ['▁دع', 'اء', '▁الس', 'ج', 'ود', ':', 'سب', 'ح...                                                                            ar\n",
            "...                                                 ...                                                                            ..\n",
            "6962  ['▁por', '▁eso', '▁llam', 'é', '▁victory', '▁(...                                                                            es\n",
            "6963  ['▁kok', 'ia', '▁gal', 'im', 'ybė', '▁du', 'ot...                                                                            lt\n",
            "6964  ['▁அவ', 'ன்', '▁ஆ', 'தா', 'மை', 'ப்போ', 'ல', '...                                                                            ta\n",
            "6965  ['▁pris', 'im', 'ind', 'amas', '▁pir', 'mus', ...                                                                            lt\n",
            "6966  ['▁', '멜', '은', '▁중심', '을', '▁', '잃', '고', '▁넘...                                                                            ko\n",
            "\n",
            "[6967 rows x 2 columns]\n"
          ]
        }
      ]
    },
    {
      "cell_type": "code",
      "source": [
        "import numpy as np\n",
        "import torch\n",
        "import torch.nn as nn\n",
        "import torch.nn.functional as F\n",
        "import math, copy, time\n",
        "from torch.autograd import Variable\n",
        "import matplotlib.pyplot as plt\n",
        "import seaborn\n",
        "seaborn.set_context(context=\"talk\")\n",
        "%matplotlib inline\n",
        "import torchtext\n",
        "from torchtext import data, datasets\n",
        "import random\n",
        "from torch import optim\n",
        "import math\n",
        "from collections import Counter\n",
        "from tqdm import tqdm, trange\n",
        "from sklearn.metrics import f1_score\n",
        "from sklearn.metrics import accuracy_score\n",
        "from torch.nn import CrossEntropyLoss\n",
        "from torch.utils.data import DataLoader, RandomSampler, SequentialSampler, TensorDataset\n",
        "from torch.utils.data.distributed import DistributedSampler\n",
        "import matplotlib\n",
        "import matplotlib.pyplot as plt\n",
        "from matplotlib.pyplot import MultipleLocator\n",
        "\n",
        "BOS_WORD = '<s>'\n",
        "EOS_WORD = '</s>'\n",
        "BLANK_WORD = \"<blank>\"\n",
        "\n",
        "#create field objects\n",
        "TEXT = torchtext.legacy.data.Field(init_token = BOS_WORD, eos_token = EOS_WORD)\n",
        "LABEL = torchtext.legacy.data.Field(init_token = BOS_WORD, eos_token = EOS_WORD)\n",
        "\n",
        "#create tuples representing the colums\n",
        "fields = [(\"text\", TEXT), (\"label\", LABEL)]\n",
        "\n",
        "\n",
        "train, val, test = torchtext.legacy.data.TabularDataset.splits(\n",
        "                                             path = '', train = \"train.tsv\", validation = \"dev.tsv\", \n",
        "                                             test = \"test.tsv\", format = \"tsv\", fields = fields, skip_header = True)\n",
        "\n",
        "print(vars(train[0]))\n"
      ],
      "metadata": {
        "colab": {
          "base_uri": "https://localhost:8080/"
        },
        "id": "7_SRVgfBuT-R",
        "outputId": "64b5ed2c-1326-4f12-89cc-64e2089ddfb3"
      },
      "execution_count": null,
      "outputs": [
        {
          "output_type": "stream",
          "name": "stdout",
          "text": [
            "{'text': [\"['▁user',\", \"'▁era',\", \"'▁una',\", \"'▁preg',\", \"'unta',\", \"'▁ret',\", \"'òr',\", \"'ica',\", \"'▁.',\", \"'▁em',\", \"'▁dó',\", \"'na',\", \"'▁igual',\", \"'▁si',\", \"'▁pot',\", \"'s',\", \"'▁o',\", \"'▁no',\", \"'▁sor',\", \"'tir',\", \"'▁de',\", \"'▁casa',\", \"'▁.']\"], 'label': ['ca']}\n"
          ]
        }
      ]
    },
    {
      "cell_type": "code",
      "source": [
        "print(f\"Number of training examples: {len(train.examples)}\")\n",
        "print(f\"Number of validation examples: {len(val.examples)}\")\n",
        "print(f\"Number of testing examples: {len(test.examples)}\")"
      ],
      "metadata": {
        "colab": {
          "base_uri": "https://localhost:8080/"
        },
        "id": "BBo93dzSanEL",
        "outputId": "95f6e9aa-24a6-419b-fce2-c40800087704"
      },
      "execution_count": null,
      "outputs": [
        {
          "output_type": "stream",
          "name": "stdout",
          "text": [
            "Number of training examples: 34890\n",
            "Number of validation examples: 6967\n",
            "Number of testing examples: 7120\n"
          ]
        }
      ]
    },
    {
      "cell_type": "code",
      "source": [
        "#https://dzlab.github.io/dltips/en/pytorch/torchtext-datasets/\n",
        "from torchtext.legacy.data import Iterator\n",
        "MIN_FREQ = 2\n",
        "TEXT.build_vocab(train.text, min_freq=MIN_FREQ)\n",
        "LABEL.build_vocab(train.label, min_freq=MIN_FREQ)\n",
        "\n",
        "# determine what device to use\n",
        "device = torch.device(\n",
        "  'cuda' if torch.cuda.is_available() else 'cpu'\n",
        ")\n",
        "\n",
        "# create iterators for train/valid/test datasets\n",
        "train_iter, dev_iter, test_iter = torchtext.legacy.data.BucketIterator.splits(\n",
        "  (train, val, test),\n",
        "  sort_key = lambda x: x.text,\n",
        "  sort_within_batch=False,\n",
        "  batch_size = 32,\n",
        "  device = device\n",
        ")"
      ],
      "metadata": {
        "id": "7r7-IbUPpB35"
      },
      "execution_count": null,
      "outputs": []
    },
    {
      "cell_type": "code",
      "source": [
        "TEXT.vocab.stoi[\"<blank>\"]"
      ],
      "metadata": {
        "colab": {
          "base_uri": "https://localhost:8080/"
        },
        "id": "4W_H5ZH6wm3y",
        "outputId": "4c0634c2-ac3d-4b6e-d840-43ee8b13a41a"
      },
      "execution_count": null,
      "outputs": [
        {
          "output_type": "execute_result",
          "data": {
            "text/plain": [
              "0"
            ]
          },
          "metadata": {},
          "execution_count": 47
        }
      ]
    },
    {
      "cell_type": "code",
      "source": [
        "print(f\"Unique tokens in text vocabulary: {len(TEXT.vocab)}\")\n",
        "print(f\"Unique tokens in label vocabulary: {len(LABEL.vocab)}\")"
      ],
      "metadata": {
        "colab": {
          "base_uri": "https://localhost:8080/"
        },
        "id": "zH3eMTzAaxoH",
        "outputId": "24522fb5-5ac5-4c1f-c9db-f8dbee6f20ac"
      },
      "execution_count": null,
      "outputs": [
        {
          "output_type": "stream",
          "name": "stdout",
          "text": [
            "Unique tokens in text vocabulary: 56054\n",
            "Unique tokens in label vocabulary: 81\n"
          ]
        }
      ]
    },
    {
      "cell_type": "code",
      "source": [
        "for batch in train_iter:\n",
        "    print(batch)\n",
        "    txt = batch.text\n",
        "    lbl = batch.label\n",
        "    print('tensor size of text:', txt.shape)\n",
        "    print('tensor size of label:', lbl.shape)\n",
        "    print('the tensor of first example in lbl:', lbl[:,0])\n",
        "    break\n",
        "    "
      ],
      "metadata": {
        "colab": {
          "base_uri": "https://localhost:8080/"
        },
        "id": "ip7S-mGsb4YP",
        "outputId": "24d68eeb-6a76-40bd-c72d-d0d9d155ccc3"
      },
      "execution_count": null,
      "outputs": [
        {
          "output_type": "stream",
          "name": "stdout",
          "text": [
            "\n",
            "[torchtext.legacy.data.batch.Batch of size 32]\n",
            "\t[.text]:[torch.cuda.LongTensor of size 75x32 (GPU 0)]\n",
            "\t[.label]:[torch.cuda.LongTensor of size 3x32 (GPU 0)]\n",
            "tensor size of text: torch.Size([75, 32])\n",
            "tensor size of label: torch.Size([3, 32])\n",
            "the tensor of first example in lbl: tensor([ 2, 65,  3], device='cuda:0')\n"
          ]
        }
      ]
    },
    {
      "cell_type": "code",
      "source": [
        "class PositionalEncoding(nn.Module):\n",
        "    \"Implement the position encoding function.\"\n",
        "    def __init__(self, d_model, dropout, max_len=5000):\n",
        "        super(PositionalEncoding, self).__init__()\n",
        "        self.dropout = nn.Dropout(p=dropout)\n",
        "        \n",
        "        # Compute the positional encodings once in log space.\n",
        "        pe = torch.zeros(max_len, d_model)\n",
        "        position = torch.arange(0, max_len).unsqueeze(1)\n",
        "        div_term = torch.exp(torch.arange(0, d_model, 2) *\n",
        "                             -(math.log(10000.0) / d_model))\n",
        "        pe[:, 0::2] = torch.sin(position * div_term)\n",
        "        pe[:, 1::2] = torch.cos(position * div_term)\n",
        "        pe = pe.unsqueeze(0)\n",
        "        self.register_buffer('pe', pe)\n",
        "        \n",
        "    def forward(self, x):\n",
        "        x = x + Variable(self.pe[:, :x.size(1)], \n",
        "                         requires_grad=False)\n",
        "        return self.dropout(x)"
      ],
      "metadata": {
        "id": "pq5Q05H-5BzX"
      },
      "execution_count": null,
      "outputs": []
    },
    {
      "cell_type": "markdown",
      "source": [
        "Now we build our Transformer model. Transformers use a specific type of attention mechanism, referred to as multi-head attention. The attention layer determines which elements we “pay attention” to. The attention array is normalized using softmax, so that all of the weights sum to one, since we can’t pay more than 100% attention. "
      ],
      "metadata": {
        "id": "vvkNgGV5CDfr"
      }
    },
    {
      "cell_type": "markdown",
      "source": [
        "![1_BzhKcJJxv974OxWOVqUuQQ.png](data:image/png;base64,iVBORw0KGgoAAAANSUhEUgAAAwcAAAGiCAIAAAA9dC1sAACAAElEQVR42uzdd1jUSBsA8MlmO7B0lI6oKDawFxQVKyfYFfXUzxMU29nP3nvl1Ds9KyoWBBURBBHBXkAEFKQpHQTpS9lla/I9srggoKBiAd7fwx9LspvyTjJ5M5kkVJIkEQAAAABAk0eBEAAAAAAAQFYEAAAAAABZEQAAAAAAZEUAAAAAAJAVAQAAAABAVgQAAAAAAFkRAAAAAABkRQAAAAAAkBUBAAAAAEBWBAAAAAAAWREAAAAAAGRFAAAAAACQFQEAAAAAQFYEAAAAAPCVqF/4fVHc/TOnLz+MTeEp65paDBox0rpj2IkDrAlrBurh3740goKEx3f8/G7eytVffmKjJfVrpsFPDLtzw+t6wKuW+8+vas2sOrokwc/lRqyIrDQIozDYHFVVdR2jjl07Gyng3zXg0gi/k3djSyvPn4IzlFQ1DVp37tm1pSL1u8y18G3YbR8vL+/IQRsu/q874yducCSRfXHn6XbzVnRWxX693aHEZ9ekVa7E4iNu9hZKUDuAJqUo1vusX4K0vFakdRpsb9We+ckq5bXv+ZuvxeUVGW464I9h5or1V8PXaU8kpWm+Z6+9KSIq1+bNOoyyG2xEQURKsJvn06zKNS1Ob/XnPJv6DlstR5wGWA2izCe7fp970cjuvyNrLJhNcE8g64yQZpxZ0lOZqTNy7p4LV6+eOrBxUj8dGpWK09oceiggv1lJ6u39GxcPMVXAEN7f0U/0NdMQP7uyzWFEGzqGNNoujiqt4RtSYX78y1trRxlQ3u9BrO42C9asXb1s0Ww7237GmgymsuGAcSvcH6SJyO+Fl5d4/8oKc7X3yZeCdr/5q9b+tXj2+OFdtdgUtnqHqctPx+ZJ63eO3Oir6xaOMGRjGM3kwH0B+VMVxuw15yg7Hk4kyF8OIYleZqGIYTS7bZFSEoCmRSrIT3h1b9fUttT3R2qK2ZjT+ZJPfTfv2P8Myo7nmF7XudefvM4vldZjDV/nPVGcmxrheXBCc9r7RVE2HH3K/2VGgVA2Tlic8eLB6Ymd2Nj7M1/NKRuuRybm1XfMaj/iNLhqkCQl93f1oWKYfo+tqeKmuCN8QVaU4DlTk0odNO82/0NJEuK3rmssOVTVNZd59VUezw4MxL8+K3qvKHZXRzb2+W00/dp0JRxR6OanwkWVKoWMm8dmdVDDMYqy1YyTicVffliVFkRHpUpr/9q7rdbKCCHTESeKPwSTm+AxrZsKhijGfTZFF9X78T52eV/Fes+K6ri+lQiur+iII0y789o3wi+arPRdbFR2fe+i1WYkzQi/tN/pUlw+HCJBE5XzdKUhvaxlhdnldHjN1XBxwr+9NBhUDEOINn1/AvHNNfy37InS0sDJrRgI4f1m+VZbXHHAlh44QjSVcQ+KvlcGUpcjzldUgzVWesKC2Lj6TlWq17fCgvAzTk4+YU20Hqx7vyLBQ9/AXAlu2qUL60ObH0bVsdtybo2NYva7fLJ+mq4wFovxjU2KGJVGrW0SOIvNKjuDoFQKAIWhPXz2cb+bu/o05985O2eSw/lsyRfNmYi+unTFv5HSWpeQoqDALmurwjD5kiobj9mzf6Y+nUh8+vcRtwyyntsEabUH5YvVdX3lxNybp6+ks1noXcRZV/+iuk+29O3VBbMOpYm/9/JTtM3tli6xM1GFyymgqXaqUFBQUjXSV8OlgpfO/94qraEmEj08fVrUd1RXJQwhiqKiEvatNfy37YkYS4FFQQhjKypUmzKmqMh+X/2xFBjfrWtEXY44X14N1lDpkUSG81KHq5GS712N01XM/7dkyW+dm2g9WPesiCji8hASB932K6gUPww3mDzTmvcug2gsEdHtsfTI7jHqFEnI5aW7XTPrnp3kv/pn1p/nC+t05MZq3Ik0u/Y0VcYRWfIq9JXklw/Ul6xv+SYUdfl0WqetW6cYYdIM92NuedI6TZYQvtrpsNA/WfKzlx+Axg/DEJVj5TCtHRWTBl39xz9ZWu2gfuukK//3ucOUZLkAhv3sPRGrp+/8GHWqBmuq9IQP/5256nwSAdXg9z4xqPM36e06tMQv54ZeXjSvTbMj6wepfvip3rBNG9owP06veC/8zl259Sw2pVSzhbntVPvhnTXkXxDkhLm7XA1PK+Tm5LP1+0xzdOjVopYeXYQo/da5M35PI7NEzTp2t5o0bXRLlcrjpWkvb3hcv/M8Ok+t9QA7G+k3ZoodJ62fdsTn4NPcK0ecF09eq0+VL3mo+9lLd0MTuEKGTuvuo6bMGGKmVra3EalPDzlMWxWUJTV86bZt0zO6kvmMRaN1v7DrNEkQxPssDFNS4VAQIqUFYf4XvaKMly/u8vjE7tMB2X2mb/9zlGHZqJxHHmev+oem5AgVNVv3s54yZZSZ4scnQ4Kcl9evXr8fFM1ntv5tqi1RMRfuoyvO92KKpCSm1Wmi41hTiuS127+X47hiEiFlk1ELpnSm1VKUX7O+pCTa5WzM6NXnf9d4e+jCrpjbR70jZ8wwp1Uu5+qTnTS1mcu8aTtvvaMovzy5Y5MWVan/pEUD28jmJHr94Nz5609jU0X67bpZj58+uKPKh3XkxT31cr+aNHT1yo7CJy5nrz6KyNPvZrdooY0243PlJciL8nF3S1WbvsiulXyL/Xy0a5sXAA0ObeBsx5vnFgYV3D11/NmInb0r7dnEK/fjMQYOB3oyb35Ud31RrfK5Xf4ze2I9Kk574HLWK+RVCq7Vro/V+MmjOrKxSgeUMI/zV5++KyzKzUdtLOxm2w9pzqyfI04dqkEkzHu6Y/ZHlZ7lxKmiW/PsV/kXSTn33baLn1G1zSfNGt2GUsu6EAXJT6+5XRW0X+M4XHD73FmvuxECla5/LF7Uz5jxmeCTkrzn/u7ez1XnrpmkXVH20tRQj3OX/CMScqQMzfY9rKf+b3RrNXnhfH5eDUrdL7bx0y/ZtChr/MQYHQYt940oqPmSad6j9RO6Wk1xuh+RUcyN3PCbFk7TcfwnUtZvL/flof4GnFEr7xeKSXHRi9VDNTl6E24lyzv1SSOPDad+fNWZG3dh2jCbjUdvPAl6cH7PBAMmpZnpzDsVPym65WRjYDDooNerfH5R5K3dQztqsii19H3L9JujRUUURpfTL2u8cC7229AFRwhXGOiZKpuRNM5vdTd9Y4edt1LzSlIjfTdOMWXSdX7feIf7frzkTbD34YU9cERpP3zTlWvXvG6GFUg+1+/w73GqCKF2NidLKl3sTvZ1bE5FGK21U2Cy79Glg02VKRhqNWjHyTWDTfRVKBhqOcApS0LyM/zm9jfoNnLn4zd5hVmR7vsnGynQ2g/aGJpVMcvMZ/sHtDD4fYNXfFZpbsKtNWM7qipSKvUryr+0sD2OKD2neQjLOx7leq7pScU+WqRPF+WXru97GXcXteuyKq6UJCSv1wxUwRA+wNHv4yKqYbJpycEe5xa2Z2FMjWF/u1+75nkzOlNS1ms+7t85wyYvOer/KCjAY491GxZVoe0G9xSCJIvjvdf+0YODIwrTcs/ZDUN6WIyaMLaHsSKG0Sz+d7ngE+X1Nu3e3qWjW6rgGKKNWvtMvjafj3Yd5gVAQ8KN3GLe2jGcV3DKoQUFIQWdKQ9yKiopQhT+Zy+D1W65kpKLg9VwhBjzjud8GFmXWqVKDf8Fe+KnO4k/dejIQog6bMn9aj1uJEFOA3CE2Nr/C+bJ10L47MKcYbaLXW48fvLg2rqJbWgU9kB79+zyOZXe+8e2OafLP/dypCT57sW+nhr07nbnsiuW42uOOF9SDZK8tKqVXlR68gPv8//rwcYo6tM3vR90JyyT+Oy6EJL4iztmdtTAEaJPWu+yZGSPgTYTbCyNmRimYjT9/vtatIbg54sybhxZOrT9+8NNc7M18m5PhDTz4mpL/Za2x2694ZZkPfPdb2OqyNG1+u9OFkHWZV6NtLf1+2Nt6GFrE0VZGooz9MYuOvO6oEqv3oTdY/TNRp6QH6ATrk5TxeVbTMmx/+lQKCry3tnRJ0fQMObMA/Ku+FWzIqkgeEFPvXlHkz58Ie+/afoYwvvO9Crr9C197emgwzTeebNiOd5cna6Bf2NWRCZemMDAEEYzOfhAUNaf7t8+mvTBCwJKK3bFiOWWKhil2cKTCbJ+alEnRlAR3s/Bpw79xKtnRdK050d/M2FhGHOQ43XZ0fT1hQkKFMTW6rr1UqJIkOS2b9U/1xIk4thN1s3UTeaHF8p3csGdXZYMjGI++mRmWa1QmuU5rhVr4Jyb8npAmHvV1pBWubd1vMsYWqX6iyTJt94zVfCKRaqtKL9ofd/nw4entvrD6XVZrKTR58Yr4YihPsrvbdUdpvpkhVnHLTiYkr59KL8i9/bd1LPTiKPyqir+ylRVHCnp/xHMLdssBA9ntGNiFOXBDi7JJWUVTerJ/lpUKme4b4aE/GR5lbotNKFUqosJSe3Rrsu8AGhYWdELPpkfuqkti4Iw9vR9MfKuuKm+jq07LovmkzVlRbXXKjWe99ZlT6xDVoR3+m39qdNVOG+aalolK8oJ3thBz9o7qXzCorzLI/RoGK672avwfRpV7GGrQ2OoT3pS/v2cHSNUcPYAj8Ty0+OvO+J8aTVYU6WXvX2EMobrbvOpmM3n14UkhR7L2uGIomdm7xNdUpbcpO0c1YyCKcw7lkF8+rCVeWehDq1yViR5/O9wDr3V3oCK+4DyInaaK1PYzUfeiBfXcV6Nr7f1e827zPMMfvTvsiE6bEwqTPc4+EffXhPdnlf0F8sI2Pe3r3SswyStD9cXWoxcv2+lg+OiyS0YCCFG254WXboN69q2vMFQQUGBgiTv3mZ+qgkyyevA+YhmxjqZz4JlXqsaGuKY9OVtrxgBIiWR/+50FRmNHjWg4opa806d9JjfehWZzmbRKQgRAoGQRIjvdehAcIHOsDEVD2+gMDrO+XMEB8u6sPefWMFXziUl5PDvEydNHGdr2bVFm57zgwVdljjdunJ4pEpZ9JQ0NRUpSL3FmP+Na0FjGE1ctnPBaOOsOwePBuSaDRnTniNfR0bf2QsGaVNe+ux2eyJESPL42E6vFP0xvw+UtwnTVMzaGzE/7j1QvWMipfKg2oryy5QkXbr4uNPvk43LNjhK69H2w43owvxbZ87EfMVlcnHB9X+ORbRop5vwvHyzyFAwNGBSSjL8A95HAGE4h6OEY1SjSXMnGSq8/wlLu2fnlgxpaXLS5/onUTW11CoHITOw1mh/9bwA+KWpmNvPGKqJkXyfE/9Flcguk2W6nrjVd6ZjG9an+iTVUqvUvWtHlT2xLpc9st7c97xWhefdiJyPa5gCt4MnCrXbMzLL646w14pGRgwkfRfg/ViMEIXZqmdfc4shA3RpsvmzFRRwUpyZkSkpu/71TUec+q0Ga10XhCgcZSWE8B6j5g0zVSgrjeY9u7fASGFKQvJnLvuxNDVVK3Ugl/IDD/19h6I3dGifimdHqXV0nG3bvPSd7z+Hn0i+YV4Nul/Rh3RBxWzePv8J9pc3LFx2MjAtO+7KTBsu5u89sRMDIeEjn9u5WMv2HSp2Gozaeub2E/LZWc51D5kr6yr07uE1F9dz4RJECksFn+jULHgc+JSHMYO8XeIrOs10cHDsgNHa0kSo8M11/4jSZkM6GDI+v2t+sdKSEhGBMLqGpiZOCMPuPHhL4h2aN/soXPr9rTopXXqcdC8oVtzOnPYVc1E3Gjj1dwuMwFkKKjotTNubaNGq1SdMJRXFivURhQQ8zBFTtHSaV+5ERFMdaNmVc9M7+UFgzMI+FK8br0jGwHbt6d8QlFqL8otInri4MIZttfiw1FRFq5lTOl7bFup/5mjkwn/NFL9scrnBgSE5qEWU19niijD0nja7N6LqK4gQqqmbGsZmMd7nuWLx57uaVg5T7dFeZGn+1fMC4FeGUfR+nz/+oO/hd28unPZYtX+6dlG0s+uLPoeOt6Ig9L2Pc19ei1PMbbZ6OFV5MqQ0+O/BFkvvVfRjKg269yRXxIy+6nKmYgYdpjp2QKqmChIS0agd17o9WyvrU/nu+WUX12vhxYjklJ0eo8Lobzni1HM1WPu6YDXVTez31aOktnrwo+TrRUBQmkips47qR0c51QFWXekXvCPvB6SLLI3oXzuvRpAVyWiaTjjiZ2Gxatzcv4NKsgI2r3Ie4D1XCy9OTMwlkE4tm0Zx7KXDf/tGKw2fOmfJ78/P3Ez8ZPJPFKWlFZCUvo67jgyu6cwhJTYmRUC2ZbLwer7DQBQXHS8hkYJW506taaQkIzNbhEih4OPkjarUQl+TSibmZWdLEaqaFZHSpPXDuuy+XyIfwlCfeDvxfO9KnfoUNdtZjxqr8AULL8nIeH/qU3VRkFKLFuoYKszLyiIE3NhEAUZlMr7pMdl1Ksq6LnRJoPP5iMcZYzXOVQ6QmERYQYLbOc91naY2/5ICJPLT0rlS1GvcrkMz1b7n3lF7tOHYCRox3YFzp/Q85/Qo/8rhkwsnLQ0+7qo34XgvjZ9wP1dJ4oGBXVa84Ml3RKyL3cWH58fTv7RmL0rLyJdo9B+3/8jMz1S8ObGe//zt9o5jMcNx1ejQsw+SyocXfsMRp76rwbquy7crzczIESNlkUD8cYuWmpGRKhXx8rK40ka12df1yJkTdOKW0G5qf05FHojr/L77cl66xdJLqW8e34wsnGOlIpFISVKcHB8vRi1qfjpETsTxPyatp1ifczk9VAVHqZc+X5iEVIoIUXL8G8ngnjU0xogFAgkiS/JzeVJUj4+jIMWvbt5OIBDe9bfx7dkIK2WxmRRS8jYlRYi6VloMjMlmUBBFSZlT07wx5X6TF2G9K7YXnNlBl/aNGy+FxWYgJH2blCJBXSvNVfYUEIyjqkxI3gklSCrMLygikNJXBoUkai/Kuicxrz1PRehtTYxZrkOtnDWmbLPputEv79pxl8WTVuh9SQ73frMgJSnxb6So5/d8QUvt0YYDJ2jMzUVUU/u5w08+dU8PO3XyksYzn+aOt3rQfsaS0FS6T1+8cnhFbYppdGiLf03NJpWSZF7Kmwwxal1zSsV7cHzWH+vj5p/z2Ty0OYb4z+vniFP/1WAd1qV+4O8PgIj7NilbRBrTscrDGRgiOapsvFFt9nXuVySJO7TlePrH3SQwit6YsRZMDBESsZRAGEXFyEgNk771dQ/kf3xy/faZb2imlBCFbJq5LCC779J1Q1TqEEeMwtHT4yDxa6/LQcKPR3GjXc745Co211bFUUZUUFxJPT71UPri4vaL4Ty6+pAlfw1mIoQxzDqZKiCiMCwo4qMAEAUFRRK2RrfO7ak1LbzaMPtNWyvZtNbO4FtrFLpZZ1MaRiSFPU0WfNx8UlBMUtS79GyPM7Wbq+GkMOpZcMmX1hiVFr6WovyCiUpfnz3xeODkynd4yrJqwymzflPByaSgU1effFHPLIqqnq4SLgnyco/9eBUJUfSp/24U1duJS+3RhgMnaGRIgiRJ4kOjAMVk9IIxbZmkJPXvBatK+swd1pL61bXKt2CoWfz5UW26ZZFdh684FtM5etrK1OxYT79gXpWWl6fn/gvKkeaF7J612J1juXTOkBpabr76iPMdqsHa16W+NgmVjuYmihRBwfPQCNFHsynIL5ZSjLv0MqA3yaxIsYUxJdRpt3Pcx5EmiotLpAjTad/bhIMhxLQcMViDKn18bunuKxUdrPKinTeeTNXRxHnJ9x7H8EhS/kQtorCwSFp2H1zF1vPRxsa0GNRbkSK+fWzxsbu58jH8tBsr1oSa9lZX7z64pzaNn+Xj7BJPVBwahWISEVLpZ/qvvd/ta96qJdE+q6YvvV5Ea7P6+EnbsioAo+iMnzZEGZc883aP41d8tSgu5FUO1v93hy5lD3elM+gUjBTw+XXYXcQSaXmbRx062VUOCcV0zNT+2tTcN143g0srNW7FhobnaphOnThUicLsbtWvOSJyrhx1yahI4oQiMYlQxfxwGg3HyOL83A/PriVy0t7yiPeLVDaglqKs+/pm3Dvi/sZiwljd6lVMC+s/fmvJIMXx549cK/wwj+qTxegMGoUiLuULP0RCo+eg7pp4dvSxtVvvynMgUpp+ftWaXH0LDv6JMH68oDUuP1m2WXz4au3R/mSRkXB4BQ2ShMcr4fHk+xrO7jPbwYKBkQKh3tR5NvI+jqRELHm/s5BSqUS+sddWq1Sv4eu4J9ZyHispm3xFLle5qhVLZM0q5bs0q/dACw1SFLd36ebwXHnFJo2+sfKfUP2OGij2/r2EUkL+1EeSKCoskpAfpv3VR5wvrQarV3oI0Rh0HJF8Pr98PrWtS53qwZqr8Q/Rl/3H0h1nN6w5Eid4Xw4SVT5WhrwoxttMth/GbFz1IKXOqXoLA9Xco0vHb3CJlD8DvvRdwL7D9ySM1nM3zpO9OsfAeuVSG11S9HrblG69hv6+dO2GpbNsLMdds170hzYV0VS01BQoogL/XesuPH3+8MLBZZtcE3CMSI99HhYaGJogQYjkcotJRJbyeGUlT2k9ZvmMnirSkrBltj3HOKzb9/f+DUsnWwzc0tpxTQ81jKZqs3SRpQLinl037q9//F5nFmfH39q75WKygCxMDTj2z+mH0TW2lxB5bzOKCUQSxQX55YmDmJ8Z4u+8fEpvizF/52nZHLoWsK5iC6aYTtqzaWJL7uuze/55ISzfExJO7Tgj7Lh8x9q+skRZSU9fnUokBPs8SSmICTh+7eknm2pISfrbrPdbFzcjOevTHdHE7+smVMrNrdz4wWw+effuCc0p8f9tPpRQfoYgCr2w43KC6cbD69qxEUKqE5Yt7KaOxQasnTrrn/sRmUUFCVedtnhGl5KStOsnD126FS1ASNWsa1sFLC5g38Z//UOeBZ7cPmuLf6k6DWW8unkl8FVeaS1FWcf1JUSRB7ecp5j0NK3p1dAUVu8BFhoYIsKv77kUUp52VJ8sztTX1aIKC4P9bqblpgScdHmKNMYumdeDiXjX99paDnfYvOfvPVuXjrEYcIV0dLRWLcuQ3qfrJCkWiYgPMc/JK5Aggi/v2V/T8hMF+VwSEcUFhURdo12neQHQQBCpLyIy8l++jJQf/vBu0+cO1ae3tpwztntFH+OS5KRMIYkQkZGSLM8Gaq1VqtXwdd0TP5cT8VIz8yQIEVlpadXeTyJOT8siERIVp7/NJspOcTUmL5vTQRlLe75vaM9hf67b47R/6/zJfcZvJRetslbAMDUtTQZGvrq1d8+FR8EPPXYtW+abIEXS3Kjn4UF3nnzdEecrqsHqlZ6AZOnra2BE8SPfm5kFKV4nXGJ5n1+XsmaLopL353Ei0YfASHNzCxAiBfzyUNVYjYsKCookpKC4gCeVXTpo5rB7t7Ux9d7Zje7h5fVgYcL5vc7xtn/9Z9+XVd5EUtu8Gk57aV1fLxq3YoDx0EnThvdq27GH9e/2c+1//62tFkOrlbWTZ2LlZ2eJuSG7/uiuIrv6iDHaDVjo/bJQ/hSKgAO2zRgYwjAFDbM5OwJSEk4O0KIijGpiue7Rq0fHtzt2L+t6w1A1n7P+8JMEcdnTX3wWj2jFkt3gidFadJ16KjBdWvFmu+xrO8cZq5TdR4hRtNrYnfXa2kVFo/sw+72n76QXVX11aWGsx7pFk810ypePylLXM9DT1WmupaVj0qm/nf3KU9cji2t6RIZUmHhuw+iWGlrdh/+xYs2i8YN62toffpUrqfSF8NWDmlEwRKGqj111m1vzczbEz65snjnGTAmXLa9yjxGOmw7czBJXeV3fW+8jfw3voIIhhOHNRjhsPn0jutLzJIQvr28Y0k5Dv92wOcvXzJ06qM/Ama5Pcys9E0KacHfnMFPVsphhVAWTxUe8lw5Q1W8/dOGm08HxstckFvntH6lT9k47nKE7YYVn3PPN7dX0BoyZv985IL241qKsfX25kefthxrTMISzWo6fu+V29EcPNuK/Ddy32r6bnqynFaZqMGD1f094RI2TFQbus+LgGMKoLfusDCl7gBIhSbu4YYS+UvlmoaDR5c89gbli2TPQ7uxeaKVOfb+1tLf686hXbFH63V3zLdXeJ3OUVr0dTvgmVF/+9ITAf7bN6tIML7sxtdeirafDy5829Llo13FeAPz6sp67LHe0baWGI4RpGA+at/rkq3zZZi68sX7Yxqvl7woV5D46sMZxUPvyIzxNqc04h9VXg2VPsvlcrfIm4WmNNXyd98TqR6Ukt/3LJvQzkN1FTqFpD5606Mj1eNnTgBLvH13qMMxQiVJ+pcp8zJINl2RP34n22dC/FYdS/iuNQdP2hKSLP7xrNnSDrRH1/TGKbmg24XhASuipUUo4olA17dYHfsUR5+uqwRorvbzwfd013w9iafQ6eDuL+Oy6EJI0r8OLeurSEMKU9Qau2uuVxk/3Pjy/W9lJLUuz19K9vtWDXyBM9jq+bUrf5mWvCdW0tt965WFG+aEz8fqS0e00tNqN+WP5ykVT+/cc+Nfhp0USsu7zaiiwOrdxSeIjojXad1LBUUlWdOiLN3mlbCNTs3attZg1tTfxsl9HxReotujQSrtq7/iizOj4bIW2HQ3LXpCKuG8jEgs02rXTYX6u3YrIT4uOS+VrGJka69bQhVjKy3gVmcin6XQwM1aQZmVyVXSbfZenjBPC7NhX8QVixRam7XWU8WrnBHmxkW9IjfbtDJW+/30awrevXyVni9X0TdsYKtdYCCnRkWkFNMN2Zvqq0sw0roZ+syr9mnh5CTEJfIN27bQUcSk/J1+splltpT5TlN9pfWuarOjdm8hUnkaHTuWbTfmZYHFaVFQqwTFqa6LLptbLjL462gCAutYqP7XmlF0jKk6Kisoq5RibmjRTqlJ38FOjo0sU2piWLwwvKSJarNG+tU7F/cM/5IhTQ6XHz3sT9Yan166TNodSt3Wp32oQ8bLfRMdnIUX9du0NFfDGuQFj0AMCAAAAAOCL3pkPAAAAAABZEQAAAAAAZEUAAAAAAJAVAQAAAABAVgQAAAAAAFkRAAAAAABkRQAAAAAAkBUBAAAAjV1YWBiXy4U4AMiKAAAANGkkSa5bt87T0xNCAaqDZ1sDAABoQjIzM42MjLS0tJKTk3Ech4CAyqCtCAAAQBNy9uxZkUj09u3bsLAwiAaoAtqKAAAANBUikUhHRycvLw8hZGdn5+rqimEYhAXIQVsRAACApuL+/fv5+fmyz9euXSsoKICYAMiKAAAANDkkSW7btk1+hUQkEh07dgzCAiqDK2gAAACahLS0tJYtW4rFYvkQHR2d5ORkGo0GwQEy0FYEAACgSTh16pREImGxWLJ/ORxOZmZmUFAQRAZAVgQAAKAJ4fP5d+7cefLkiZ2dnWyIn5/fiRMnDh48CNdMgBxcQQMAAND4CQQCHMdpNNqiRYsOHTqEEIqLizMxMeHz+SwWC+5EAzJUCAEAAIBGj8lk1jiczWZDcIAcXEEDAAAAAICsCAAAAAAAsiIAAAAAAMiKAAAAAAAgKwIAAAAAgKwIAAAAAACyIgAAAAAAyIoAAAAAACArAgAAAACoC3jjBwAAgF8USZJpaWnu7u4pKSmV33X/LW7cuPH27VuEkJWVVevWretrUdXV1YcNG9arVy86nQ4FB1kRAAAAUJ+Ki4vt7e2vXLnSgI5T6urq165d69u3L7xYDbIiAAAAoH4UFRV17tw5MTFR9i+O41Tqr/viTpIkRSKR7DOFQjl8+LCjoyMkRpAVAQAAAN+KIAhLS8vHjx8jhDgcjr2Dw6Chg1VVVX/dBZYSr15Fnjpx6nlICEKISqVGRUWZmJhAUUJWBAAAAHyTu3fvWllZIYS0mjVzu+zWvkP7BrHYAoFg6aIlVy5fQQj179//7t270FzU4MA9aE2dQCAICAiAOAAAfh0uLi6yDytXr2ooKRFCiMlk7ti9U1tbByH06NGjwsJCKErIikAD4+XltWjRImgyBAD8IkiSDA4ORghxlJUHDxnUsBZeRUWlb7++CCGpVJqVlQWlCVkRaGC1z5YtW2JiYuLj4yEaAIBfAUEQJSUlCCEmg8Fkshrc8isqKco+SKVSKE3IikBDEh8fHxsbixA6fPgwNBcBAACArAg0XQcPHiQIAiF0/PhxPp8PAQEAAABZEWiK+Hy+s7Oz7LNAIPD394eYAAAahKys7Plz5hcVFdU4dsPa9Wmp6RAlAFkR+AIeHh4CgUD+78qVK2XtRgAA8Kuf1PF4N7xvCIWiGscGBt75VMIEAGRFoAYEQaxbt67ykPj4+Li4OIgMAKChu+B6sYVxC4gDgKwI1FV0dHRaWhqbzZb9y2KxMAzbsmUL9LkGADR0TBaTQvno6JaSnHLb//aL8JcSiaTKl3Nz8+7eufv40WNeCa/KqKys7Nv+t+8E3uFyK548VFhYGBYahhDi8XiPHj4qLi6GgDcmVAhB07Rt27aTJ09269bNzMwMIfTnn39OL1NSUqKkpATxAQA0XJMm2B3+70j7Du327d4nlkgKudzw8BcqKpy01HQFRcUz587o6uoghMRi8f69+93d3I2NW4hE4szMzI2bN9rY2iCESktLt2zccufOXUNDA5FI9Pr16+V//TXT4Q+EUGJC0s7tOx1mO6xfu15XV/fAoQNQZ0JWBBo2kiSPHTumrKyck5MjaxxiMpnt2rULDg6ufiIFAAANi1gsln/wuu7lMMth87YtDAadx+PNtp/19779+/7ejxByOXPuTuCd697X9fT1CIIICwtfMHe+rq5u5y6dXc64JCQk3A70V+IokSQZHRU9bvS4YcOH6eq9T6fycvOOHz1xxeOKnr5elUYp0NBBcTZFGIYpKyvLP8vf1IPjOIPBgPgAABoNdQ31aTOmMxh0hJCCgsKUaVOfPw8VicR8fukZZ+dtO3foG+hjGIbjeLduXe0d7J1POhMEERsb5+A4m6PMwTCMQqG0adtGW0fnzZvXsmlGRb3avmuHgaEBpESND7QVAQAAaLR69uxJp9Pk/2poaEilUpIkk5OTS3i8oqLCx48ey8fSGYyw0DCSJHfv3YXjuKzzEJdbGBYampaWKvrQBNWyVes2bVpDbCErAgAAABrUQY5Gq/yvvGk8Py8vPy/vwH6nKq+1b9nKWCwWFxYWHj1yNCY6hkrFW5uY6Orqamtry7/D4XDgZfiQFQEAAACNhKKiYrPmzd2uuCsoKFQZxePx7WfYDx0+7NjJY0pKShQKRSKRuF50haA1BXBNFAAAQJNjYGgoEUuSEpMqD/T1uTlr5qyUlJTkpKR58+cqKyvLeg7x+aU52TkQNMiKAAAAgEZIVVVl8NDBG9dv5HK5siE5ObkH//572PBhbBZbKBLFxZX3rS4tLT3090GhSAi36DYFcAUNAABAwyMQlA4dNETWJ7qyy1cv1+XnGIatXrt6wdwFo23HWPbvJ5VK7t+7P2DAwJGjR+I4PnrM6GlTpg4bPgynUF6+jBg8eLCdnd32Ldt0KvUuApAVAQAAAD+fnr7e02dBNY7S1dN1u3xJU0sLIeQ4z7HK2E6dOrq6udLLumCrqqo6n3UOCw1/HhKC45TD/x3p0LGDLM3asWtHWGh4cFAQk8WcMm1q27ZthELh9D+ma2tr4zj11JmTUASQFQEAAAC/BBqNZtzS+NM5k77sg5qaWpVRTCZTT19P/i+Dwejdp1fvPr2qT79nrx49e/WQD2GxWK1atSpPvHR1oQgaK+hXBAAAAAAAWREAAAAAwAdwBe0HIUkyNzf35s2bycnJBEH8Ikslf23+9evXf6lwNWvWzNbWVldXFx6VBgAAALKiRoUgiFWrVjk5Of06+VAVL8v8Uos0f/78sWPHXrp0iUqFrRSAJoRCoTCZTNkt8SXFxaqqKg1r+bkF5bf6Q93VIDc/CMH3RpLkn3/+uXfvXtnLd0DdXb16dejQob9sKgkA+B4wDLOyskIIFRcXe3l5kyTZgBY+M/Pdg/sPZCmRjo4OlGbD2/wa1gbXEN27d0+2hyOEevXqb9HbCl6zXFseiSIiQ/xveyP0fuM8fPjw3LlzISwANB1hYWHdu3cnCEJNTf3k6VN9LPpQKA3gYjq3gDt/7rzb/rcRQqNHj/bw8IA+AJAVgars7OwuX76MEBppO2nJws0UCg4xqQtXt2NHj++V3QSblpYGAQGgKZ0akWPHjvX09EQIKSgojBs/fvhv1hwO55ddYIlU+ioy4ozzmfg3b2T3/8fExBgZGUFRQlYEPkIQhJGRUVpaGpVKcz7h3cLIBGJSR3x+8ahxvQSCUlkVCQEBoEkpKiqysLB49epVg1tyGo3m4eFhY2MDhdgQwaWc737GQxAEhmFsNpvDUYauQnVHozHU1dSxMrAhAdDUcDic0NDQ2bNn0+n0BtPMgGGmpqYhISEjRoyAEmygoIc8AACAXxGdTj969OiWLVuePXsWEBCQl5dXL5OVSqU3btxo1qxZr1696nFpra2tO3Xq1L59e+g5ClkRAAAAUP8wDJM9vczW1ra+pllUVKSjo6Ourn7u3DloigaQFf1osutB2AffODWxRPw89DGDzuhs3hPDajgjSUiMefcuo7N5TzZb8csm+/wRk8kyN+tR42TjE6KzsjI7d+7FZil8flKpaYkkSRgatPr22hDDoN8bAKCeeXt783i8kJCQ9PR0/Q9vTANABhr6fsS5juzoXi9KS3lbty9Zu2FOTu676mOFIsG2HUs3bJ5f49gq7t33ffjY/8NkS7ZsW7x2g2NeXnb1bwqEpVt3LNmweUFeXlYdJuvjH+BZX+sL/YoAAPVIKpVu3rxZdr66detWOO8CkBU1Bmy2woOH/tWHR0WH5xfkKinV6f7VNwnRCQkxlYewWAoPH9cw2VdRoVxugZKSEkQeANCgvX79OiEhQfb50qVLpaWlEBMAWVGDN+K38Xfv+0ik4irDb/i4WQ8fx2Syvnqyd+76SKWSjweTN3zcfrMeJ3sGPwAANFzr1q2TPy6/uLjYw8MDYgIgK2rwunTuzS3IS05+U3lgXn7Wq6hQqwEf3RH6Kur5mvWO1rbmv43svGHz/OSU9z8pKs7f57QuKOjeo8eBe/avfRkRIvty1y4WuXnZKanxlaeQk5sVHfNiYP/f5EMSk2I9PF0+yptIcs/+tUIRnHUBAH5dBQUFvr6+lYfs378f3ikEICtq8JgM9oD+v/nd+ugs5/4Dv9at2mlrG8iHRMWEbt/110jbSW4X7p07c8usU/ely6eVCkqoVLpJ6/ZqapoaGlptWndQVi5/+SKLye5vOdzP/+PJ3r/ZxqRD8+YVfRLfZaU/C7lf+TsEQfj4ukkkIigaAMAvy9nZWSAQyP/FMOzly5dxcXEQGQBZUYNnNdAmOOR+Ca9I9q9EIgoI9PrNekLl73jfcB8/bkavHgM5HBV1Na2xo6erq2vGxb1isxRH2k42MWnftk3HUSMnGxm2lv9ksJVtUPA9Hr9Y9q9YIgq44zXi48kCAECDI5VKjx8/fvDgwcmTJ8uGuLq62tvb7969G/pcAzm4M7+hMjJspaKsFhb+xLLvcITQm/jokpLiLp17SyQVvYKmTnFUVlaT/ysSi0oFpfn5n3sSWgsjEyVFTviLoL59hiCEXr+JFAhKzcx6isViiDkAoOEqLi5+9uyZsrKyvLd1586dJ06cmJCQILvdFUIEICtqwCgUfNjQMf63r/ezGIZhmK/f5f79hzMZ7BJJkfw7urotEhKib/pdTU6JZ7OZ2dnZIpGwDpMd63/b06L34PeTvXmlf39rJoMtFhdCzAEADZeKikr1gRiGtWrVCoIDKg6CEIKGq09vq8TE2KzsdG5hbmjY0yGDRlYeS5LE2XOHDv+3Q0dHf9rvc2fOWLZx/SEtTe1aJ2vRZ9Cb+Kic3IwCbk74i6DBVrU/UpYgpFAcAAAAGjpoK2rA1FS1TE3NHzy6raSgpKtjqK9nXHlsATfP49r582f9OUqqH/IkUigS1DpZdbVmbdt0evjoNpPB0tcz1tM1qn52JZV+lAblFbyD4gAAAABZEfiZrIePPXFyPwWnTJrgUOVNHSJRqVAoqPyewojI4OTk+I+TG8knJjvu9JmDJElOmexY/QUg6mqaCQmxAiGfyWDLhnh5u+E4DsUBAAAAsiLw03Rs343P54nEom5d+1bLXZq3NDbZ57TWboIDjuMvIp69fBncp7dVcMi9Tp26aag3026u53LusFRK9us7RFfXoPJvO3XsUVRcSBDSrl0sqs/U0KC1urrmgUMbR9n+Tqczgp/d5/GKtLV1oTgAAABAVgR+HAaD+fvkORoazT78y5o7Z5VEIlFQKH/LB4POHD/2DxVlNRqNvnnjv1c8zuzZt5ZOp/fuPWDF8t08XpHfLc+iokIN9WZDBo9mMFipqckYhjEYrKlT5qqrl0+WyWDNc1xNkIQCW0k+3/FjZ3I4qrKZbt18xO2y887dK1VU1Pr1HTp/ztqz5/+hUmkIIXOznhIpdDMCAADQ8MA7yb8vqVRqYGCQkZGhrKzictpPTVULYlJHEol42ozB6W/TZD2iICAAgHqxaNGiQ4cOIYTi4uJMTEwgIKAyaCv6/onnx+/Mh4DUkfyd+RAKAAAAPwbcmQ8AAAAAgKCt6AchSVIkEgoEAmj5qDuCIEpKiqF1DQAAwA8DbUXfOb4UiqmpKYZhQqHw2bP7JKizFxFBRcVFGIYpKSnBhgQAAOAHgLai7wvDsOnTpwcGBiKETjg7IYR69RpAozEhMp8hlYpfRYX+e2SH7N9Zs2ZBTAAAAPyIozZcofjexGJx9+7dIyIiIBRfgcPhpKSkKCsrQygAAPUC7kEDnwFX0L47Go3m5+dnamoKofhSzZo1e/ToEaREAAAAfgy4gvYjNG/e/MWLF15eXgcOHEhLS6vxO6WlpSwWqylEQ1yGzWZ/5juamppz5syZMmVKE4kJAEAqlaanp+fk5IjF4u86o7CwMNkHT0/Pfv36fdd5sVis5s2ba2lpVX75EviVwRW0X6U62LNnz+rVq5vCyiYlJQkEAmg8AwDIEARx7dq1pUuXpqamNr61o1AonTt3Pn78eOfOneE2ZMiKQJ28ePHC0tIyNzeXTqc3+pWdPXs2n88/d+4cVBAAAKlUOn36dFdX18Z9MKJSqdu3b//rr7+g3oOsCNSCJMnRo0d7e3t7enqOHDmyca9scXGxjo4OQRDv3r2DW+4BgNrvzz//PHz4sKxNxdy8rdXArnp6zRvH2hEEGReXdDvgWWJimmwFPT09bW1todwhKwKfU1hYqK6uThBEmzZtoqOjG/eZhLu7+6RJkxBC//33n6OjI5Q+AE1ZTExMp06dJBIJnU7bs3uRo8MIGg1vZOvI5fJWrztx8tQ1kiQ1NDTS09MZDAYU/S8L+n/9fGfOnCEIAiH0+vXrlJSURrymBEFs3rxZ9vngwYOytQYANFn//vuvRCJBCC1e9Ps8R9vGlxIhhFRUFP7eN79f3y4Iodzc3GfPnkG5Q1YEPkkikWzbtk32mSTJnTt3NuKVjYyMjImJkX2OjY2NjIyEDQCAJoskyZs3byKEmEymo4MNhdJom8mZTJqj4xjZ58uXL0PRQ1YEPunBgwd5eXnyf8+cOcPj8Rrrym7durXyv5s2bYILuAA05XPC/Px8hJC2tpa6eiPvZWjSqryzVG5uLhQ9ZEXgk6dKe/bsqTxELBZfunSpUa4sl8v18fGpPMTPzw8qCAAAVqZxryOOw9EWsiJQm3fv3gUEBKioqMj+VVRUZDAYGzZsaJQtKC4uLkKhUF1dXfavkpKSUCi8ePEibAYAAAAgKwLI2dn50KFD8s53HTp0yMnJGThwYOPrcCOVSgMDA8PCwi5cuCAbcv78+fDwcF9f3+/9HFsAQKPB5wvPXQyYs8Bp1NiVc+Y7uV2+x+MJICygHsEbP34akiSXL1/OYDC4XK5sCIZhioqK586dE4lEjW9lPTw8cBx/9OiRbIiioqKZmZmvry9sCQCAutQhoWHxM2ftaKalNnnyEHX17jk5JSdO3di67bTrhc0dOxj9rAU7c86fyaBPmjgAygiyIvBNMAyr8akVnxresLczas1bGo7jsCUAAGqVmJQ9YdK6FX/9z9HBWn632sz/Ddu45dyoMStDnzmrqir8lAWLiUlls+F1jY0HXEH7VU6Dms7dWE1qZQEA344gyLXrjw4b2nvu7N8q38BPoVDWrZ6iosJxuXAbogQgK2o8msItGE1zZQEA3y49Pef+gxfz5oyuPopOpzqfXNWnV1vZvxIJcfDfa6Ydp9NYloYt7VasPl7ALX/WybXrj10uBNy89bx33/k0lqWe0fgVq0/w+UL5pF6/yZg4eZOy+nCWktWQ4csD77yQn8jd9A8dMGgxjWVJZ/cfMnzZs5DXCKG3GQVTpm26ceO+h8ftKdM23bkXCiUFWREAAADwfUVGpykqMk1a69Z4lmVu1rJ7t7ay9GX+wkOX3ALOOq/jF925f+ff1NQsm1ErS0pKEULRMalnzvo7n/Y9dWJ1afFd7+t7fXwe7trrVj6LVylDrZeYmZkkvblSkOM3a9boKdM2PnoSjRC6cy9i/oJ969fN5BXeyc3ymzB+8G+2y/LyeYqKDFsbi5Yt9U1MjGxsLAz1m0FJQVYE6gdcQQMAgE9JTEgxNjZkMmmf/9rjp7HXr9+7fnVHj+4mNBrVyFDzrPNqCoaddim/vhYfn3j40MJ2pnpUKt7ZrMWGDbO8vO+JxVKplFi99ujvU6zXrJyspqbIZNInjLVY+KfdwUPuJEmeOeu7eNGkQQM70elUjhLL/o9hBgY6YeGxyhz2ZLshpqbGHTq0nmI3pGVLPSipRgB6W/8SmtQVJbh8BgD4IgRB1KXauOpxb9KkoZqaHPkQBoM6e9bo4ye95swagRAaPsxCU1NZPrZlC00+XyiRSPPyi15FJf1zYLG8dsIwbMG80dk5xQihLZscVFXY8l/x+MJCbnFhYRGUC2RFja3FIjY29vLly2lpaT/3NaUFBQVsNhvDsMTERHt7+58bFjqdbmFhYW1traamBukLAOBXYNzSMDnZUySS0Ok1HLPS32anp+f27GEaE5M4dsyAKhWXuXnrgoISsURa9vBYhcpjqdTye2DT03MpGNG8uWrlHypz2Mqc98mQoYH6g8dRgYHP4+KSFRRUiou5JAlvtoasqHERCoXjxo27efPmL3Uph8fjnT59+qcvxrFjx5hM5urVq9euXUuhwDVWAMBP1t5Un8vlxSdktjPVrz721Gn/Fy/iPC5voVIpYrG0am0vENY6fRqNQhCkVFpDriORECtWn4iKil+2dMrC+WOUlNhUKm45cDEUSmPVFI95YrF40KBBvr6+0LvlUwQCwcaNGzdv3gwhAgD8dAb6Wr16tj9x6kb1UXy+8MqVwFGj+mMY1rVr+6DgqCq11tPgGF1dNQb9c00ABgbNcSotIeld5YGPn8YOGro0K6vg3HnvSxc2Dh3cWVNThcmkYxjG45VCoTRWTbGt6MiRI0+ePHm/8jTqWLsxnbuZV34ARpPPh4Q3r98MevwMIbRz586ZM2caGhpCWAAAP/NARaVs2eQwcszKbt1Mp9j1l18Fk0iIHbtdqTR84rh+CKHJEwdZ9Hd8GZFkbmYs+0JWFveff902b5z1+ZezaqgrDR7UbfeeC2edV9FouGzKJ0959eljJhSKhUKRSFTeBEWSpM/N5/EJKfLfYhgSieC1RZAVNVgkSTo5Ock+L1+3bPLMCdB7pooR44avmLf2zq07Eonk7NmzGzZsgJgAAH6ujh0MnU+uWbDQycvr/pTJQ9TVFbNzip2db6S/zTl/dj2bzUAItWmjs2nj7LET1i5ZZNfZvMXbDO7uPecG9O82bkzfz08cw7CN62dMsNtgN2XzLAcbGg0/fyHg9eu0PTsdORx21y7t/jdz+6KF4+l06t17Ea9eJYy0tXS/fL9LZ1PjFs2NjfW2bjtZXMydbDe4d68OUFKQFTUwpaWlOTk5CCF1DfWRE36DlKg6OoM+fsrYO7fuIIRevHgBAQEA/HQYhlkNMLt/59AF18Bz52+9e5eloak+YoTFxPH91dWU5N+ZP8e2U0ej02d83dz9dHW1V66cPmZkH1kf7cFWnQXCj14xqaOjsXrVVFnjkI622g2vXSedff8+cEksFg8Y0H3v7jmaGsoIIdcLm44e996124XBoA8Z0ufMqVUF3BLP6/fEYiFCaMa0wVpaysnJaUpKbCimxrClNbWOI3w+X0NDQyAQGLYwvHLblcFkwEZQXcjjUHu72Qgha2trHx+fepzyo0ePLC0tEUKBgYEDBw6EUAPQZInFYk1NzcLCQmNjw/CQEwoKzEa8shGR8V26z0QITZ48+eLFi1D6vyy4wwgAAAAAALIiAAAAAIAP4NnWX0wsEr+JSQh/Ho4QMjM3a2nagsVm1f3nUom0kFtIp9MVOYqVhxNSoiC/gE6nKykr1fjDIm6RRCJRVVeFvlAAAADA9wBtRV8mNTHNYeLcbWt2JrxOSopP3rFh9/ghkx4GPKnjz0uKeMtmrxw7yM5p2z9iodj7iq/8CWPpyRkDOw+dMXZWjT29SnmCCUOnjOo/vqSoBEoBANAYDj8UCpVKLbsJRiCRSBv3yvJ45R29aTQaFP2vDNqKvoCwVLjMcaXtOJupsyfJHvpMEqSXu8+KBaud3Y+bdmpT6xSCHz0v5Bb5B/vQmfTCgqIj+45a9O9ducd3xtvMV+HRHbu0r/LDp/eDiouK6XQ6lAIAoHHAcdzExOTp06fv3mWHhL4ZbGXeiFf2dmCY7EO7du2g6H/pZL0JrrPsne3Yl0t8ncwt4E6xn4jjuGwIBaeMnmw7YLClm8tl2X2hn5ecmKhroMtgMWoci1PxwcMH3bjqW2U4QsjjkucYuzE0Oh37Ub7fm+3hnfkAAJlp06bJ6oSNm0/m5xc31tUMf5F45L/LskRw3LhxUO6/sqbYVlT5qP9Fh+eiwiImk0nB8Sq/sp8/I/NtlmzfRgglvUnycPV6HftaU1NzqM1gi4G9cSouFolv+wRGhEfm53I9Ll5TVFLKycopKSm54eGrqq5sM26EbFlGTRi5fN5fy9YvojMrmoUy095FvnjlMH/mrRv+8mXml/C93G88efhUKBS179h+3JRRuoa6IqEo8Obd9p3aGRhXvC0o5HEoIZX2tOzxRYnL9+u9BP2iAAAyM2bM2LRpU3Z2dnBwxMgxazZvduhs1vLzz6FuWAQCkf/tsLXr/8vNLUAIDR06tGXLllDukBU1Ei1aG+Xm5l047jrZfiKVVhG6VqYtW5mWb+h3fO/t2rhv9ETbqTMnc/ML/9n7X6Df3fW7VkvEkoiwV5npmSXF/NDgcA1NzcyMDKFQGBEeqaLKsRk3onwWrQyMWxnfu/1wqO0g+fQ93b37WfVT11STDykp4v05Y4meod4Yu9EUHHv2KHT25PknLv2nY6Cdnvz2zNFzzpePKSgpIITCgl6sXrj+2IV/ofgAAL8aFot17do1KysroVAYFPzS+rdFWlqasscqNg58fmleXoHss56enouLC5wWQlbUeGhpa27dt3HL6u0XTruadzPr0sO878C+zXQ1cbx8H87LKdixfvc2p829+pc3zFgO6Tdz/Cxfj1sj7Uas2rr82IETqUlvtx3YhBAqLCiKCH21essKNU3Vyg0poyeO9HTzkmdFErHkhofP5r0fvXbjzs17ShzFzfvWUcpOqvoPtnybnvH43tMJ08fOmDct5lXsno1Om/avK8jjbl21fcHyuS3bGkPxAQB+QX369Ll79+7o0aOzs7MJgnj3LqvxrSOGYd27d/f29tbQ0IASh6yoURlsY9XXqs+T+0HPg0Ldz13dvm6XgZHBNIep434fhVPxOzfvmpi27tGvm/z7yqochwUzXc+624y3ptStWdjKesDuzfuyM3O0tDVl17+YTKZZ947v0ioqC10DnZnzZlRMEEMcZc7b9HSEEI1OW7drtcNER/ezHi+ev+jUtdPoSbZQcACAX1bv3r2TkpIuXrx49uzZuLi4H9DvUDaLTzXb1GMXAjqd3q1bt4ULFw4YMEB+/gwgK2pUmGymlfUAK+sBZe09xb7XfP/ddzjpTdKKrUvDQ8LNu5rJbk+T62DevmB/Aa+Er6SsWJfpK3IUBg7tf+Oq78wF/yvrZ33ddpxNlZs5u/buLJVIX0e9iY2Ky88piI2OffE8YvioIbKxahqq63aucfx9fhtTk5Nu/yForwUA/NrYbLZDGYlE8gNmd+/evXbt2mlpadU4NigoqHv37p9KYmJjY9u2bVvHGVHKQPk2IHAPWl0hhJ4/CX2bmlF5oIoaZ4r9pH+cD7hduJyfUyCWSKrfJsZgMqhU6hfNcfTEkV5XbhBSIj+nIPjxM5ux1lW+EPUiZpL1tEtn3BFCPfp2X79rreWgfh8tLUkyGQyBQPB1d9vBPWgAgJ9zpv794Tju5OTk5+f3qbF+fn75+fk1jsUwLC4uru7LCSkRZEUNQJV70OruxD+n/Dz9qw83adcakWRxYUnLVi2SE5OrjE2OTxGJhUwWo+4z6tLTXFAqiAyL8r7i06NPN/VmapXHSqXEphVb5y1z3LB37ciJNu3M2ioosaVSqfwLOe9y1i/bvHnfRiNjo62rdhJS4itWVp4Lfqf4w74HAPgp8vPz79696+TkRBBE9bEZGRkpKSn+/v41/jYzM1Mikbx9+xbCCFlRU4dhmIWlhfc1H6FAVGXUy+cRShwlLW2NfoP6PQh8mJWRXdEuQpCXL1wdNGwQnfEFD2Ck4JSR422uX/b2cLs+dtLoKjmEsFSYnZVt1NJQPqSIWxzy5Lnss1gk3rBs64DB/a2s+6/dsTI6Msbd5SoUHwAAyBw/flwgEESVqTKKJMkbN24ghB49esTn86uPDQ8Pf1/nv3wJDd6QFQE0ZsooBoOxcMaS50/CSnkChFBxIe+6240VC1Y7LLBnK7Lbm5sOtxm6zHFVbGQcSZKFBUVOWw+9jnkzbfaU6lOj02kYhnm6eT2597SGeU0edf2yl1Qs6W7RtcooJpvRuk3r44dOcfMKCYKIj0nYsmK7obFheurb4sKS04ddeCW8havmIYRU1VU27ll3xOlYTEQcFB8AAEgkkiNHjsg+b9++vUpyw+fzg4ODy54zJAgLC6vy26KiIlmqJBAIiouLIZiNEvS2/gJKyoqn3I9eOHnpwM5DSQnJIpFIWVnZpJ3J1v2bLIf0lX1n2cbFrqfdVy9cn56WrqKi0sOix7GLhzWbl9+NaWCkz2KyZZ9ZCqyVm5Zfu+wVFRnVZ0BvFpvZd2AfOqO8V7W2XvOJUyeYmLai0WkfkiFmD4tuVBoVw7BNe9bt3fK3jeVoiURi2r6tw4KZega6+3ccvHDSNTEhcfO+9QxW+VtEOvcwW7RywfXL3iamrXAa3AEBAGjSnj59ml52uy5CyNPTMz8/X11dXT42JCRELBbLx/bp06dyx6Do6GjZB5IkIyMjLSwsIJ6ND9bUmgH5fL6GhoZAIDBsYXjltmvld5DVHSElhEIhSZA4Facz6NV7yUjEEpFQhFNxBoPxnW4BI0lSUCpAJMlgMin1/SjYkMeh9nazEULW1tY+Pj71OOVHjx5ZWloihAIDAwcOHAh7IADghyFJcsCAAQ8ePJAPOXz48Lx588ordoJYsmRJfn5++dERw3bs2KGnp1deq0sk165dk3dFwjBszJgx8KrXxgeuoH1V1HAKi81iK7IZTEaNHYepNKps7Pe7Kx7DMBabxVJgU3AoRAAAqF12dvbTpx/1WNi+fbv8WQBJSUnylEiWQl25ckX+b0pKSuXe2SRJJiYmQkghKwIAAAAapCNHjkgkEiq1vOsInU7PzMwMCgqSZTk+Pj7yO2RlHyIiIkpKSmRjo6KiqoyNiYmBPteQFTUeYpG4xtsygawlWfYBHsYKAGgchELhpUuXAgICZsyYIRvi7+/v5OR06NAhkiRLSkoSEhLWrVtnbm4uexzR2rVrO3bsGBISghDicrlUKnXo0KF0evndxCNGjGAwGHl5eRDYRqbJ9bZmMBhsNlsgEGS8zXjxLKL3gJ6wEVRBkuT92w9ln/X19SEgAIDGcCYsFkdFRVGp1OvXr8uGaGtr9+/f397eXvaQNicnJxzHFRQUZGONjIwWL14sy3sYDIa1tXXlqSkoKAwfPry0tBQCC1lRw4bj+OTJkw8fPowQWrtkw5LVCzt3N8ep0CJSjlfC877qe8nFTfbvH3/8ATEBADQCioo1v3NJSUkJIcThcKqPwjBM9j5XNpstf3ta5bGy4QCyooZty5Ytly5dysvLy83JXbt0A5PJhIeyVz6dkt+Yamtr26VLF4gJAKBRnfvxeLIPGRkZJiYmVcYWFBTIPhQWFlZ5URr0IoKsqHFSVVV9/vx57969MzMzEULQBFojGxsbV1fX75EvQs0CwI8nf/8g7IAiUfn7CbhcrlQqrTKWz+fLYlVaWlplLPEBhmHVfwi+TuUO7JAV/TSGhoaJiYnu7u5nzpxJS0v7FRZJKpX+Il2be/fuPX36dCsrq+/UhAYvQQPgB+dDRCWQFckTGrFYLBQKq4yVSCQEQUilUpFIVGUsQRCSMhiGVf8h+DoUCgXDMMoHP/0A0XSfbc1kMqdPnz5t2rRfoY6QSCROTk4rVqz4RbZR2FEBaDQZgFQqlR3LpVKpPCtqyrmR/AFFAoFAfjVNTiwWy77A5/OrjCVJUiAQiEQiDMOq/xB83RmyLBPCcZxaBi8DWdHPLJVfoekiMjJy586dS5YsYTAYTeHMFaoDAH5MSiQWi0UikexIL2sFgaxI3lYkEomqvwJWnhWVlpZWGUuSpFAolGVF1X8Ivi4rkjUUyVIiepmf+1AYeA/aL5ElHDhwoLi4+O7du8OHD28iewIA4AekREKhMC8vLzMzs7i4GLrCyMj7U6ekpLx69arK2JycHC6Xi+N4XFxc9ccRKSsryxLK6j8EX4fJZKqoqKiqqtLpdKlUKguvLFWCrKiJKiwsdHNzQwgtX7582LBhkDQAAL79XEsqlZaWlsbExLx79w6eWFslX5R9EIlE1e+2EYvFsi8IBILqY+WHarhNp76UlpZyudysrCxDQ0MOhyPvY/SzruRAD5Kfz9XVVdZgGxsbm5ycDAEBAHwjgiBEItHLly8zMjIgJQK/fhLP5/MTEhKKi4tlF3zljUY/HrQV/WRisXjTpk3yimzz5s1nzpyBsAAAvuUYQxBEQkKC7AIQhmHNm+nq6BjQaHQIDkLozp2H9+/fRwj16zvEzMysytj0tKzklEQqFe9rMURZmQPh+t7pe35+TkpqQln/N1FycrKpqansUhpBED/lIhpkRT/Z8+fPc3Jy5P+6ubn9999/LBYLIgMA+GoCgSA1NVV2tt2qZVsdbUMEl+Y/oNPLb2phsdgMRtXKlslkMRgMKpVa9gGq4u9OV1dBRUXtZUSIWCySXU1jsViytiKSJH/8RTS4gvaTT+k2bNhQeYhQKJS/owcAAL7u/Ds3N1cgEJAkqaysqq1tgN4fWUj4K//7cGmGJImaviAb96mx8Pd1Aa8U22oUFDhGhi1lx8SCggLyg5+y+0Bb0c+Um5t79+5dZWXlwsJC2esGJRLJypUr/8/eecBHUbRhfLZcL8nd5dIpSYAEAiSEXqVJEaUoRVGqiKj04gcIogICKoKiVGmCSBeE0DuhJQECJEBIIb2362X3dr9fbsJyJAECCZLA/L98eLf9ndnbeXbmnfcdMmQI8rlGIBDP9IrFYbPZCgsLocuwQuGCpp6VwsaUFAiM5FR6rY1mGYbBmHLXIp4DDAMYhmMAAxhr/7ec1k2pdMWwuzD2wcsNG4FU0cvkzz//XLx4cZ8+fQIDAwEAgYGBoaGh06ZNi4uLK5udB4FAIMrVQzAWM2zF4b86nQ5OkqJpGs2WKoXVWhKW2mQyli0ci9VC0TTDsiaTkcfjoeKqCknEha4mCBzHSgJYP6KNcJzAMOzl9hIhVfTyn2Xjxo2TSCRFRUVwCUEQKpVq48aN6CmGQCAq+BjhclPAAIMwwXNRUZFOpwMA6LRakVCCCuoR3WM2ww86vVan05RaazQYrBYLQRA6nRZ12VeNLioJXU3wiuHbA1iTMIBjNbxcpIpe5p0ikUjKXS4Wi1H5IBCIp0oimqZh2gqDwVBUVGQwGKAqysjIyM3NZVlWpcoBgEBl5YhOr4Mf8vPycnJySq01GPQWi5kgiNzcHPMD/YR4rjYO/ovzeDx75GqeQMAXCoUCgZDPZ0mCVz2FEVJFCAQCUSOx2WwWi0Wr1d68efPy5cuZmZnQwxqGb4Z9RRkZWa5qV1RWjiQmJsAPly6dz8xMK7WWoii53BkAcOXKBeTfWQXaCMcFfKFa7Vqnro+zk7M9FpE9gBYfI0kSCiekihAIBAJRKRiGoSgqPz9/x44dUVFRpUI1wqxnjlm9EA5FZ3tQSuX4U3MRlZGXelVBWa16vTY1Nck/INDXx8/uRYThOAE9jaqb8kSqCIFAIGoeNpvNYDBs3br11q1bcAmfLxAIhFjxmzfLMADHCACATCoXi6WouBzholmKRGJUOP+BfLdYzCzL0DQdE3MTALZ+vQYkSdodjIgHcRoxpIoQj/Ba5a9GOfMRiMr/iGw2W1hYGMxRShBE61ZvtGrRUe6kKG5mWNZgNJjsSd2FQgmPJ0Ql5khcXNLVqxEAgO7dBgQHtUIF8kKhaWtBYW7UjYvZ2WmAZe/eve2qduPzBRRF8fkCsvppkNdLFcHEQMnJydXqqu7fvw8/pKSk7N69u1pdG47jAQEB/v7+BIEcNhGIaqSKzGbz6dOn4TtGl85vtW/bvWTgh4Wxi4r/C7d9QvQ8VJCocKqO8vt7SJLvqvbq2rnfqTP7s7PTbDR9/36iQqG02WiWZV5K9GqkikoeIitWrJg+fXr1HGKHt0V6evrgwYOr4eW5u7vv37+/ZcuWVWgsAoF47qcZwzCpqakwWZBa7dayRUeohR5uUdzeAPv4BcuwKDtsWTFk/w/DoMKpKkH04MGOlauQSJLfPKTjocN/AwCysjOKC774Nmar4dAB+Zo8RMaOHbt+/Xp07z4fWVlZ7dq1Cw0N7dGjByoNBOKlwNjhojWmpqZarVYAgKdHbZZlrFazwxMPWO2xi+ytE47GrEvBuVFTlNVqQXPvq0AT2T3UcRit0f5/GKTxEW2kcFaLRBKTyWA2mR6kxK+Od+ZroYoiIiLWr18PHw1NGzXp3Laj4EF2QMSTKSgqOHDicE5uDk3T77//fmpqarkxlp5VpKKCRSCe6SdD07TVAYvFkpubC6PpUBTNRYLlMJmMcK2FZ+Ghx92jcLGtdQa9RqtBBVJZUWSPO0TgBEkSJMkjeTySIO3SCHcURhiG8flCk8ngOA0QqaKXw6RJk2CVfDBgyI8zvhHw+eg+rjjjh40d9MXwhKTEoqKiw4cPDxw4sNI/ITSChkBUFIZhrFaryWTS2zEYDGaz2WKxZGVlGQzFDUxRUVFubnYpHWUyFW9jn5gmJAmUtuIRjEYD/KApKszNyUYFUnlVhGG4PUyjfRqkUCQSCnk8PmHXRtUtHBFSRcVERkbCD1+OmYAk0bNSy83j06Gjv/x+DgDg4MGDlVdFCATimSSRXq8vLCzMzc1NT09PSUmBmT0SExPz8vIAAGlpybH3YkrtaLFYKYqy+3OQBI7mGj9CUVEB/JCaloRKowpUEY6LRRKJRMrnF0siqURKS6USiVTAFwKMxLEaJoxei18L52Ht4qxEHRXPQd3adeCwV5XEv0cjaAhExZ9dRqMxNzd3586dO3bsiI2NLRWtEQAQHR29a/ffqKyeg42bVqJCqBphhOF+vvU6dXyzaZMQi9lM0xT0aRNgOE5iSBVVwwrDuPYYNcmVLMNqdSgE4hUGpn3Nzs6eOHHiyZMn0bMLUW1hWSY+4V58wr1mwS2HDB5ZrJLs2WBJHoEzOI6zNUgYoZ5VBAKBqKaqyGg0Tp069cSJE3CJQqH08/UnSeQnhKhWNyodn3C3sLAAAHA9KoJl2RHDP+Pz7YlghQK7WxuGVBECgUAgKvPyzdpstn379h07dgzGUx05fPwH748VCsSocBDVDYvV/M++P9etX2a1Wm7cvHrt+pUO7btZrVaaphmGqVlBgHFUnRz3khPn/rzw31NHyl1rpaif/vht+abVlTnF9tC9txPjKrgxRdOffj01r6jwBdmbV1Q4fv7/KJQ5EoGorqpozZo10JFo1MiJI4dPRJIIUT0R8IVDBn0y7pPp8NY9e+44RVlpymqz2VjAsjUqgDhSRQ9JzkxbvW3DktXLTRZL2bWRMVFLVi/7699dlTnF4fMn76dVNN/IwTPHanvWcnFWVNKueSuWbD+8v+xyF2eFQu586NwJVPUIRDUkLy8vJiYGAODsrHhvwHB79BcEopqCYVift4Z4engDALKzM7TaIhvDlESvfhZRFBcXN2TIkLCwMKSKqgUKZ2e9yRAZfb30exsAW/ftbNGsxX92JQzLrPprw/ABQyp/qIKiQr1RX+6qEe9+sGbbRso+XwCBQFQfWJbNz8+HUZi9veqKRSi1O6K6IxJJGjQIhClHCx+EP3iOOz8iImLAgAHz58/nopAjVfTSEAiEfXu8vfPwvlLLc/Lzzlw6/37f0qF6jGbT7bi7MXF39fb01I7ka4pux8UmZ6TRT6xXo9ms0ZcjWa7dviUWCr1dPbgltM2WlJ4aE3c3X1P+mFp+UWFM3N207MyKZ/apV6suSZLX78agqkcgqpsq4iad2cMEo5mbiOoOhmFCoehBIr5KHYqiqO/t/PdWIG/r0vR/862xMyfkFhaoFUpu4aGzxxsHBPp51+GWMCyz6Z8dG3duYWibjWVYwH4xfOywfoMwgOkMhm9WLI64eY2hbAxgvD29f5690NvNo+y5bt67M2Px3GljJvRo90apVYfPHu/cpiP3KLydGPflorkFRYU4AAwGOrZsN/uzqU5SGQBg+pJ5A3r0OXr+VFjEJavZbANsA996S2Z86+6ivhV/95Mvx2fn5544f+qPvzYu+d+3b7RuX+pEb3bofPDU0VaNg1HVIxAIBOLlolAoGjZseOPGDYZhlixZMmnSJCcnp//yAlBfUWn8vOv61fE7fuE0t8RK0X//u/vDRzuKjl88u+7vjZt+XBW2++iFXUd/n790/q8/xKUkAQBWblufmpm+5/ctYbuOHNu8r7F/4IwlX5ftMTodfuGzuVOmf1KOJAIAhEVeCW7UGH5OyUz/aPKYt7v1Ov7nvrBdR3f9tjkjJ2vywlnQUTo9J3PFlnVOUtm+1X+F7Toaun6Xt4fXqC+/MFks9bzrbv5pVafW7Ye998Hmn1aFlCd9mjcOjrxxlbbZUNUjEIiyMCyTlZ0WefXijZsROn0RKhDEC0WtVu/YsSM4ONiem8XIpab4z0B9RaUhMPz9t9/dvGfbkLcGEHixaoxOuJtbkNe9Xefrd29xm50Nv/DJB6P8atUp3gXHWzQKCvRvePPOrQa1fWLiYzu1aAu7mqRi8bgPRn7+9XStQa+UOz14yrDbDuxev3PLr/N+aN6oadlrYFk2LjHOp7YP/Lpy2/p2LdqMHTLCnogYeLm6L5/zfa9RA6/cvNYhpBXUtpNHfgavVil3mv3p1D4fDz5+8UzfLj39fevLZXJXF1d/3/rl2lvXu3ahTmOxWkmRCNU+AoFwJC39/rJf5xUU5EolzizL5ORkNG7c/PNxs1xUbpU57JTpH47/fI6fb8Nn3TErO23y1GEb1x8UCSWlnplfff3pjRsPW1C53Mnfv3GPN/u1avFGBSM8UZQ1Lv52g/qBj9ueYZnZc8beunXNcaFEImnVqtMHQ8Z6edapkjIPPbTzWtSlubOXVeYg8Ql31Gp3J7miJt51Uqm0W7duUVFRAICoqKhu3bohVfSS6dSy3fcrl969Hx/o1wAA8Pe/u/u+2UfyqGiYPW4qjyDh/Hmz1ZKamZ6clmK0exd1ad1x1Za1/vUatGoSIpfKXBWq3Ss2Pvzh0fTvf/3x4+pftv7yR7mSCACgMxp0ep2TWAYdvY+cObF64TLcwbFA5aTo0rbj0fMnoSrq9UZ3KIlKfqUiUfeOnc9eDuvbpedTjRUJxdk52RaLRYJUEQKBcECjLfjq63F9+7z/1ltDhAIRy7IFhbm/rVww5+txP/3wp1Qie+4jGwy658uazrKMTl9+lnujUT/0g7Fv9RpU8hTVa6Kjr27avOLAwZ1zv/q5Iu7qOr3m+yXTVv22RyZ1ftw2RqP+ow/H9erxHrdEb9Bu37lu8tQP163Z7+ykqnyxU5QVJpavDGvWLR743qjWLTvX0Hvv2rUS6dmwYcP/+NRoBK0cXJwVnVq3P3DqMAzqcyLs9OC3+pXuUsKJ7Yf+GTdv2kfTxs5bseTvg3sUTiU/pOH9B88eP2Pd9s3vfj5syMRRP63/PcMho/XyDSvDIq/07fn20nW/lRsCoPhXYaMBAGKhsPjxYTLm5efVcvcutU1gg4YFmpLebDeX0u9tamdVdkFeRYzF7CF0K+sah0AgXjmuXrsokzr16/uRSCjGMAzHcReV24ypC3V67cVL1TGih1gsUShU8K92Ld+3eg9atnSr0aj/Y/3PVfiIE4ul3FkUClUtb59pk+e7u3sdPrIH3TNVQlhY2MWLFwEAPB6vRYsW//HZUV9R+Qx+a8DUBbMnDvv02IXTtT1rNfRt8Oj7Cjv5+1kETswYM7GOpzdpD9w5cMLIB4IJ79+td/9uvfUm4+34u/uOHxr0xfA9q7a6q9QAgKBGjb+fMpem6YHjR/y2dd2Mj8eXPTvf3n9L0TSfxxPw+CRJGsxl5rgV5PN4Jd28hjIvFmarRcgXVMRSs9UikUhIEt0JCATiEfLystVqd4J45OEgkchHDp8gcegoyshMuXT5dEZGat26fm1ad1a7PJxZkpObefHSqdTU+05OilYtO/g3aFp2Mh3DMPfib125ck6v1zdr1rJ5SAcBX8it1eoKL185ExsbU6uWT7u2XZ7VBIlY9sVns6Z9OfKjDz9TKtT2ybz0jZtXIiIuYBjWPKRNUNPWPB4fAJCekZySkmixmO/evSWXK/wbNH6G3gWcaB7SNiMzGQBw42Y4RVmbNm0ZeTUsMfHe4IGj+XxBckr85Stnc3Iy6/n5t27dGV4J15qkZyRfvHQyJye7cePgNq0e9u4YjPqcnAyfuo+0Prfv3KhfryG8ZgBA4v3YK+Hn8vKyAwIat2rZyUmu1OoKU1OTdDptUnKCVOLk6+MvEtWk4J+FhYXfffedxd5l0KlTJ7VajfqKqh72AViFCfIPFAoEF6LCdx7cO7TfQMI+M5ajUKfdf+Tg0pkL6tWuyyNJDMMYli0oKsQwzGAyDfxieFZeDoZhMrGkddPmC6Z85eXhHXb1Mty3Z4duUrHYWS7/YdZ3f+79O+zalbJnl4olCmdFoV6LYRifx2sRFHLq4jk47xFiY5hz4Zea1G9Y/AVg58IvOq5lWfb67ZvBjZpUxNIibZHCWcnnC568WRUm1kU5ehGIGkGtWj7Xrl+OT7hdavmb3fq3a9MN/pZPnzk4bcbwpOQ4F5VbXPydzycMvn7jEtzsVkzElGkfpaYluqjczBbjnHmfhx7eUeq3b7PZVq9bsuSHmTRFOcmd9/6zZc7X4zTakuAjCYl3Jkx6//KVMyqVa3Z2+pyvP7t565l9b/38Gsqk8ri4GDjateD7KWvW/iASicRiyZ9bf58155MiTT4A4NiJfevWLy0oyF+99oc/NjyzT09+QZ5QIAIAxMXHRN28suD7KaGHdkmlcoCBA6F//2/Wx9k56S4qt6ibEeMnDrl6/QL3MDx6fO+0L0fk5mYplerIqxe+nDVaoy2J9JOYeOenZV+VOtGkKUOLNHnQyWn33o2z5nxSUJjronILjzj/+YRBiUmxCYl3l//6bVJywv7925b/+m1OTmYNuuUoivrll1/i4uKgw9aCBQv++5gUKGd+OeKJZVmRQDCg59tLVi3PL8zv0aEr3MtRXQEAkjJSG/rUg97T2w/tTUlPZRhGIhJZaGrfycOfDh4ONzMYjQVFBWKhuGRnUHINzQIaTx79+f8Wf71/zd8uDlEA4KhWgF+De4n3vNVuAIBRgz6au3RBr07d6np62z2N2J2H9yenp7zdtSc8YFjEpYjoqJYPpphdiIoIj7o6b+JMeCIcx7U6LWf47cS4GQu/+m3+Uh/PWgCAu/H33F3UAj7/ySWDcuYjEK8bLUI6dOrYY9LUD5uHtA1q2rpJ45A6deo5Zh1JTolbuXrx3K9+btK4JXx3atQwaNnyeevXHcQwfOXqxeM+/bJj+xLvxpYt2i9dNrd3z4GOnU/hkWcir4b99MMmlbL4WTdkyJiVqxdu2LR88oRvrJRl2S/zevcaOHjgaBwnYHfOoiXTn9UKAidr1fK9fz+udavOf275zWIxL1/6l1gsBQAMGjjqx6WzVq9d8uX0xaOGT+r3ztCJU95f/vOWJ/gVlUtmVsqFCye+nLEIfj177sjggaPf6j2YwImY29e2bF35/YLVfr6N7EXEnDl7+IefZq9csUuldE1Lv79h0/K5s5c1adwCPmkvXjrxy2/f1fN7ujNNVNSlXbs3/rB4Q+1afsVv5gyzecuKVasXLV64ft3qfTNmjqiJfkU7duyIjIxkWRbH8blz57Zq1eq/vwY0bvJY3una66c1v3zQf7BCJi+1ylkm+6D/4GFTxn40YIiQx796+wZJksPfG7pxz7ZG9QO+mTTr068mX4uOahnYzGQ1h54+5ubi2rlV+7KnGNH//UvXwmf+9O3aBcvwR8P5d233xqXrkV1bdwQA9O7Y7dbdmHfHfTiozwA3hcv12OgLEZd+nbfETekCNx770eivl33fLLBpPe+6iRkpB04e/mbyLB+vWnBt88bBC1b8ePrCmdmfTWvTrKXOoA+/cdVgNsG1N2NjOrVsjyOlgkAgHoXH40+e8E2f3oPOhx0/eerAn1t/I0l+61ad3hsw3M+3IYZhoYd3tW/fDUoi+MLT5Y23UtMSDQadSCQJbBTcPOThc8/bq25aWorNxjimCj0YumPo+2OhJCo+I8l7f/An/5v9sd6gTU6OK9IU9O/7IZREAAAvzzo9e7y7eu2PzyyMCMLG0Fpd4YlTB35asglKIgCAUCD65ONpEycPzc5O83CvXcGjnQ87lpWVwX3VGzQXLpzo1KlXi5AOcIlELO3V4z3Cftn/Hvy7x5v9oSSyFxHeqVOvE6f+PX0mdOC7o06c/Ld5SPvGgc25N8a2bbodPf4PXYH0lHv3bXnv3eFQEsG33359h7LARlEWgqiR+fLOnDkbGhoK38+HDh06fvz4l/IKjVSRw4tRw6D1i1aIH0zFqu3hvXfV1tqetbgNmtRruOrbpfa+HOyHGd+cuHzuzMVzJEG817tft9adrJS1S6v23m6eHq5uB9ZtDz197E7cXSeZfPonEzq3as+zO+7M/GSSq+rhKClJED/PWnAr9raVooV8vuPF9H+zz8czJ8wcO4mwx7WdOXZS9/adT4Sdjom/GxIY9NXn09wdjlPXo9aWpWsOnDoSfTfG29Nr54rN/nV9ubUf9R3YonFwXn5e/bp+AICGPvX3rtrq41Fsl41hwiIvr1mwHNU+AoEoT0+QAf5BAf5BDGMr0hTExd8+dHj3lOnDv5r1Y6sWnaKiwkeNnOjYdAkEok9Gz4Cfx38212I1J6ck5Bdk5+RkXr12sVQCB5uNvhV9XaFwvX8/wXFhTnZWXl52UnJ8gH8TofCRBj4wsNlzWGGz0QRBJibek0nlXl6PzJ93VXupVK4pqYllVdH5C8fu3o2Gn+vU8enRfUDJc5vkCQUPPZ+USlX/JRt86jbg1FuTJs2h34/NZrseFT5vzjLHIiJwokXzDtExkXavoHudOvZwXIvjeMOAoFvRV59sEW2jbtyMHDN6quO+SoV69IipNfROS0xMXL9+PZSDbdu2XbRoEec4i1TRS0Ph5NSqacjDuxPDmj8a9tBJJmvRJPjBOw3Zu0PX3h26PnyvIkUdW7aFnz1cXMcM+qjsKRr6NSi1RC6VtW/euuyWdT29vTw8YuLvNm3QqES0BQa1CAx63MW7OCtGvftBuaswgDX0rQ8exCuSS6Xcdd6IjfFy86jj4YVqH4FAOMKybGrafTdXD4HdXQbHCaVC3brlGy2bd9i0ZcXadT8FB7U2W0yP8+RlGCb08I5jx/f5+NRXqzwbNmo6ZPDHx44/kqaaoq2U1crnCxzH1AiCHPjeaKlUnpeXx3dwu+Z6d55DEiUnJwx8d6TJbOTzBeSjzuM4jiuVKoqylt0Rx3HuwjjFU9xmt+nS752hT+5j47SL1WouW0QqpRqeMS8vV/AsNnKpVinKQlFWmF7jFaCgoODjjz80Gg12b7Zay5cvl8lkL+tikCqqvkwd/cXaHZtXzF2MgRfVi7h+19bPPxqD4yhAAwKBeFRMMPTEyR/MnfNz82btH9UKRLs2Xf498DdNU65q97y87EcliO3Q4V1t23TOyEzZtXvjsqVbVUrXkpavMLvUKQR8oZOTc68e/RvUb+Igp2yZWWnOzqo6tevG3rtRyqlRo3nmnKOxcbdMZmO9eo3y8rINBp3ZYpaIH8YuoihrSkqiVCIvu2P7tt3bt+1emTLk8wQqlTonN9PXJ8BxeULiXbFYbu+CqltQkFtqryJtoaMMclxlNOngEqFArFS45OXnuLs9HM2wWM2hh3b2fHOARCKrQXeayWQeN25kXPw96GE9bdo0L6+X+aL+ejWHTI2a+hTsHxjo51+k1T55szdatPN0dX+O4xfptEH+gU/of+KoyCA3AoF4lSAJXmBg8JkzhximdKSfpKQ4hbNKKBS3bdPlyNG9NE1xqwqLcrds+53H592Njfb1CeAkEQAgOvp6qUNhGN60aYtTZ0Id2/7E+3dnzfnEYjH6+TWMT7iTl5/pKBFOnzn0TFZotIUrflvQu+dAZydV7dp+GIZfj7rouMHtu9cpmvbxafCwM6bqmgkMw9q27nL4yB7HoUOjSX/x0sk2rd4AAAQ2CjkbdpS2PSxAi8V84WJJLCihUJSbm+UY7vJWdCTsZMIwvE2bzocO73Is0uTkuIOHduAP/LZqxFRfm832/fffnj132j40SY4ZM6Z+/foV351lWYqiqtbS10IVyeUl7wHX7tyoWVf+2dDRCvlTEuON+2Bk43r+z3FwZ5l87JDhFXFnC4somWrr6uqKWgsE4jVh6Aefngs7tmPXuvyCHJu9bTaZDGEXj63b8POQQaNJgvdm9/4abeHmrb8ZDFp75Ouc31YufKNjTye5qk5t3xu3IlJSE4rbLdoadePy2fOHCJwoKMxxbMPee3fkocN7Tpz6l6KtLMvm5Gb8tnLhW70GSiVO3l51m4e0++nnufkFxbtYrZajx/bExcc8YWylSFOQnpEC/2Lv3dy1Z+PkqR96eNQaOXwChmECvnDkiAmr1iyJuX3NZqMZholPuL102dcD3x3hJFdCp2yapm7fvp6VnV5VZdiv79DExNjdezeazAYYLvz3Vd+LxdI2bboUv9N26p2fn7v1r1Vmi4llWZ1es3L19yplSYBsL6+6JpPp9NlQmi5u+DMyk/ft/8vd3ROuHfTeyGvXLv97cBvcNzMrZeXqRX16DxTZPbGEQvGtW5HpGSlWq7U632N//bVl7brfYY/ge++916FDh2fr6WAYT09Py2PiIT/n+8Br8dseOnT16tUAgOkL5yz/ekmrJs3QlKsKYqGov0P3/rFtE/w6fPhwVCYIxGtCYMOQhfNXb9r868FDO4UCEYYRNoYiCXLc2P917fI2AMBJrpj/zW/Lfvn2swmD+DyByWQICWn78aipAIDmIe07d+o5/X8jZVIFSeIymdOX0xeRJH/uvC9++3WnUqmGucb86zeZPfOHdeuXbt+xDgDcYjW+0anXu/2Hw6G68Z/PWfvHj1Omf8TnCUmS8PCoNXXygqXL5pTrVKBQuIQe2h16aDf8KpPKAgKaThj/VVCT1px7ULcufRmG+X7Jl0KBEMNwirL0e+eD/n0/erCLc/++H634/XuJRL521d5yy0ShcBGJJE8oNLFIYrU+bKTVLh7zv1358/J5h4/uIQk+RZv9fBvOm/srdB6Sy5znf7Ny+a/zzp0/ShAkTmCtW77RuXPv43YHLJFQMm3K/DXrlvy5ZaVYLOELBOM/m71yzffwVdbDvfaC71b+vPzr/Qe24RhpNOl6vtm/7zsfwvMO6Ddszbofjx7/d8n3f/j5+lfPG+zixQuzZk+DKvnj0WPf7NGtOlwV9jrE09NoNO7u7pycdHZy5nqPEE8mIyODtpUMn7Vp0yYsLKySTkhhYWGdOnUCAJw8ebJLly6ohBGIcqFpOioqqm3btjRNN23SfMXy7Y4Ov/8l9j6MwoyMNIZhFAqVq9qjVLRrhmGystOKigrUajfHwNYsy9pnn2XJ5c4e7t5wr3KDn1kpS1rafbPZ7OVVG3bbOB6ksCgvKyvdxcVV7eKOYVUwvmG2mJKT4wHAatWqW5H8aJXHZqMzs9K02iJXV3el0rVUHBa4VqfTeHvXlUlLDw4YTYakpDihUFTL24fH4+sNGrFIyt0MNE1nZKbo9VpPz1pVkoWtkixcPPXI0X0AgOlTv23evLWLi5tcLufz+BhGsCxzIHSrxh4zs0+ffhqNdsTI97V2F5E+b/VdsWL19ahLDMOIxeKgoCCpVCoSiXg83pNHM2w2m7u7e2pqqlAoRH1Fz4CTk9PRo0d79uwJhVGRpqjoQQYxRAVp2LDhiRMnkF82AvG6gWGYXKaU+ysftwGO454etT09apfd0UXl7qJyL7Ww7BH4PEEpf2TH7ZUKtWOKjMojFIj8GzT5L8uQIEhvr7rA64lrH9/51Kjhw9nQUskjsokkydq1fGvcTVVQUDBl6ngoiQICGi1btpJfsRRVj3uFuHDhwu7du00mU+PGjceOHct/NNLNM/G6NHKdOnVKSkoaPXp0FSrK1wQPD4+1a9dGRUWJxWJUGggEAoGoDBRFffvd3NTUFACATCbbuGGbXCZjGBuEpmnKAYZhHNNOlD0ay7ITJkw4fvz4zJkz586de+PGjZCQkLJTBCrOazQz383N7Y8//li3bp3JZKpu10bT9OrVa8aP/6K6XRhBEHw+H+XoQCAQCETlYRjm5Knjt2+XJNfj8fjTZ0wAAGMYW2ZmOux6FIlEuJ1STc+nn346bty4Ugc0mUw+Pj5z586FG69Zs8bb2zspKcnX1xepogqBYVg17POIj49fuvSnqVOnoNz1CAQCgXglYQF79WpkTEwMbIvfHzLMx6eevdXDKMpyPeoywzAkSapUKh6PR5KkVCoNCXkYWrlJk3LGPUmSdMwNguN4ly5dkCqq4TcKy86fPz83NzcsLKxz586oQBAIBALx6rV09+8nnA87B78OGTx04cLFIpGYIAgAMKNRF3m1McuyMpksJCREIpEIBAKCePoMAz6fX6qnIyAgoDLXiZxnXz4mk2nHjh0AgK+++up1mBKIQCAQiNdNFCUlJ+za9Tds41o0bzl9+kzHAbKsrDS4SiqV8ng8giBelucGUkUvn+3bt8NAW1euXMnOzkYFgkAgEIhXiaKiwhlffmIwGKDu+WrOt9w0MZYFubkZaenJcFjN09MTqaLXGpvNtmjRIviZYZjly1H6egQCgSiHpOS4/83+5Pad66WWMwxTKisRDAZdydOxLOt4nNS0hFVrFqFaqGjTxsCpZFaKshoMutlzvkhIjIMzeNq0aWs2GbKzM7KzMzIzU+/cuX77zg1Yzq6urmq1Gqmi15o7d+4kJCRwX1euXImSjiEQCERZjbLv37/i4qP3H9hWSvHcuHVl2pfDHJd8OKJbVnZKJc9oMOqGjXpToy3JR6vTa6JvX0UVUUFomrJazVar0WjU/b7qh4uXzsKuIB8fH6PRcDc22v53615cTK49wTCGYQqFokmTJgKBgCTJlzjxGamil/w7X7hwoeMSvV5/8uRJVDIIBALhiEZbEB5x7us5P1++cqZIk/ffX4CfT8MF365EFfGMbRw4GLr37+2boO7x9vYum0wTwzAcx+vWrdumTRupVEqSZMXDBeM4vmDBglJzt3v06PFMKWZLgeagvUz0ev2ePXsEAgEMus3n82manjlzZo8ePVCIIAQCgeC4En62fr2GTQJbBvg3OXvuKJe8rIKYzcaY29eNRkPjxs0UzqUjZVssputRV2w2ukmT5nKZooLH1OoKr12/IhKJmjQOEYtK56y12ei7sTdzc7P9/Ru5u9V+3R7pPB6PL+DfvnNj9ZplcMnbfd5VquQwKJGHh4ebm5uzs7NYLHZ2dvbw8BCLxdgDKn4WDMM+/fTTUgtbt25dmStHfUUvk82bN3/22WenT5+GUTuDg4Pv3LkjFosTExNf6bcHFk21QyAQFYemqUOHd73d532CIHv2eDf00E6Yw5+iqREf95g05aNr16906lrvm+8mbv17Vaeu9TIy0oYM7dqpaz2TyQgAOHFq/7BRb27dtvrgoZ2fjOu/bsNSmN4xKzt15JheZ84d+mLioH/2/7Xnnz/fH9r5QOjfAIBffpv31jvN0tJS+g5o9dY7wQCAhPt3vvr685LrsVFr1/8wdFi3Q4d37d6zadjIHtt3ruPiKX/y2TvnLxyZMv2j9RuXHz66d9wXg35YOtNKWV6rKhMKBfn5OUt+mAdz5bZt0/6beT8pFUqFnXr16gUGBgYFBQUHB9evX18qlRIEUTZs40sB9RW9THEwaNAgV1dXjUYDbwWCIOrXr3/+/HmdTvcKG466wRAIxDORlByn0RY2bdLCPqm7w8rVi2Lv3WwU0IwkyPVrDkXdvLR5y2/LftwKexreHzRm6PCuS3/Y7OFeiyDI2Hs3V61Zsmjh2vp+gbCD59v5E/f/u/W9ASOLv2o1584fXvrDZrk9K+2ViDOLlnzZtk2X8Z99PWLYxHFfvPvbLzscsq6y8NG9cfMvN25E/LX5ONwrIzNl2pcjnJwUvXsOhBvs2rNx0oR5vj4NAQA5uRnjJw6JiDzXvu2br0+VabWav7Zt0Go1AAAvT+8li1aJhELw4NnPha6uJkoI9RVVF3Hg5uZW9obAcdzJyQmVDwKBQEAOHtrZuVNvAV8EAJBJndq26Xz02D/wKUqSJEGQOIaTJK/4A06QJM++vOTDjl0bPho6rr5fINRMTnLlZ+NmHTq822IxwbGzQQM/dnJSwbUhwe3kMufklASC4I7DI0me48XoDZrdezbP/HIJt5eXZ53pUxds274GHhMA0LZ1N1+fhnCtm6tXq1adbkVfe8Uqhaapg4d2aHXlp1rf/Oea5OREAIBcJv/t101qVzfWPlsQriXsVENJhFQRAoFAIKo1RZq8K+Fnu3V9h3uf7N1r4KnThwwG7VP3ZRjmetQVkuSHR5y7En4W/mVlpucX5BYU5gEAlEp1Le+HqSF4PL5AIGbsw3OP4+bNyLp1/by9fBwXBjVpqdEUZedkwK/BwS0d23uZVPHkY9Y4zBbjjz/P/uGn2ZOmDI26cbmsdTqdFqqfb775qUGDRgAAq9WSn58Hc3TI5XK7nCWqoSpCI2gIBAKBqL6Eh59LS0v5eGw/rgFlWdZkMoZdPNHzzXefvK+VMuv12mPH95Ek33G5T11/hmHsvRW444yninj75hfkONt7iRwX8ngCd3dPk9nwoC/kkba1eONXy5cy7MLxo8f2sSwbn3B38rRh/g0a1anjDwB77dplbhuCIGbNnN+lcw9gN//qtQsUZQUAeHp6ikQioVD4cmfgI1WEQCAQiBoGTVMHQnd8NeuH9m27Oy4PPbzzwMHtPbr3x7AnjXjweAKBQPjljO9reZWTKzQrO/U5Lkkuc9aX6aaiaSo3N1vAF74m9dKl89tGo2HVmiV6vc5ms92+c+v2nVuOG0ilsvFfTH+zex8Mw1iGuRETcer0ISgQW7ZsyaU5QyNoCAQCgUBUlKTkezm5WW3bdJHJnBz/unV9OzklISk57sm7EzjRMKDJ9euXHBdmZiWP/by/Vlf4fJfUtGmLe/du5+SmOy6MjbtFEISr2vM1qRcCJ97p88HaVf+82b2vRCItu0H37j0EAv71qEvnzh/dvPW3ff9us9nn/fn6+rZq1UoqlVYw+et/D+orqhA2my01NVWv17+Ig8fFxfF4PBzHCwoKoqOjX8QpMAzz8PBQKBRo/hcCgahBhB7e1bZN57IxhFRKt5BmbY8e3zfuk/+RJK+gMI+irDxeyTAZSZI5uVke7nUAAO+8/cHyX79tHNjC18ffPqZm2bh5RZPGzWVSZ6NR/+THJssyhYV5DnPQilE4q3v17L/sl2++/mq5SCQBABQU5i5bPm9Av4/g19cEDMNqefvOmf1zYWFefMLt+Pi79pG1Y9ExUfZ27a5GU+CofjAMq1OnzqhRo5ydnavt8BlSRU+HZdndu3dPnjw5MzPzRZ8rNja2adOmL+74HTt23LRpk4+PD6pWBAJR/Sksygu7cGLe3F/Knavbq+e7P/08Z+TwCXVq1xMKhO8Nbt+xQ48Z0xYCAN7o1PvreRMwDPt76+kO7brfv39v5ldjmgW1FQrFd2OjVCr1+M+/emqTLBSIQ5q1nzT1I6lEvm3LSUc18Nmns5Yumzvm074hzdoxjC3qxuU2bboMGvjxa/jaiWO4SumqUrq2btkZ9u1BVVQKqVTavn37Xr16yeVyHo/3TAGs/2u1h+LpPVkSLViwYN68ea+MRQKBICoqyt/f/2VdQFhYWKdOnQAAJ0+e7NKlC7rHEIhysdlsUVFRbdq0oWm6aZPmK5Zvx3HidSsEiqY0mgKlwqVc2202uqAwT6lwIQjSYjVrNIVCgUgud7anJrVpNIU0Tald3DAMZxgmKzv12rXLBoO+cZOQBvUCYa+SzUZrtIXOzircwTmpsDBPIpHx+QJ7tEZaoylgGdbFxY2irHqDTuGs4iooKSUuMvKiWCQKDm7t5VmXa+YLCvNkMieew3x+vUEHACuVyF/5Klu4eOqRo/sAAIMHD27atKmrq6uzs7O3t7efn59MJqvOE/I5UF/Rk4iIiPjmm2/gZ29v9xbNGwmFvJpoSEGB/uKlKL3eYLFY2rRpk5mZKRQKUf0iENWWZ0198ErCI3kuKrfHrSUIUu3iXvK+xxe6qj0ersIJpcLlYX8Gjnt61PHsU6fsEZSK0tk/FA47kgSpUpbk7eLx+JwkghOs/HwC/HwCyl6Y46lLekokstet7urXr9+uXbs6deqo1WqhUMg5Vlf/uxqposfCsuzixYthX1q/vl3+WDPDyUlcc825FZ38dr/pmZm5Go1m//79Q4YMQVWMQFRzYYQKAVFDsYfBJGFQomrrQlQuaA7aY2EY5uzZs/ZRJ/6C7z6p0ZIIANCkcZ0vZwyDn//55x9UvwhENZdE3AwdlmWQqwOiRgCznmEYxrMD/Ydqlr5HquixsCxLURQAQCTke3ooXwGLQpo1hB/+A89xBAJRSVWkUqmgMMrITDWbTahMENUck9lwL+42TJjv4uIiEol4PF71nH6PVNFzPpXsMzNZ7FUBx3HWgZcoN9GLLwLxVNzc3Bo1agQAyM/P+/fgNvSrQVTzfoRjx/9JT08BAKjVapgJXyAQVNu5ZkgVVUoYvTI4iqSXW6ro7kIgngxBEJ9//jlsVP7YsHzPP5tNJsMLe0+B7yrs69SIv25Ws4++FVel1RaL6WDo9t9XLYatTP/+/d3c3GQyGZ/Pr3GqCHlbVzEWC/1v6OVjxy7n5+e7ubm2b9/0vf4dRSJ+JQ97+Gh4i+YBahc5KmEE4vV5Kxs2bNiePXuOHj1qtVp+WfHd3n82N2oULBRWrY9jqdbxNXljQVZXmdUUZbl952ZKSiJMiR8SEjJixAiVSiWRSHg8Xo17B0aq6OnSuuKdKwUFuveGfE0SxOBBXV3U0uxs3eo1+5b8sHXfnkX1/DwqcyVff7Np+bLJrmqnSj5kYSc8Z9fLKlV0ayEQFUEgEGzYsGHEiBEnTpxgWTY1LTk1LRkVC6La6vjmzZv/+uuvtWvXlkqlcEJ+jbMCqaKqZMGiv5QK+Y5tX5Nkya0wekTPMZ/+9MmnPxwJ/VEgQKWNQCCeDQ8Pj3/++eePP/5YtWpVUlKSxWJBZYKobvB4PG9v76FDh44aNUqpVAqFQj6fXxMlEVJFT1e+jn5FT93+fNjNuXNGEATObczjEXNmDWvb8dOkpMwGDbyf+0qqxEWa6x966X5F6NZCICqORCKZMGHCmDFj4uLiUlJSrFZrlXS4MgxDUdSNGzcwDFMqlQKBQCqVisViGOVVoVAcPHgwPT0dANC2bVsXF5ecnJyAgACxWIzjOMMwN2/eNJvNBEHUrVtXJBIJBAKYz7GaFyacXJydnR0dHd2gQQM+nw+tNplMubm5derUiYqKunLlCoxDGBAQoNFoXF1d1Wo1nGGekJCQk5MDAPD09HRychIIBLD5r+aPNYZhrFZrdHQ0TdMwrKJMJhOJROnp6SKRSKFQHD16NCkpCQDQsmVLDw+PrKysJk2aQK8gDMMiIyMpiiIIwsfHR2DHcXIZj8dzd3f38/MTi8UwOlH1LxCkiv6731t2duk8zD6+7uGXNnp5OsOvJpP1h6U7/vrrSEpqRv36PiOG9Z488T2SLH6UpGfkz56z7uixy0VFGl/f2uM+HTDh8/5lb620tLxv5m8+GHpeq9W1a9ts1qxh3ToHocJHIF5hcByXSCRBQUEwVWKVqCKKogwGw/HjxzEM69q1q0wmc3NzgxOqcRynafr+/fuw5WvXrp2Pj49SqZTL5UKhEMdxiqKkUqlerydJMjg4WC6Xi8XiapsF3RGapg0Gw5YtW2JiYgYOHCiTyaDokUgkOI7bbDaRSARjlwQHB3fs2FGpVDo5OXGDQREREVA9NGjQwM3NTSwWw/nn1VwEUBSl1WqPHDnC5/N79Oghl8vd3d1VKpVQKMQwjKKozMxM6BXUpk2bgIAAlUoll8uhKmJZliRJi8VCkmSzZs3EYrFEIoHpXcu+7r4Ck2mQKnp6D03F/Yr69+s49+tVUomgV49WCkVJ8mQeSfj5qjlJ9P6H37GA/Wfv4vp+HvfiMsaMXZSTq/1x8RidzvRO/1nvDui8bOl4qUQYeS1+9McLlErnYUO7cLcahmG5edre73zZ5632N65ukspER45d/fyLn5Ytndind6uKdNIgvyIEouZShU0O/BkWFBTs27dPIBC8+eabLMvK5XKapjEMg8GIufh7OI7DPgAuLh/LsvgDiEep5o90e6RB6/bt26Oiou7cuRMQECCVSmFoOmga18/haDXsBuOshjMEHanOUgA+8LOysqAq6t69O4ZhTk5O5dY1F5MaWo1hGMMwNbGun/8NBD1onvoMqvi89xlTB0+d8uFXc9d41+3bqcuk2XPXHzkWYTJT3AZ/7zyTmpbz1+Y5gQ1r8flk48Da6/+Y/eeWA7m5uvMXooVCwVczhyoVUj6fbNcmYMyYASdPXi51ipWr9wcF1ft+/mg3N2eJWPBe/3ZLf5q4cNGfFguNZuYjEIgKAofP9u7dq9PpcnNzL1++rLNjNBppmn5VX13g8Nl1O1ar9fjx49Bqk8lEUdSrajUcPjtw4EBBQUFOTs6VK1c4q2maRr8FpIpeIHw+MWPqoNs3t5w9taZfvw4xMQkjRy9sEjx8554w+HPbt+/sJ2P6y2QibpeG/t5nTq6SSPitWgZs2zLPUS1kZuYXFhaVOsWhQxfHjumP4w+369S+sUajT0vPReWPQCAqiM1mM5lMW7ZsgVLg1KlTer1ep9MZDAaLxWKz2V5VqxS1ifkAAFG9SURBVGFHEXRaDw8Pz83N1el0er3+FbaapmmtVrtz506okE6fPs3VtdVqfVWtfm7QCFrVIxCQzUP8mof4TZk4UKPRr11/5LPPF7u5LmrTqmFcXPKUyYMfkaU4FuDvAQAQifh6vWnV2tCrV6MNBpaizFqdSSx6pE/FaLTeT0rrN2BqKZdGvc6YkZHv6+OOCh+BQFSky4Sm6cjIyJiYGLgkNjY2LS3NycnJYDCYzWaRSPTqjY9AqzMzMw8fPgyXFBYWXr161c3NTa/XQ6t5PN4rZjXsFIyMjIyOjoZL7t27l5KS4uzsDBUwdBRDPwqkiqqeqBsJ/x68OPt/H0LXaftQEXB2ls6YOvD69bu795xp16YRjmMUxZS7+8nTNydO/nnihMGzZ45Uq+UioWD1utATJy44bkMQOIaB0APLGvp7ldpdJpOgKkAgEBXvMtm0aZPjkvPnz9erV89oNJrNZoqiXr2WkmEYmqZDQ0Pz8vK4hRcvXuzSpYvJjkwmK+VB/MrU9datW6EzNXSrunDhQoMGDWBdSySSV8/qyoAUYpWh1RlXrtqr0ZYOyY9hQKmU0bSNxyOCgxtGXo11XGs2U290nRxzO+XnZdu+nDH00zFv+fq4yaQiksSNRnOpQwkEZIP6vukZBQqFnPvj8fm//r6vqMiAqgCBQFSw1yQ/Pz80NNRxYWRkJBxFomnaZrMxzKuWqJ9lWTh85mjX/fv3U1NTodU0Tb9iVrMsyzBMenr6yZMnHZeHh4c71jWaAYNU0QuhRYi/k1zy28r9DPPIHZaUnHPk6JVuXZsDAIYOfXP9hv0pqQ/fVE6dvVFYqPX1cdfpjJT14fhuQYF+619Hyp7lnXfaLf/lb63WyC3ZvTfsxMlIuRz1FSEQiAq1lCzL7ty502QycfMeMAwrKiqKjo6uofGIK2j4tWvXYmJiHK222WwXL14sO8/8VWLfvn0ajaZsXdfE1K3/AajfrMoQi/lrVv9vxKj5UVGxgwd3r1tbRdHMlfDY9RsOdOwQ9HaftgCAHt1C+vfr3HfA/6ZPHern63Y5/N6q1Xt/WT5FJOIPHNh1/sKNfAG/QT33uPjstev2fTi01+rVO0+eueEYjmjsmLePHr3y3uCvp0we7OQkunjp7tp1+9evm8XnE6gKEAjEU4Hzardu3QqD8ezbtw8A0KFDh5ycnNOnT48cOVIsFtfE9FUVMXzbtm1169Zt3779xo0bAQCNGjVSKpUREREMw4jFYj6f/4pZjWGYxWLZtWtX586dRSIRdKh64403MjMzT506NXr0aLFYDGfmo98FUkUvhM6dmlw8v2rXnnMHDpxPSkrFCSKkWaMVv0zp3Kkpj0fY42HgixeO+bdd4Pbtx9PSMv39/f7cNKdNqwAAwGdj33GSS3fvPpGXVxAU1Gjlb1P9G9RSKMRajQYAMHnSez511AAAJ7l4947vNm898euKXVqtNji40a7t3wUH+aLCRyAQFSQlJeXbb7/t0aPHggUL4JI6depMmzbt5s2bNpuNS+r5ijWWZrO5Q4cOP/7445EjR6AqUigUU6dOzcrK0mg0EokEqqJnsrr6F1Fubu68efO6des2b948qIp8fHymTp0aHR1ttVqhAn6mEbRXXkIhVVTFeHmqJk8YAMCAx5Y4ib/br/27/dqXWs7jESOGdR8xrLvjwrEf94EfPvrg4XJnZ8mk8f0mje+HShuBQDwH9evX9/PzoyiKGzaC0fz69u3r6enJ5/NJkuScc18ZpFLpqFGjaJp2nGhGEESrVq08PT1rRGDu58DPz8/Hx8dqtTrWNY/H69u3r7u7O0xXgibnI1WEQCAQryOOvQJlX/q5EK/QS5fbGLoiMQ+A87lKRYiFqyrZkeDo+/LirH6c4Zxdj7PaMR8l/BduX0nDuVwZL6Ku4b/lHhwuLJVhs2yFPq6uK6ObX1BFI1WEQCAQiAo1kFx7xn2GU67gBnDWOmXHarXC/gM4Ew2GAaQeALNDUBQFJ23BfeFsJphHrPLiAGaf4HJQVNLqUo06vFRuA0erYUvPFYvjKpjvAm5fymqKoiqjiqrcas5eTuHBiN5PrmvOaq6irVYr54X2OKsrWdeOJlcfeYRU0WsERVOoEBCI1w2usYcqh2s1uaYOKgCLxWI2m00mE8x5zk1WhxFuzHb4fL7NZoO5Y612uCYWzueq5Jwm2EaWSrn1fO0lbL85bcdZDeP3cNtY7EDT4LihxWKBVlMUBa0WCAQwAxoAwGKxwN1h4cDPlRx646wmCALHcZiO7TmshtY5mswJI6hiy9Y1PKnNZuM2sFqtMHoTSZI2mw2qIse6hlZzBfLcJjtaDakmE+KQKnoSfD4fAGA0WeITMpoF13iP5vPnrsMPgYGBqHIRiNdEEnEdA44heaAq4vQBTdOwmTQajbChgsmzYEvJrSIIAgZ4tNlsZrOZi3kDew4q38/BNZZcJlouH+0zHYe7Kmg1F34J6gaY7gNu5mhaKVUE9YHRaCRJEvaEwaKAu3MygltVeVUE07JCffasU8Mc+70oinLUgly/V9m6hqeGShGaY7FYuNsAil24ENY11E8wXnYlBw3hqR3z70I5jlRR9QXH8a5du+7YscNisU6asnzDH7N9fdwIokZGd7BY6DPnb/68fBv8hfTr9zI9tVHEMATiv5REsHXPzc3VarWwRYe/QZvNVlhYCLfU6/WZmZk0TRuNRrFYDFVRfn6+Tqez52TMBAAUFRVxE7VYliVJUiKRYBiWmZkJm/DKD4IQBCEWi+VyuUAg4PF4fD4fXuozRQqAVlsslqKiovz8fJjv1tHqrKwsuKXJZMrMzIR9QhKJhCAIlmUzMzOh1bm5uSkpKRqNRiqVwpz5UB9IJBKWZQsLC7kxpkrqAz6fL7UD9QHDMAKBAMOwiveTcRrXbDYX2jGZTI4OQzRNFxWVZNXUarUZGRk0TRsMBpFIBFVRXl4etDorK4vP52s0GscADQKBAFZxeno69NqupBDEcVwgEMjlcngWLiExlEpIFVVTMAxbsGDB3r17aZq+fOVmm/af1K6l5rJ51CxMJiohMZ2maQzD/Pz8unfv/nILFt1dCMR/8PoB+wBSU1MTExPNZnOpFxKbzWY0lsSDNZvNWq0Wtv1wYIVlWaPRCFWUVqsVCoWwj4FrKfl24NqqfT4QBKFWqz08PKDnCtd7VHF9oNfr79y5k5ubWzZWNcMwsPmH/T1arRZ2zJhMJqiKOO2o1+uLiopg35KjLBOLxVz3SRVaLRaLvb29ZTIZZzUsigoKQYqi8vPzY2NjtVpt2TdPmAyYq2uNRgMtEgqF0J8a5kSDtQmthoNonCriFFXVdj04OTl5e3vDIq0mPkZIFT0JPz+/7du3v//++/acw7roGF1Nt8jJyen48eOvauxaBAJRSh8kJCTEx8fXoA5aeNlZWVkGg8HPz48bZIFjTBXRB3q9Pjw83Gg01iyrDQZDfHx87dq1XVxcHF1tnioRYN9YVlbWrVu3uGGyGgHDMLBbi6toaPLLbaGQKnqKfh8wYMDVq1fHjRt3/fp1TmvXRENkMln//v1//fVXJyenl/77R7cWAvEfNDmZmZkJCQnwFyeVSj29vJycnHAczscGNpvt3r17e/fuBQDUq1c/pHlztVqtUqnEYhGOEyzLGk3mjIxMAEBISDOlUiGRSGBmjBf3Mq/T6XNycvJyc1mW1el0aWlpPj4+PB7PZrNVpK8IKqrr169DSYTjuLu7u9pVLRQKH2wAGMYGsBJ15enp1SykuVrtolarxWIRQZAsyypVKidnJQDA17euj4+PRCIRiUQvzmqapgsKCtPT0qxWq81mS01NFYlEBEHAoTSWZZ96VpZl9Xp9TEwMlEQ8Hs/L21upVPJ4JGc1TdO3bt36999/AQAN/ANCmrdwdVWrVEqhUITjuN3/CNy/nwQACApq6urqKpGIYe6XF2S12WzOy8vPzMhgGMZsNt+/fz8gIAD6VL30BgKpoqfriSZNmoSFhZlMJs6Hv8qxWq1r164dP378i7OCz+dzvaAvvUjRfYVA/Ac9LnFxcXA4xt3DIzg4yDF6ob09trmo1fCz3MlJqVSpVC5qtYtEIoZjSV5e3jhe/Nbu4eHh7OwEW8oXmiDC1dXVx6fu/ftJd27fhils1Wo1nPhWEW9ulmXT0tKKiopYliUIonmL5q6urqV2sdlsrq4lVstkMlUxLi4uLlKphCSLVZHZbMrIyCq22tPLzd1dIhYJRSLei7Ta09PTx8cnPDxcr9PRNJ2ZmSmRSKBr81MlAnQeio+Ph+NfMpmsRcsWUqm01DY2m02hVMKvCoWzSqUsttlFJRaLoSqqVcubomi71R4uLi7FVj9QRS/I6tq1a+fWqhUZEQG92fLy8oRCIecX/xKbCaSKKtqQw4HPF0R6evratWtnzpyJcvUhEIgqUUUFBQXQgUYsFgcFNYVNfqmtynwt8dB94KjLllldBX29T27wcBz39fXRajRpaWlwhMXZ2bmCqexZlk1JSYFb+gf4u7q6lu2cdvRBZh+Y5RjSidscc4yEWDmrn9rGSyTikJCQsPPnGYbRarVwnhdbsfOazebs7GxYdE2DgqAzeNmScfjs+PcgKOWjW5eN7vgirFarXRoFBt68ccOeEL3A09OTmzeHVNHr/vxavnx5ampqVFRUSEgIKhAEAvHcDxMuQFF+fn5JR5G7O5xTVrb/gAu6CHeBs7ltjA3DSuL9PBLJGm5iK26wqiqU8+NiLteqXSstLQ0AYDAYSquVx/SXwO6xgoICGFPRy8urbJhBu9UMZ7XdJhaazLXHj1ptX2e3ufJzzZ5stVwuUyiV+Xl5DMOYTCapVMrZVe72XKhGrVZrNpsBAE7OzpyzdlmrueUsy3DhqW02hovtVBK/+0G0bvuqStZ1ya5PsNrLy+t2TAxN0yaTqSJ9Y0gVvRZQFLVmzRqWZZcsWbJjxw5UIAgE4jn0EBe3ELrf6nQ6OKpCkCRsNUt1B9hstNVa4pxrn61GWa0Wi8VCEDiFEwCwjiF5uOBGOE5X0teEC+Bn96zFy20yxWIJF13wyWKIMxnGKIKz6kQiEUXRZQNtQ78ibu4YyzIURVksVovZQhIEQZBwcpmD1TYYmIembZUVRbjd5pLIROVoLAzDJBJJfl6eYzzuJ1Q0V91FRUXQIpIkrVZLubvQ9EOrabqkrs1ms32aG26P0/hIXVssVhYAAsdB5UQR7hCWE46ElDocSRIikUin03GSCPkVIcCRI0f0ej0AYO/evRqN5qV7QyMQiJoFFAQwADEXulCj0cARNK1Wq9Foy21cDQY9/GqxWIxGg14v4vMFXFhCo9EIp5hYrRaTyUzTNpK0VDJUIzfh3O5QTPJ4PIIgYRw4x8PCVBAAPLbzgAtayFkNm3O9Xg9FgFarLXud0GqdrsRqykoZDAahUAA9WuDUJ51OD622xzM0w5n5lbLavic0mSQJLlzhE475OKu5AFSOFV1UVASt1uv1ZSua6xd0nJlvMBh1Oj3J48GYnCwABj1ntdVoNMGAT5XpHntQ0cXqF1Y0F6SxmruWIlX08t/wFi1axD3aNmzYMGXKFFQsCASigg8QGJQIxiM2mUwWiwW2lwUFBTB0jUajkUikpXcELGOzGQyGB6rIrNcb+Hw+juMWixknCMACvaGkpTQaTQRBlkyZxuz/e552suQfDMNJkiBJnkDAFwgEQqEANpkVby9heB6z2QxNNpvNMDQz1IKwA76wsBDD8LJWswyj1Wo4LajX66Eys1gsBFlstUajfWC1wWg0ms2wiwd7bquxkkg8JUGchUKBHT6MDlVxiQB7zuyaxgCthhWdn5+v0WhYlpVrNIWFReXcJIC10Ta9vqSuTSaTXq8TCIrr2iww4wQOWKDT6aDVBoORz+ebTJWoa4eKJggcziwTCIv/xy82mlfNhRFSRS+Z2NjYK1eucF/nz58/ceJEFE8IgUBUUB9YrVaDwZCZmRkVFZWUlASVEMMweXl5MHR1bl6+h4d7GTlVrKhu3rgJv8bHxUslMplcJpFI+fySiIUGg56iaJYF4eHhjlPPnrtFY1lAELhMJnN391C7qoUCoUgksjE2sUhk71cgK3Jk2EtkMpm0Wm1sbOytW7dycnIoioJWx8fHwwiTZosVxiAovTsD7sXdg58zMtIjIsJlUrlU9jB6tdViMZpMLAvMJlNi4v3KWw0AJuDzXdRqd3d3uZPcYhGIxWKWlQCA8fkVlQhQCBqNxvz8/Fu3bt27dw/6jcEQBjD4uEfiffih3Lq+c+cO/Bp3755YJJLK5FKphEfyMLx4A4PBYC9DcO1aJEnyKmk1y5ZMUXJzc3Vzc5dIJEKL0CaxsWxxRb/QaYxIFdX497zff//dcUlRUVF4eHjbtm1R4SAQiKc+QGBLef78+SNHjpSKO1xUVFSSuSInp9zJrTCOM/ys1+vy8/OtVqvJaCJ5Do2WfSSnsMDK9QFUnszMrLi4eBcXVXBwsEqlYln2gbcNXvzxaXPv4ZBWRkbG7t27Y2NjHZ2HYCIO6GGTk5Ndtq8IWlRYWAA/ms2W/Lx8q8VqNpsJknyoouxWU1Yr0FaZ1SmpqXw+39/fv379+tAfHHpWVTwOk9lsvn379t69ezMzMx2H2IxGI7Sax+M7OTs/7gj6BxG99Xp9Xl6evX/RSBLkQwNfQF0nJSVJJOKmTYO8vLxYlsEwgBN4dUuSXwo0D/xlYjQaN2zY8PCFwn6XvLioRQgE4lUCjp0dO3Zsz549VZuKwaGbw+GvSvVcbm7e+fNhubm5JpPRZDLBhKZP3Qu6A2dlZa1evfr27dtP3aVaWW21WqOjo2/evKE3GGA2FYqmoV91ReTvrVu3/vjjj4yMjBflj/wCrLZ7OxkuX76UmJhYbLTJbLVQdPWYa4b6iqojoaGhjRo1WrBgQe/evQEAzZs3//HHHwcNGpSVleXu7o7KB4FAPLnXJCYm5vDhw1Ac1Kpdu3v37h4e7hiOsQDodDq93miP2qeQycRldi8WVQSOXbgQBgBo0jSoZ6+eLi4uKpVSJBbZw/e9kMu2WqiE+MRr166Z7URGXu3cuTOfLxAKhTBX/JO7EGAo5L///jsnJwf2jnTs1DG4WbBIJITRlrKyipcTOObh6Vm2g4wFgLExFy9c2rtnDwDA18/3rbf7FBttj2doP/uLqCmQn19w/er11NRUlmUTEhKdnJz9/f0tFgt0LwKAeHJFw7hNf/31V8kMfCenrt261W9Qn8cjWbv3dGGhBgY9UqkU5V6AXUBbLl26CAAIadGiS9fOLi4uSoVCWFzXOPZCJDuTkZ4ZGRFpj5XA3rx5Q6FwFggFVqtVIOCz9uhZ1bO7CKmil/lQa9q0aXh4OHQPhJHa33jjjfT0dC6lMwKBQDwOmqYPHToE564HN2s2cvRIkUjErS3WRIZiVSSRSsUiYdknkM1m4wZcpFKp0sXFRQ1jW0tIkqjifhIHatep3SCgwc7tO41Go0ajSU1NlUqlNE3DsMYY9qTGkmGYu3aKH5h8/idjxwYFN3V8qIpEJXlGXVyU5ZnA2myMUlkiHUQisT2gt4ubmxqmrH9BVnt4eDRs6H/i2MnIyKssy969e7d2ndpiiRhOsH+qI6nNZjt9+jRsKdRq9aQpk9UPwnPDcUBnZw3M4SqXy8ptbWjaJpOVrJJJpUqVSq1Wu7go7REQ8BdktZeXV6PGDXfv3JOWmkZR9N27sS4uatgpyDBstY1YjEbQXhoYhgUEBJT9/fN4vFq1aqHyQSAQT+41yczMTE5Ohnke3v/gfaFQyMX9K9YX9mh8LMsAlmFLBTQGLIyHwzyM8lwSzJp9sLzsLs/0Bx7+ldteenbu8gb8nJaWZg8MZCu+VMA+tXssPDwcxhvs1q1b06Amj5jMPvwr3wQ4Ce3h8E3JJ3ssx8paDZ5oNUGQnbt2VqlU0HeiIL/QRtMVCWANrY6IiICbDf3wQxe1S/lWA6bcC3twjkfqung5AyM6ghdntUQs6fN2byj7MjMzLRYzlET2uq6moL4iBAKBqEliCELTdFpaGhxS8fXzk0gljgEP7Z4oVhikkaKspJUs29YWK5FHojwzNM3ACEAkU7lZQhh4EKfQPqP9wXwmx03q+9fnHTtBUZQ9gh/NluiD8k2Gk9JtNpvZbE5NTYX9K0HNgkqZDKMRwndOykqVG6+Itsd2ctiFoW02q93qSo7pQAdie7hG7ME8/keOJhAI6jeon38p3z5xTMtFa3xcRUO/MQzDioqKcnJyGIZxdlbU8alTymoYvQhm/KCsVLm6yi47H9Q1XEIVF6nFSpIEU1mrSwIXYHh5Fa1Uqtzd3dLTMxiG0esNSqWqOksipIoQCASiZgBDNVIPsFqtWVlZMGAxn8/XFGkeaQgBazCYYKBnlmUslrKNJWtjGIcoz6yNpmHUIpq2VWZU5f/snWdYFFcXx6dt78BSpYNggWAvgIoRsddEY0yMURMLGvW1xkRjYuwaY0yxa+yKxhZ7L7FERBFUFJQiXUBgga0z8z7ulQ0CKoKJy3J+H3xmZ4dxzr07c/9z7rnnoFTVFEUSJElRHI4xaTRBEvjT4fifc4pFYpIkUR5ChmGxSlwNrGnFmbFoqwZ5WVDObmNJeays1WiwRxkaCQI3VozHK1MbtKY0nyGyWqfVlhSXMAxDkWQNrP5nTRllTFhIEGRFlaBQPJuyNIqwFzqHUF4iJP5Q8RatVovq46pURWSZySfWmHUJWW2snlbpSVmaZrSaZ33N0Ixeb9BoNEVFRXqDniTImnT007592tEI8mkr4M+ZTBAEn883Sb2XuwNBFQEAAACvAL3rG9NPl6AMflqtVqPRZGdnI92Tn1+QmZVd7m9QfkNj2iEBj8ctf04MYxnWlNmPpmm1RoMXFOr1eg6Ha3z3r773gCAIjlEQ8Xh8gYDHNabvI5+F9VZ64kqqmSKrDQaDMR8jjuKoUJqikpISDodjXL+mLvdHecY0hjiGo9TMlaki1pTqkKYZtUZLFKoMBgOXy8WJ6scd4wROkk/lEJfHE/B5xqSFPJKkKshB3HStlfY0ykuEsmviOI4a4cmTJyUlT3VbUXFRVla5PAusTqdTGfuRw+GIRcJKG5dlGFPGzqd9XVJC4Lher6MoTvWNNnoCjakpkdV8njEvJ0Ui2YbX0tsNVBEAAIBZSyKUlKiwsPDJkycoYzVSRenp6SgjUW5ubmpqWrk/UxszPhsnbrhcLrfSM6tUhcZa+phep1cVqjRqdWEB56l6qVl1C5TEmcvjCgV8oVAskYhEYhGfz8cqE0Z4ZReG5sJKSkr0er0xHkWL5oDUajXKw0RRVHpaulAkeu7PjOVNkBtDpSp8UVHVJ3lPkNUsyxSpVFqNprCAIimyJlYTOMHlUhSHK+DzhEKRWCKSiMVCoZDCKKJqi7zQhBpKU56bm5ufn6/T6ZCDsKCgACXn5PMFqY9SibLR2ejnYVSHHA5l8spUPHlRcXFpX+uMmaw1xsSVNarpQRAkl8vhcDkCPl8kEoslIrFIJHhqdeXCCMdBFQEAAAA1wCQF7ty5s3379mvXruXn5yPdoNfrkbPk/v37h/48WN4pUhqn85KMeXqdXiaTsSx28sTxs2fPPCtQUeOhSygUvfOOf3D79kqlUizR6A16Y7JjQsDnsSSJV0EfGCfONE+ePImOjo6Pj3/06JHBYEBWl5SUoBCZpORk8vmFTOyzOZqnEDjxIkMYmkZW34q+de/evTdiNUmSzs7ObQIDG/v5ScRinU7L0AyOP20KvLQA7stNRjFPJSUljx8/Pn36dGxs7OPHj00h1cXFxSzLkiQZfSsar+AKQlaXDe15SV//efDg0aNH3ojVXC6vfn3vwKBgd08PsVit1WmfXgmOC4UCnKBw8BUBNXkdBGMBACg/fhudByqVasOGDcuWLVOVpicuh1arRdmNzYd7cXcP/fnnoA8HtwvpwDIMSRAo3sbonXiZRCh1megzMjLWrVuXkJDwoidGWmqqWZmclJh44fz5dwICPh0+wsnJEcdxkqJIikOSBFaFIk4ogur27dtbt27Nzc190WElKSlmZfWDhPjjx451Dgt7b8AAhqYJ1NEcDkkQOEHUxnk0qi4/bu7cuXP06NHo6GhTyOFbwTRrHhsbO2DAgLfbLGKxODAwsEePHra2tv9Sii0cx2G0A4AqOoo0Gs3q1avnzZuHHCSojJSZXzby6xQXF69bu0an04Z168bjcfl8Pl/AoyjypRIBRVgzRUVFK1euTEpKejZQmXflLFPsF4Zh0TdvLlm4cNqMLzlcDg9F23C5BPGKrJgMw9I0nZKSsnr1ahRX/tRqDgc3+2GUNnLk8OEnT/JHjhnN4XIFfL6Az+dwqJrEaYEq+q9Rq9W9e/c+deqUWfktVCrV7t273/plbNy4kcvlTp48+dtvv4U6tQDwdlXRzZs3Fy9ejCRRq9atJ0+d7O/vT5jxjckwTMytmCWLFl+5fJll2a1btvj4+gqFAolGo9PqeTwe8dJJNGMiZsOZM2dRoVMejzdy1Kj+A95XKm1IijQ6msxxqFUVFkbsivjxhx/V6pLU1Ec7t+8YPTZcbZxU0hsEFEUai7LhL1SCLKvRanft2oUkkdLWdsq0qSEdQ8RicWmecXO0OjU1dfVvq3bu2MEwzNUrlxs2bNi1e7cStVqi0/FpvvHKwVdUG9Dr9cHBwdevX4dn7ovQarXz5s1jGGbu3Llv/GcNM2gAUPUX8Z9//hmNlCEdO27YtEEoFJr/lbdrH9yyVYthnww7eeIETdOHDx329PLSanUGg56hGeylGaRZlsl78uTmzZtoUdWU6dMHfjBAKBTweDxUthY3S30gk0knTprYuk2b9/v11+l0l/662LNXL5lMptfpadrAstxXPhUT4hPSjCHzCiurNevXent7C4UCLo+LCriaq9UNl/20zNPL8/vv5rAse/jQoeB27eRymU6vp2nm+VQMoIrMmBUrVkRFReE4zuFwe3R7v1nTNgR4REopLlIdP7n/WuQlDGOXLFny+eefu7m5vdn/AmbQAKCKlJSUnDp1CrlM5i6YVyskEYLP5y9asqh1y9Y6rTby2jWt7qkkoulnyZcrZjgsS3JyytMxFcMCg4JbtGxRi/qrTdvWAz/4YPOmTQzD3LwR5dvQ12AwsAxbBQXMxsXdQ9sfDh6sVCpri8kEQXw+auS+vftiY2KysjKTU1Ls7O1ogylT+Wsro7c+QNQ5VcSy7LJly9D2+HEze3b/oPamVfiXCAnp8d33E85fOG4wGDZu3Dh79mxoEwB4Kw+rtLQ05Cjy8vZ2cXGpXdfv4OjQqFGjG1FROp1WVVjIOti/qrjFM0dyVmbWM5ER2Paf9XO15DndqXPo5k2bMAx7nP0YFRKpQk0PjKbp0nq3nCZNm9WWReylCpgX3K5dbEwMy7I52dmMqRwJ+9ovzObwzlzn6qChVBAYhtnYKDuG9ABJVBEOxe3ZYyDavnXrFjQIALwtVUTTNBpbeDweQdSyxzWO46b0OWWKj716qFSXhhuLjOmIjMkCn02c4Wb/xJZIxGhDbzAYy6xVURqwer2hTCZovHZZLZNJ0QZKkVW9KAm8FFBFbwehUMyhOPDkrRQul4c23u7qPAAA6iZFRUUoOTVBkCRJPFWElj7zzmKsKVU3aSweQhBEbYk3qPZ1siyLRhljvRQSdfbbtRpq5gMAAADmRXLyszX5Aj6PoiiCJAhzjbN+U2g12rR0Y4JyHOMLjNVCCGMiSotWgzk5Oci9xDcWDAFVBAAAANSIS39dbtuqbZGxPmg5VIWqkHYhaWnptcuix9nZkdeuoW25Qm4stUqWFUV6vaFnt54REZXnMVm6aOnSxT/ULpMZhr106aLaWNVOwOcLhUJjfdnn9EFBfoG3h/fDB4mVnuHDgR+ePXO2dlmt0+lux95G2zY2Nlwu96kCftszxZDbGgAAoBbDMMzzRVL/AcdxOzs7cwhIKk339yzpH2tMO6TVarUaLcswWq3OuK0x6A0ZGRn79+3V6bQorkgul5Gl+qCsr0ij0dAGutL/SyKRmMN0GwoLMxrOGGjaqG9wA21Ateu1pVAUpVY/iY2JvR0bi/7Q1s6Wy+U+sxp7zuqSkpIXxTDb2Cg5pZEPb9Vqo8EMTRtoY5It9mlH63RajRbHcdTRmqfbRGFhVnx8fImxZi2Xy3Vzc3tqtRmkOAJVVM2f+6KlMx48iFs4f41CblPxgCPHdu/dt3XU55ObNgl8lVjWlKhL5DIr9PHEqf0RuzcOHDDs3ZCeFQ9OS0+at2BqwDstPxs++eWnjbsffez43vFjYfkYANRdRGLRpq2bzCEXtlqtKSoqKigowDDWGDn+VORE37yBqt/LZFJra2upVMrhcmmDwZTc2cHBjsvjkgSJE68xezbss2Hm0Ph6vb64qLiwUMXhcHQ6nTGRI56VmXXjxnUMwwoKnpSUFMtkMpFQiON4UdEzVx9OEAqFjOKUd4+9kqU/LjEH+avRaFWqIqGwkCBIjUaLKg3H3b0bGxOD4ziXSyW7uMhkMj6fb/KEkSTZqFEjqVRqDo4iUEXVV0XJyfH342+fPHXg/f7l70CaNuz+Y+ODB/cLC/NfearIqIsHDm5fMHcd+pibm30//vbefZsrVUXHT+6/feemUmn7ytMWF6tSHj2EngKAuoxOpz9+7HhISAexRHz/frxUKuFwOHsi9jxISHBxde3Zu2fZ1f4qlerI4aNR16/L5fLOYZ0DmjQxFWx4/DjnyOEjt2Ni+AJBcPt2HTq0R0orNib27t27ffr2OXP6zN9X/h77xVi5Ql61RyhmyumM3EjoX6q0tiuCy+VSJIUWY1VdIMTG3MZx7J2Ad4pURQ8ePGjUuNGlvy4fPXKEy+EEt2/fIaS9KWU/wzDXr0edOnGyID+/afPmXbt2EZeuIKNp+uKFi+fPnStSFdX38enes7u9vT3av3Tx0rFfjM3MyDx48E/fBr5hYZ1fw+TS7AMMciIZDS9bQgDHMIrimIRg1a0+d/a8bwPfevWcMjIyioqKnZycjh4+cvXKFWsbG2NvBpT5VejOnjn314ULDMt2CAlp36GdSTer1ZqTJ078deEiy7Kt2rQJ6xImEglR9M/O7TtHjh55I+rmiePH+73X39fX5zWsNuYnKFshhGEYJICEQmHjxo3t7e3NIaIIAXFF1adNm3bHjv/BPH8bYxh25+4NvU7n69uweqdt4Ns45dHDtPSk8g84vfbEyf3vvtsFWh4AgCqpIq127pzvjR4abMWPy9etWT9k8JDc3Dwvb++YWzFdOoXdu3cfHZmclNKzW8/Dfx7y8PAgSTJ8dPhPP/6EUinevRvXr3e/Wzejvby95XL5nNnfzZ41G1UgSU5OPnv6zJT/TdmwboOtvS3FeeFrNoHjpkVGVBk4HA6XyxUbkUqlMpnMyclJLBabHCevK4kwDDt6+MiRw0cxDEtISJjwxcRvvv5m8++b3NxcRWLx/yZMWDhvEXpo0wZ63vfzJowbT5Kkq7vbwf0H3u8/ID09A7l5ZkybsWjBIrlc4enlde3va3179k1OTkZKbs/uPadOnhky+OPiomJra+sXXQaO42QpFFVqNUlyjPD5fLFYLJFIpFKptbW1p6cnj8dDf2ZaffZaVv/2y68oD+TRw0cXzls4+vPRV69e9a7vXVBQ8MH7Aw/sP1CqfYuGDx22YvlPStun/LBk6ZiRY9AqsMLCwoHvDdgTscfD08PVzXXLps2ffDSkxBjqpCpUHfrz0C8rfv1m5iyBQICkUuUdTeDluvhZNxsRCoUmq+3t7d95550OHTo4OTkZG8ZcyoOAr6j6NGsSuHPXuoeJcV6ezwmgI8f2dGjfNSb2WlnfUlZ2atSNq1qtxsenkbdXY5QUoFCVX1xcZDDo8wvyuFyeUCAyJibhdwzpceTonhHDJpU9bdSNv0RCsa9PwO3bUUh0F5eoJGJZ2WNURYUCvoCCjAMAAFRg3x9/bNu53bu+N4Zhw0YMCx8VvmHtuvmLFuA4PvOrr8O6hE2ZNgW5DT78aPD7/d5r3bZ169atli5a8sGHH4wJH40GrZ69ew7oNyB83FgHB3sMw65cuTroww+XLFvy8nk6gVAolUrkcplCLucLeCgZj52dnVqt5nK5AQEBTk5ONjY2IpGIZdl/VBGO17DER0pyco8e3b/9/lt0eYFBQZ8NG/HZqBFKpfL8+fPHjh7btXuXUz0nDMNGfDZi8cIls2fOWrV29fXIqMuXLx84dFAulyH/0NjR4Xv37Jvwv/Ho2bv5900Re/fY29u9ZCDncDhGqSdRKOQikQgVuLWxsbazs8MwzMvLq0WLFkqlUi6Xc7nc/Px8k8eo5jl7Ll44v2z5j126dcFxnGVZFxfXn3/6uUfPHgRBrF+7jqaZnbt3ojzpwz8bPnzo8I3rN44cPXLLpi129na/rfoNtdWwEcNDgkOirt8ICg7EMCwjIyP+fvyuPbtMvVMpPB5fIhHLZFKFQiYUCpG8s7VV5tg9batGjRo1bNjQ1tZWKpXy+XwzSVAEvqI3BklSYZ37HjoSUXZnQWFe5PW/unbpb9rDMPTmbT9P/XJ4TExkQsLdpT98PWv2aLW6WKNVT5oyZMkPs6JuXP1oSOjqNUtMf9K923vHT+430PqyZz58ZE+3ru+ZcixlZqWOmzBQrS4ue8zESR/fiL4CXQMAQEXCuoQhSYSCOYLaBd2/H49hWFpqWnR0dPi4cJOycXJy/GToJ3t3/0HTtI+PT8+ePUxDl42NkqbpPGMu3KfPN5oeNXrkK0OXjGPf0wGSIJHbiDCNiARBmLwJ5SJLysUaVwMOhzNsxDDT5TVpGsCwTHbWYwzDdmzbOXzECCSJUFn+4Z8Nvx17JysrW6/Xjw4fgyQRaitnF5ekxNKYBBbr915fBwf7lw/nyGLk7CKIZyaX+r5wstRpVM5q/E3kbPTy9g4NC0WXh+N4cPvg1NRUdYlarVbv/WPflGlTTKVjhELh/yZPitgVwbKsTC4f+ulQU1vx+Xx7BweT1QUFBWPHj325JDK690o7mvjnXxPlOto8EzKBr6hGdOv63tjxH4wcMYXPf/YjO3/hmLtbfTvbeqZjYm5Hnjt/7Kdl2+UyazQRNnnqJ39dPtmpY+81Kw9cunKybFwRwtuzkVymuHHzcotm7dCexzkZMbHXx4+bdeHicWh2AACqM1jWr1/2o2mEu3nzBsswPyxZWnaISnyYlJWVhWHYlOlTNBrtvXv301JTs7Kyr16+kpeXazqssZ+fKRanBm+YpCmDH5qbe1M4ODqKxKJ/XFYCAUWRGIYZDIaoqEiCwJKT/1noTtNMbm5OUlJScLsghmEyM7NSkpMzM7Pi7sYd/vNws+ZNTQN/q1atqnc9pogL0/zavxFf7OHpWVanSko7Oi83L/Hhg4hdEQf27zd9W1Kijrt7V6vVDv7oQ4PBkJSUlPooNScn93pk5J07t/uxfdBh9erVc3auV/OONmc9VHdVEQrxq4nvzvS3To5u9eq5Xf37XIf23ZBb6OixPQPfH4GmSBHZ2Rk9eww0LVXjcfleXg0TEu6FvotXzHFuen3qEtbvyNE9zZsGo3vm1Jk/mzZpbWVlW0Z2V5IfHa9A9ZoI+V3/vfaH8QkA/nte9EAoLi7h8XkKhaLsAYpmCmsbG5bF9u3dv3b1Gm9vb3d3t8b+fp+PHlU2Lw6Xy63exRSpipAA4nA4PB6Py+X+GyPlix6Der1ep9UprKwUCkXZ/WPGjnGwt09Pz5j11UydTufj6+Nd37tzWKhep8vOzjKdk8OpptXpKE+jUZKaXCb/htWV7ldrNCzLWltbcTj/RFkoFIppX07HMOxWdPSsr7+xs7f38vJs2KjRhx8Nvnsn7h+tUN0FYgzDaNQadFVcLhdZbc45u6m6+WhAo3516teV0VWIbl36Hz2+p11wFxzH4x/cyXuS27x5UNkDQt/tY3w10avVxfmFeXFxMZGRF1u26ID+63KXYfr4bsceG37/SVWUL5UoaMZw+EjEhC++wTG8zImxiiawFai2cPn3frVQMx8AzAoHB0eRSBI+bmxZB0N+fn5Bfn5iYuLcOd9v2rrZ19cH3bmFhao38p9GXY9CSY2tra0lEgnK4PefPRz4fL61jU1o584hHTuU8RXRDx48VNraTvxigqeX1+Spkzml8ePHj70BJ31JScnNm9HoGejo6Mjn8zkczn+5Fl0ul0ml0g8/+tjBwc60U6vVPnyYSJLk8KEj5sz/Piysc9m39Jr/p5kZmSkpKUhXOTg48Hg8M1mB/yIgrqimBAeF3Y27lZuXiWHY0WN/tAsOEwqe8ycXlxSuXD1/6pdDFy6ZceLEfoIg/P2bv/K0Mql10yatz50/+lTCx1wjCMKvUQtobQAA3jj+/n5paammLMOIpYuWrl+3IfFholQqqV/f2zRAxsXF5ebm1PB/fBD/YN++fWi7cePGYrGYz+cjVfTfCCMcx1u3br1/716G/mcRcXx8wseDPnry5MmdO3eC2wWZJJFOp/v76rUa/o9arXb/3v1ZmZlICHp4eAgEAqSK/jMtKJXKXFzdjh89Wnbn4T8PT500paCgMDk5qUOH9qaLyc3Njbt7t4b/Y35+/pbNWwwGA4Zh3t7eCoXCOIkJviKLRiSUtGrR7tTpP3v1HHT+wrFlSzaXO2DZ8m+srGwXzttgWhp25250Veooh3Xuu23H6u5dBxw5uiesc99X+mxpWm8wQDFXAKhz6PX6+PgE4fPrpQmCsLayqsqfy+SyoZ8ODR8dvmb9Ol/f+nq9/uiRY0ePHNm5e5dOr0tLSz9z+myHkPYMw0RH31r92yq5QpGenuHj61v1K8zOyhKLxTqtNisz80HCg4sXLqBUjY6Oji1bthSLxdWYQcvMzDRlFjBhY2NdxT//ZNjQ9/r2X7tm3ceffMTn89NS077+8qv+7/d3cLD38PDYsW2Hn7+fVCrNycld9dtKg0Gfk5NbUqLmcqu6wreoqCgjPd2g16tUqqIi1V8XL6HIZYIgOnToYG1tbdIHr+XUT0xMNNCGcjvr1atSxA+Xyxk9ZtS0qdOcXVzatQ/GcTw2Jnbh/AXfzf1eKpXaOzhsXP/7p8OHUhSVkvxo0YKFdvZ22VnZr1Uj/Enek/S0VINe9yQvLzMj88L587nGwHyBQNCpU6ey8hdUkSXTJaz/L7/NlcutXV08nRxdn3s/0Klv3Li6bOlmkyRiGPrRowfO9bxeedrmzYKXLpt5N+7G39fOfz5iUvmeo0idTqvVaQWCZ7GEj3Oysh9nQncAQJ2CL+CLxeLRI0eVf2ETidauX+vi4kwa58WUxuXQzx0gFjk6OqLtKdOmYBj+6ZBPjHFCLEVxlv203N3DnWXZ8RPGfzltOo/HpSiOQqH4ds63p06eXjh/gaenh0gkQuvMX8m+vX9YWVmJxWI0gYJ2WllZDR482MbGRiAQIFVUdX1Qr169Hdu279i2vdz+z0eOVFgpUMUPHo9XUS64ubmiWCgfn/or16yaM3vOpt9/x3GcpumwsLCxX4wjCGLGzK8mfjGx87uhPB6fw+H07NVr0dLFoz4buWb16vCx4S4uLmQV0oU/SIjfsmmTSCQSCoUcDgfpAIIggoKCAgMDJRIJKoZa9Y4mCMLDw+PrGV9V/Oqnn1c4OjoIhQKjQ0iqtFWW/ZakKDc3N9Qm3Xt2L1SpZs/6xhRlMXb8uE6h7+I4vnTZ0tmzZv++cSOXy+Xz+ePGf0GS5ML5Cxr5NW7UuFG9evWqImWuXL6UmZFeTv1wudw+ffp4eXmJRCLU0eZ8Q4EqegP4+7fQaDSr1iwOH/0lQTz3K+dQXLncKvL6BRdnTySJ9h3Ykp7xyNHBrVS887IfZ+oNOg5V3hXE5fBC3+09c/a4d/xbWFuVf/TI5TYkQV26fLJblwEobmnr9pUymRy6AwDqFM2bN7ty7YX5OHbteZY6ZNbsWeW+CjVS+iDifjVzxpjw0enpaRwu19XVFSUVxHF8dPjoDwZ9kJ6exhcInJ2duVyu/zv+E/43HsdxD0+PDiEdqnHNJEnWr19/wIABjo6OPB7vdcNrOBxqw6YNrzysQcMGm7b+Xm7nwcOHTNuBgW33/7n/0aNHGrXa3sHexubZmhgfn/r7Du5NSUnRarSOTk4KY8LuU2dPoTE+4o+I6vWUTCYLCwsLDg4WiUTVCDqWSCUXLl140bctWz0Lsej/fv9yXzk6Ohw+dtgkrQZ/9GGfvr1TUlIYmnFzczOt0QvtHBoYFJSUlIjjhKurC1q936VrGLrITVs3VcNkHMcdHBz69Onj5+fH5/NRpTMzv6FAFb0BSIIK7dRr7/4trVt1qKDuyc+GT5q/aNr5C8elUuv0jMQA/9YTv/jmq1nhTk7O7/X7tL53Y7FI3CmsYdew96ZPXVDuzzuH9tmxa13XLu/hOFFRM30+YvKipTNOnDwgk1pnZqX06D6gXPoiAACAqqOwUiisFFXZ/7ozIPb29s7OzgqFQiaTOTs7+/n5eXl5IWXwL61OryI8HtfLy7Pifi6X6+XlVROTBQKBm5sbMlmpVHp5efn7+1tZWZlMfouzSCKRqEGDBhX3C4WChg0b1sRquVzu7u6OrHZwcGhoRCgUmtbkm/9dACvzq/O7JAji5+U7Ua4qtGfIR+M+HhxOEP/kLF+6aDM6oHWrkG2bT926dU2j1TRuFKC0cXz6vrI3kjCu3pdJrZb/sINhaHTwwPdHDHhvmOkkHu6+p47FlU2F3rvnR716DEYfg4PCAgJa37jx9DUxIKClVKIIbNtJKBTjON6sSWCTd9rCynwAqL2YYdrfahMcHNyyZUtXV1elUikUCpGbpKIysCSTbW1te/fu7ebm5uTkJJVKORxO2Ywtlmp1/fr1+/fv7+bmZm9vLxaLTakHaoUeqruqqOYr85ETqOwAj7KVlt1T9gCRUNKmdcfn2t0YZoS+Nabzokzr4XGcLHtVyN/4/H/0j2SRiGXtgsP+eaWTK0sPxgkCh5X5AACqyCxGGoricrk8Iy+PLLEYqwmCQCZzjZRNEWTBT0VktQnzny+rxAR49AAAAJinKqqNg0q59yu0gVI1mvwlVbRar9fXOpPLZq82JS18pafE5Darybv6W8SUkZyiKCQEzXyhGaiiSjDo9QzLwJP35Td2bX8oA0CtVkUSiQQNqLm5eSjnYW16xhoMmZnPVsUqFApT0sKXD5YkSZpWxt2vsPDe/ElJeYQ25HK5QCBAa+5eKQT5fD7Ksq3X601nqEXaNzkpGW0rlUpTVDWootoBj8cTCAQYhqVnpN6+cwOevJVy6fJptOHs7AytAQBvCycnJ3QPJiclHjt6rBZ5EViWPXniVFJiojGHkI2rqytalv/KFy2CIFq2bPlstdeuXcXFJbWov7Ra7ebfn63V8vf3l0gkKIjqlb4iHo8XEBCApOTvGzbWLndRUlLysWPHUIh6o0aNJBIJn8+vvaqozsUVkSQ5ePDgn3/+GcOwOd//b9TIqX6Nm9WiQLB/G41Gffzk/n37t6KPI0aMgDYBgLf2gKaojz/+ePbs2SzLzpg23dZW2aZtG/N/XjEME3nt+pT/TUaOkK5du1pZWaEMPa+8eHS8g4NDenp61PXrM6Z9+f38uZIaF6D9DygqKpo3Z97NGzeQo6hjx47IXURVIbkRQRBDhgzZsmWLwWDYvGmTj6/P0GFDq/KHb137pqelTxg3Pv/JEwzDGjVq5OfnJ5VKkSqqpTcdXgcXBBUUFHh5eaGEm6XVDSH+1/Q4o1F2dgzD+vTps2fPnjer9y9evNiuXTsMw06dOhUSEgINDgAvJy8vLzAwMC4uDnkUwrp0bda8qUQqMV9xoCqKuh515PBhlBPZ2dl5y5Ytbm5uVlZWKLNfVUTVb7/9Nn78eBSt4l2/frfu3es5O5ntQEsb6MzMrH179z5ISEDCbtKkSZ999hkq8WZK4fhy9Hr98OHDN29+Vh2hdZu2IR1DlLY2ZtvROq32/r34A/v35+TkGFf1C1esWNGhQwcrKyuUkKm23nJsneTRo0eOjo448GJCQkKKi4vfeMtfuHABnf/06dMsAACvgmGY2NhYNze3WjcfgeO4nZ3d/v37Hz16VFBQoNPpqm61VqsdP358rVzBRBCDBw+Oi4vLyclRq9U0TVfd6sePH4eEhNTGiSeBQDB37tzExMS8vDyNRsMwTO294/A6mzxGrVZv3rz5jz/+ePTo0ev4SIvFpZlAzVnpFhcXi8XV9Dn7+fmNGjWqXbt2/4ajHnxFAFCNOzolJWXKlCkHDhxA2sL89RBFUaGhoTNnzvT09BQKha9cml6p72T79u2zZs169OiRaf2HmeshR0fHiRMnDhw4EJW8qEZJfJVKtWDBgl9++aWwsLBWjM4kSfr5+X399ddBQUFCoRCtNKzViQbwOp5S77XMp2m6bdu2Fy5cQGV0zJaCgoIBAwYcPXq0Jlkc/6VrA1UEANWDpumEhIRz5849fPhQpVK9qVXckZGRPB7Pz88PTV0ZS67eY1lWIBB4eHjk5+cTRhQKhSkp38tPKBaLXVxcgoKC3N3dOUaqndSYYRi1Wn327Nno6OjMzEyT36XmLbl3794ePXrw+Xz0MTIysri4GMMwV1dXgiC0Wi1Jklwu187ODqWifvkjkSAIW1vbRo0aBQYGolaqSg6Cl1idk5Nz6tSpO3fu5OXlvamONhgMqampbm5u6IQajebKlSsoNZ2vr69KpWJZliRJkUiEEnC/crUgl8u1t7dv0aJF06ZNOaVYwLLlul7x47V+tUlJSZGRkdeuXQsKCjJnoy5evHju3LnMzEzTAlcAAGo7JEn6+Ph4e3uXnZ6o+WlbtWqlUCiWLVuG5q127dqF3Mz+/v6+vr6ZmZl8Pl8oFLZo0QKFS1clDw2aJa95UmOCIEQiUbdu3bp06YImE9+IyRcuXNiwYUP37t179uxJ03RmZua8efPUajWHw+nXr19GRgaSRF5eXp6ensjl88rB3hR7gKyuyYsl0lgDBw58sx199erVWbNm/fjjj0ghXb9+HaWDsrKy6tGjR3x8PKpi26xZM7S6vipatqzVFrNoCeqgvYZXad68eSzLfvPNNydPnjRbDyHDMDNmzNDpdL///vuXX35pni0JPycAqPaQ+QaHn8jIyFu3bpEkmZSU5OXlpdPp4uLiUO16d3f37OxslJHPw8NDKpWiyvb/vTPgjWez3L59u8FgWL9+fd++fXEcT0xM1Gq1BEEolUo0QcnlcqVSqbu7u0gkqqIQNPOOxjAsIiLiypUrCQkJDRs2ZFn2zp076Pxubm4ZGRmoo+3t7W1tbdGMZ+1dWl/TloenTBXRaDTbtm3Dcfz8+fMo5N48efjwYWxsLI7jP/zwg3mmfbOkOgYAUKs5evQoy7JIIqBlKGjKRiwW0zTNMAyaUnFyckLZii1gfkSr1e7ZswfDsLNnz8bFxbEsGx0djb5ycnLKzs4mjbi6uqJF9ZYhDnQ63bZt27Ra7c6dO5FT8O7du+gra2trlUqFrPb09DR1dJ19SoMqqirbtm1DIoOmaZTuyDzdMHPmzEHbubm558+fh44DAKBS9Hr9/Pnz0famTZsKCgpiY2PRYngbG5snT56gORRXV1dTsQ4LsPr48eOFhYVowc3GjRsLCwsfPnyIfDMcDoemaYqixGKxo6NjTSKizNBqpHdXr16dl5eXnJz8xJhhSCgUajQaJIns7e3LVrGts/cFqKIqwTDMnDlzTFO8P/74o3m6YYqLi3fv3m26zunTp5vhdFUtLfQDABbGpUuXSkqeZY7Oysrau3dvTEwMukP5fD6KvZXJZPb29mg+xQL0Acuyc+fONT1/IiIirl+/jkSSQCDQarVIE7i7u6OJM8sQgizLLl68GG1nZ2dHRERER0ej57BMJispKUHh4e7u7hbT0aCK/nWioqJSUlJMkWUqler06dNmeJ07duxQq9Wm64yOjn6tvAP/DTCDBgDmMFKOGTOm7J4VK1akpaWhr0zTKG5ubkgfWMZIiVbMmD6mpKSsWrUKxXFzuVwUwKRQKOzs7CwpsObRo0cXLlww9fuaNWtiY2PR2z5VipOTEziKQBW9xuMDxe2XZfLkyebm8KBp+ocffii3Z8GCBdCDAABUHClNkSWI2NjYnJwclmU5HA7SBFZWVkqlEo2UlqGK5s6da6rujp7tV65cYRhGr9ejFfUURVmeo+jHH38sO1rdunUrJiYGxZNJJBKKorhcLkqjAI4iUEVVIj8//48//ujdu7dSqUTrY3v16hUfH5+cnGxW13nnzp3ExMTw8HD00d7evkuXLlu3btVoNNCJAACUZcGCBRwOx8fHB3308PAgCOL+/ftarVYqlVqkPigqKtq1a5erqytKUyQSidzc3B4/fpyXl0fTtFQqJUnS2tpaqVRakqNIq9WuX7++3NtyfHw8TdNcIyi0HNXoAEcRqKIqgXIU7dmzRyqVonqNO3bsiIuL++uvv8zqheCvv/568OCByV3k7u5+6NChI0eO3Lp1CzoRAAATOp1OpVJlZ2d/++23aM97773XpUsXtVqdn59va2tLUZRSqbS2trakkfLs2bOrV6+OiYlBT3KJRDJ69Gh/f//k5GSxWIwkgoeHhyXNGGIYdvjwYZIkv/jiC/TR29vbx8cHLTa0sbGhKEooFLq4uNTlpfjlgHxFr6ZTp044/lwScIIg3N3dUZJQMwHH8ZEjR+I4bqrtina2bdsWQpsBAHjuuU9RmzZtKpsHKCEhQaFQNG/eHDlRUOytJS09wzCsa9euJEmanpAsyz548KBBgwaZmZm2trYkSdra2lqYEESpq1NTUwsKCn766ScUVB4QEKBUKnNycpAqcnV1RfkbQRU9G9+hCaoiOF5rP1wnAABm/dyvUMwhNTWVYZji4mJ7e3uKouzt7a2srCzMf1BO3pWUlBQUFKjVaoqiFAoFn8/38PCoXvEycx68+vbtKxAITJ2Ym5trMBhkMpm7uzufz0flWXg8HkQUgSoCAAAAnmEwGNRqtU6ns7e35/F4pogiCx4pDQaDXq9XqVRWVlY8Hs/e3l6hUFj8RJLBYKBpuri4GJV4c3d3FwgEKDMT3AWgigAAAOo09+/fRxssyxYWFkokEpTAUC6X14VAE41Go9Pp7Ozs+Hy+m5ubhTmKXoRKpcJxXKlUymQyJycnVPIMphRAFQEAANR1UH1QpA/0er2tra1AIEA5iixVH5SNvFSpVBwOx9ra2uKFYEFBAdpAjiKpVCoWi02OIosJHQNVBAAAALwBUFVUBweHevXqSaVSFGhikfrAlK+IYRiapuVyuUwmQ1XPLNhRZMrPgsrb2drayuVye3v7OuIeA1UEAAAAvBrTAlWWZUUikVKpROl8LHik1Ov1yGpU8sLe3r5evXoymext1cb/z1SvqaNJkrSzs/Pw8DDVxocbAVQRAAAASKLnKhLa2tq6u7tLpVLLDjQpazJFUc5GBAKBZeuDslaj9JVKpRJZDY4iUEUAAAAAVi6TmZeXl5ubW50aKeVyeYMGDeRyuUAgqDsRx05OTt7e3mKxmM/ng6OoIrAY77Vfrcw/KaKZXyFklQQAc6BsnWY+n9+2bVuFQiEUCi1bH5Q1zcfHx9vbWyKRoDgqy+5rtEEQRPPmzZ2cnCQSCTiKQBW9mYeI+T8vzPwKYQkoAJihPmjcuDGfz7d4fWCKIicIIiwszNbWls/nW7w+MFknEolCQkJQ1kpYkA+qCAAAAPgHVPEaw7BmzZrJ5XLSiGWPlKg0LIZhUqm0QYMGEokEWW3ZHW1nZ4c2XFxcnJ2dCSMwfQaqCAAAAKhksETlUeuC58BkI0mSqP5XXbDalLqax+PVkY4GVfRfcPXqVYZhMAzjcDhme5EkSWZlZeE4brYZ3CGuCADMDRcXlzo4Ukql0rpmdR00GVTRv/iGYWVlVSuu0+QVN0OaNm0aFxeHYZizszP8qAAAAABQRUDdRSgU+vj4QDsAAAAAZgisygMAAAAAAMDAV/Qa0DStVqtpmsZxXCQSQfQ+AAAAAFgY4Ct6NXq9fuXKlR4eHtbW1gqFwsrKytXVdcqUKfn5+eaj2EJDQ2NjYyv99tKlS82bNz98+PBbCXPOy8tr0aJFUlLSiw64d+9eq1atTCWdAQAAAABUkZmSm5vbuHHj+fPn//TTT1lZWTqdrrCwMCIi4urVqy4uLjdv3jST67xz545arS63k2XZkydPdurUafLkyV27dn0rSw8UCgWO4ytXrnzRAb/88otYLJZKpfBjAwAAAEAVmS8Gg6Fdu3Y+Pj7x8fG9e/eWy+UURQmFwjZt2pw7d27KlCmBgYE5OTnmefEsy+7fv79Pnz4REREDBw58W6sxcRyfPXv2+vXrDQZDxW91Ot3WrVtnzpwJi0UBAAAAUEVmzfr16x8/frxjxw4ul1txsP/qq68CAgI+/PBDM0zAw7Ls3LlzP/300+vXr3fv3v3tao727dur1eqYmJiKX924cYNhmNatW8OPDQAAAABVZL4wDLNo0aLZs2cLhcLK244gVq1adfr06aKiInO78mnTpi1fvvzGjRvmsAxeKBR27tx50aJF5eQjy7ILFiwYPHiwKQc/AAAAALxFYA3aC8nOzk5KSurTp89LjmnYsCFJkpcuXQoLCzMfSRQeHn7o0KGbN286OTmZwyXhOD59+vSQkJCSkhKRSGTaX1RUdOLEiWvXrsGPDQAAADAHwFf0QnJycsRisbW19cuajyA8PT0TExPN5Jo1Gs0nn3yyatWqIUOGODo6mk9jNmnSRCaTnT17tuzOU6dO2dra1q9fH35sAAAAAKgis0av11MURRCvaCKJRGImM2iXL18OCQl58uTJli1blixZcvXqVfNpTIqihg4dumLFCtMkGsuyy5cvnzp1KmR+AgAAAMxltIImeBEcDsdgMKBysC+hqKhILBabwwVPnjy5V69e27dvpygqJiame/fusbGxDg4OZtKe4eHhnp6ejx8/trW1xTAsIyPj77//3rVrF/zSAAAAADMBfEUvxNrauqioKC8v7yXHGAyGBw8emEmh0wEDBuzYsYPD4eA4Pnfu3KCgoHfffVev15tJezo4OPj5+e3evRt93LlzZ4sWLWxsbOCXBgAAAIAqMndsjRw8eLDcftYI2o6PjzcYDIGBgeZwwePHj6eoZ84/giC2bNlSUlIyePDgV7q7/htwHP/iiy9++eUXxsiqVau+/vprSFMEAAAAgCqqBZAkOXny5FmzZpULG0pISOjWrVtBQQHDMCNHjgwODpbJZGZ4/RKJ5OzZs4cOHVq7dq2ZZFTq06dPcnJyUlJSYmJiZmammahJAAAAAABV9GrGjRsnFAqHDRtWdh7K09Ozf//+9evXHzp0aGRk5I4dO8zB4VGp7nFzc9uzZ8/YsWOvXLliDu0pEok6d+68YsWK5cuXDxo0SCAQwG8MAAAAMB8g2vplcDicK1eutGzZ0sfH57fffmvbtq1IJNLpdP7+/izLbtmyZdiwYSh2+K3zImUWFhY2bty4sLCw+Ph4Ozu7t36RkyZN6tKlC8uykZGR8AMDAAAAzArwFb0CW1vbe/fuhYeHDxkyxMrKiqIokUjUqVOnfv36RUdHX7hwYcKECZVW+PqPcXZ25vF4lQqRxYsX9+rV64MPPjCHAKOWLVt6e3v7+fl5e3vDrwsAAAAwK8BX9Gp4PN6kSZMmTJhQVFRkMBhwHBeLxagy2u3bt6dNm1ZUVCSXy9/iFZIk+ZI5MhR5bSaNyeFwoqKi4EcFAAAAgCqqxZAkWTGqmqKopUuXQuMAAAAAgAUAM2gAAAAAAACgigAAAAAAAEAVAQAAAAAAgCoCAAAAAAAAVQQAAAAAAACqCAAAAAAAAFQRAAAAAAAAqCIAAAAAAABQRQAAAAAAAKCKAAAAAAAAQBUBAAAAAACAKgIAAAAAAABVBAAAAAAAAKoIAAAAAAAAVBEAAAAAAACoIgAAAAAAAFBFAAAAAAAAoIoAAAAAAABAFQEAAAAAALxJKGgCAACAukmzZs3WrFmDYViTJk3qiieAIJYuXarRaIRCIUHUFb+AVCpFHe3q6go/+5eDsywLrQAAAAAAAAAzaAAAAAAAAKCKAAAAAAAAQBUBAAAAAACAKgIAAAAAAABVBAAAAAAAUBmwMh8AAAAALBmtVqtWq1mW5XA4IpEIx3FokxcBviIAAIC6Qnx8fOPGjfPz8190wOHDh1u1amUwGCzM8PDwcJSwpyJpaWktW7ZcuHAhwzCW1+OpqamDBg1SKpVWRmxsbBo3brxr1y6apuF2AFUEAABQp/Hw8MjOzt63b1+l37Is++233wYFBVEUZXniIDc3t+L+hw8fNmnSpGPHjlOmTLGwpI4sy0ZERHh7ezMMc/nyZY1GYzAYUlNTp02bNmrUqA4dOmi1WrgjQBUBAADUXUiS/Oqrr+bNm1dp/t68vLwbN26MHz++jrTG7du3mzdvPnHixPnz51tenuvo6OghQ4bsMNKoUSMul0uSpI2NzZAhQ5KTkwsKCvr16wdpnEEVAQAA1GkGDhz44MGDjIyMil8dOHDAxcXF2dnZ4huBZdkDBw60adNm06ZN06dPt7w4G5qmBw0aFB4e3qtXr4rWSSSSAwcOnDx58vLly3BHgCoCAACou9jZ2Xl7e//222/l9jMMM2fOnK+++sriQ3FZlt2+ffvgwYP37t3bvXt3i7Q3ISEhKSnpyy+/fJF1rq6uH3/88dy5c+GOAFUEAABQd8FxfM6cOb/++mu54OKkpKS0tLR+/fpZvCRat27dmDFjjh8/3rFjR0uVgHv27AkICLCysnrJz2DYsGFnzpzR6/VwU4AqAgAAqLt0795dpVLduXOn7M7ff/89MDBQKpVasOEMwyxevHjkyJEBAQEtW7a0YK9YQkJC06ZNX26gp6enXq8vLi6GOwJUEQAAQN1FIBCEhYX9+uuvpj00Tf/666/fffedBQuFhw8fjhgxYu3atcePH4+Jifnhhx8sONa4pKSEz+e//BgOh8MwjOVlYQBVBAAAALwGOI5/991369atM63Nvn79ularbdmypQVbvWHDhr///vvatWvvvvvutm3bZs6cefr0aUs1VigUajSalx+j1+sJguBwOHBHgCoCAACo0/j7+wuFwosXL6KPS5cu/eSTT7hcrgWb7Ovre+XKFZlMhmFY586dFy5c2Ldv38zMTIs0tn79+lFRUS93hkVFRXE4HKFQCLcDqCIAAIA6DUmSY8aMQUuQNBrNwYMHJ06caNkmDx48WCwWo20cx8eOHRsaGtq+ffuSkhLLM7ZHjx43b96smLiSYRgklVCOx+DgYPAVgSoCAAAAsNGjR587d66wsPD8+fM2Njbu7u51TRdu3bqVpulRo0ZZXq0PX19fd3f3WbNmlXUXsSw7derUlStX0jT98OHDrVu3zp49G24EUEUAAAAA5uTk5OzsHBERMWPGjLqQpqgifD7/zJkzBw8eXLRokYVFXlMUtXXr1vXr1+/fv99kGo7js2bNOn/+fGhoaNeuXUNDQ1u3bg03AqgiAAAA4FnM9bRp027evPnBBx/UzUZwdnZGLpOzZ89amGkBAQFbt24dNGjQwIEDY2JidDodTdMajcbPz+/MmTOJiYnz5s2D4vmgigAAAIBn9OvXz9HRsU+fPpadpgilclYqlZV+1bVr1+XLl0+fPr2goMDCVG///v0TEhK4XG5QUJBAIKAoysXFZcOGDbt27dq7d29oaOiJEyegFFr5doMWAQAAAAALRqvVajQalmUpihIKhagUbnp6+tq1a2fOnAkeI1BFAAAAAAAA5YEZNAAAAAAAAFBFAAAAAAAAoIoAAAAAAABAFQEAAAAAAIAqAgAAAAAAAFUEAAAAAAAAqggAAAAAAABUEQAAAAAAAKgiAAAAAAAAUEUAAAAAAACgigAAAAAAAEAVAQAAAAAAgCoCAAAAAAAAVQQAAAAAAFBd/h8AAP//Pow0/jYN/dkAAAAASUVORK5CYII=)"
      ],
      "metadata": {
        "id": "OMLNq9XrBHBs"
      }
    },
    {
      "cell_type": "code",
      "source": [
        "def attention(query, key, value, mask=None, dropout=None):\n",
        "    \"Compute 'Scaled Dot Product Attention'\"\n",
        "    d_k = query.size(-1)\n",
        "    scores = torch.matmul(query, key.transpose(-2, -1)) \\\n",
        "             / math.sqrt(d_k)\n",
        "    if mask is not None:\n",
        "        scores = scores.masked_fill(mask == 0, -1e9)\n",
        "    p_attn = F.softmax(scores, dim = -1)\n",
        "    if dropout is not None:\n",
        "        p_attn = dropout(p_attn)\n",
        "    return torch.matmul(p_attn, value), p_attn"
      ],
      "metadata": {
        "id": "M_EZRrmzIG5m"
      },
      "execution_count": null,
      "outputs": []
    },
    {
      "cell_type": "markdown",
      "source": [
        "From the diagram above, we see that the multi-head attention is composed of several identical attention heads. Next we code the MultiHeadAttention comprising multiple identical attention:"
      ],
      "metadata": {
        "id": "UUrUHmIjDOaH"
      }
    },
    {
      "cell_type": "code",
      "source": [
        "class MultiHeadedAttention(nn.Module):\n",
        "    def __init__(self, h, d_model, dropout=0.1):\n",
        "        \"Take in model size and number of heads.\"\n",
        "        super(MultiHeadedAttention, self).__init__()\n",
        "        assert d_model % h == 0\n",
        "        # We assume d_v always equals d_k\n",
        "        self.d_k = d_model // h\n",
        "        self.h = h\n",
        "        self.linears = clones(nn.Linear(d_model, d_model), 4)\n",
        "        self.attn = None\n",
        "        self.dropout = nn.Dropout(p=dropout)\n",
        "        \n",
        "    def forward(self, query, key, value, mask=None):\n",
        "        if mask is not None:\n",
        "            # Same mask applied to all h heads.\n",
        "            mask = mask.unsqueeze(1)\n",
        "        nbatches = query.size(0)\n",
        "        \n",
        "        # 1) Do all the linear projections in batch from d_model => h x d_k \n",
        "        query, key, value = \\\n",
        "            [l(x).view(nbatches, -1, self.h, self.d_k).transpose(1, 2)\n",
        "             for l, x in zip(self.linears, (query, key, value))]\n",
        "        \n",
        "        # 2) Apply attention on all the projected vectors in batch. \n",
        "        x, self.attn = attention(query, key, value, mask=mask, \n",
        "                                 dropout=self.dropout)\n",
        "        \n",
        "        # 3) \"Concat\" using a view and apply a final linear. \n",
        "        x = x.transpose(1, 2).contiguous() \\\n",
        "             .view(nbatches, -1, self.h * self.d_k)\n",
        "        return self.linears[-1](x)"
      ],
      "metadata": {
        "id": "rzevg4Ms9DuJ"
      },
      "execution_count": null,
      "outputs": []
    },
    {
      "cell_type": "markdown",
      "source": [
        "Next we build the Transformer model. "
      ],
      "metadata": {
        "id": "Ts6MEYZmEt8E"
      }
    },
    {
      "cell_type": "code",
      "source": [
        "class Transformer(nn.Module):\n",
        "  def __init__(self, src_vocab, trg_vocab, embed_dim, nhead, num_encoder_layers, dropout, num_decoder_layers, dim_feedforward):\n",
        "    super(Transformer, self).__init__()\n",
        "    # get initial hyper-parameters\n",
        "    self.src_vocab = src_vocab\n",
        "    self.trg_vocab = trg_vocab\n",
        "    self.embed_dim = embed_dim\n",
        "    self.nhead = nhead\n",
        "    self.num_encoder_layers = num_encoder_layers\n",
        "    self.dropout = dropout\n",
        "    self.num_decoder_layers = num_decoder_layers\n",
        "    self.dim_feedforward = dim_feedforward\n",
        "    # add embedding layers\n",
        "    self.embedding_encoder = nn.Embedding(self.src_vocab, self.embed_dim)\n",
        "    self.embedding_decoder = nn.Embedding(self.trg_vocab , self.embed_dim)\n",
        "    # Encoder-Decoder Transformer\n",
        "    self.transformer = nn.Transformer(d_model= self.embed_dim,nhead=self.nhead, num_encoder_layers=self.num_encoder_layers, dropout=self.dropout, num_decoder_layers=self.num_decoder_layers, dim_feedforward=self.dim_feedforward)\n",
        "    \n",
        "    # output layer to predict next token\n",
        "    self.decoder = nn.Linear(self.embed_dim, self.trg_vocab)\n",
        "\n",
        "  def forward(self, src, tgr):\n",
        "    # embedding layer\n",
        "    src = self.embedding_encoder(src)\n",
        "    tgr = self.embedding_decoder(tgr)\n",
        "\n",
        "    # Transformer\n",
        "    output = self.transformer(src, tgr)\n",
        "\n",
        "    # predication \n",
        "    output = self.decoder(output) \n",
        "    return F.softmax(output, dim=1)"
      ],
      "metadata": {
        "id": "_jTY9FCzIRP-"
      },
      "execution_count": null,
      "outputs": []
    },
    {
      "cell_type": "markdown",
      "source": [
        "We "
      ],
      "metadata": {
        "id": "pq4f6yJtFO0v"
      }
    },
    {
      "cell_type": "code",
      "source": [
        "txt_vocab = len(TEXT.vocab)\n",
        "lbl_vocab = len(LABEL.vocab)\n",
        "print(txt_vocab, lbl_vocab)\n",
        "embed_dim = 128\n",
        "nhead = 2\n",
        "num_encoder_layers = 1\n",
        "dropout = 0.5 \n",
        "num_decoder_layers = 1\n",
        "dim_feedforward = 128\n",
        "\n",
        "model = Transformer(txt_vocab, lbl_vocab, embed_dim, nhead, num_encoder_layers, dropout, num_decoder_layers,dim_feedforward).to(device)"
      ],
      "metadata": {
        "colab": {
          "base_uri": "https://localhost:8080/"
        },
        "id": "l7VZYcVUeiEX",
        "outputId": "aa57df87-4973-41c4-bb1c-b748b5f7a927"
      },
      "execution_count": null,
      "outputs": [
        {
          "output_type": "stream",
          "name": "stdout",
          "text": [
            "56054 81\n"
          ]
        }
      ]
    },
    {
      "cell_type": "markdown",
      "source": [
        "## Create the batches"
      ],
      "metadata": {
        "id": "XUaoGqJgGY34"
      }
    },
    {
      "cell_type": "code",
      "source": [
        "for batch in train_iter:\n",
        "    txt = batch.text\n",
        "    lbl = batch.label\n",
        "    model(txt,lbl)\n",
        "    \n",
        "    print('tensor size of source language:', txt.shape)\n",
        "    print('tensor size of target language:', lbl.shape)\n",
        "    print('the tensor of first example in target language:', lbl[:,0])\n",
        "    break"
      ],
      "metadata": {
        "colab": {
          "base_uri": "https://localhost:8080/"
        },
        "id": "IOBmJ6CPZruw",
        "outputId": "3fbe9ae3-dc78-4f35-ced5-10a032d4901c"
      },
      "execution_count": null,
      "outputs": [
        {
          "output_type": "stream",
          "name": "stdout",
          "text": [
            "tensor size of source language: torch.Size([90, 32])\n",
            "tensor size of target language: torch.Size([3, 32])\n",
            "the tensor of first example in target language: tensor([2, 8, 3], device='cuda:0')\n"
          ]
        }
      ]
    },
    {
      "cell_type": "markdown",
      "source": [
        "## Training the model"
      ],
      "metadata": {
        "id": "502bdKnpF-wj"
      }
    },
    {
      "cell_type": "code",
      "source": [
        "def train(model, iterator, optimizer, criterion):\n",
        "    manual_seed = 77\n",
        "    total_acc = 0\n",
        "    total_count = 0\n",
        "    torch.manual_seed(manual_seed)\n",
        "    if n_gpu > 0:\n",
        "        torch.cuda.manual_seed(manual_seed)\n",
        "    \n",
        "    model.train()\n",
        "    \n",
        "    epoch_loss = 0\n",
        "    \n",
        "    for i, batch in enumerate(iterator):\n",
        "        \n",
        "        txt = batch.text\n",
        "        lbl = batch.label\n",
        "        \n",
        "        optimizer.zero_grad()\n",
        "        \n",
        "        output = model(txt, lbl)\n",
        "        \n",
        "        #trg = [trg len, batch size]\n",
        "        #output = [trg len, batch size, output dim]\n",
        "        \n",
        "        output_dim = output.shape[-1]\n",
        "        \n",
        "        output = output[1:].view(-1, output_dim)\n",
        "        lbl = lbl[1:].view(-1)\n",
        "        # loss function works only 2d logits, 1d targets\n",
        "        # so flatten the trg, output tensors. Ignore the <sos> token\n",
        "        # trg shape shape should be [(sequence_len - 1) * batch_size]\n",
        "        # output shape should be [(sequence_len - 1) * batch_size, output_dim]\n",
        "        \n",
        "        loss = criterion(output, lbl)\n",
        "        \n",
        "        loss.backward()\n",
        "\n",
        "        optimizer.step()\n",
        "\n",
        "        total_acc += (output.argmax(1) == lbl).sum().item()\n",
        "        total_count += lbl.size(0)\n",
        "        \n",
        "        epoch_loss += loss.item()\n",
        "\n",
        "    return (total_acc / total_count), epoch_loss / len(iterator)"
      ],
      "metadata": {
        "id": "gtQvnBpgX75R"
      },
      "execution_count": null,
      "outputs": []
    },
    {
      "cell_type": "markdown",
      "source": [
        "## Evaluate the Model"
      ],
      "metadata": {
        "id": "77N45X2OGGY4"
      }
    },
    {
      "cell_type": "code",
      "source": [
        "def evaluate(model, iterator, criterion):\n",
        "\n",
        "    total_acc = 0\n",
        "    total_count = 0\n",
        "\n",
        "    model.eval()\n",
        "    \n",
        "    epoch_loss = 0\n",
        "    \n",
        "    with torch.no_grad():\n",
        "    \n",
        "        for i, batch in enumerate(iterator):\n",
        "\n",
        "            txt = batch.text\n",
        "            lbl = batch.label\n",
        "\n",
        "            output = model(txt, lbl) #turn off teacher forcing\n",
        "\n",
        "            #trg = [trg len, batch size]\n",
        "            #output = [trg len, batch size, output dim]\n",
        "\n",
        "            output_dim = output.shape[-1]\n",
        "            \n",
        "            output = output[1:].view(-1, output_dim)\n",
        "            lbl = lbl[1:].view(-1)\n",
        "\n",
        "            #trg = [(trg len - 1) * batch size]\n",
        "            #output = [(trg len - 1) * batch size, output dim]\n",
        "\n",
        "            total_acc += (output.argmax(1) == lbl).sum().item()\n",
        "            total_count += lbl.size(0)\n",
        "\n",
        "            loss = criterion(output, lbl)\n",
        "\n",
        "            epoch_loss += loss.item()\n",
        "        \n",
        "    return (total_acc / total_count), epoch_loss / len(iterator)"
      ],
      "metadata": {
        "id": "VtErRjz7ywLY"
      },
      "execution_count": null,
      "outputs": []
    },
    {
      "cell_type": "code",
      "source": [
        "def init_weights(m):\n",
        "    manual_seed = 77\n",
        "    torch.manual_seed(manual_seed)\n",
        "    if n_gpu > 0:\n",
        "        torch.cuda.manual_seed(manual_seed)\n",
        "    for name, param in m.named_parameters():\n",
        "        if 'weight' in name:\n",
        "            nn.init.normal_(param.data, mean=0, std=0.05)\n",
        "        else:\n",
        "            nn.init.constant_(param.data, 0)"
      ],
      "metadata": {
        "id": "Xlce5ibizdL-"
      },
      "execution_count": null,
      "outputs": []
    },
    {
      "cell_type": "markdown",
      "source": [
        "### Keep track of the time for training"
      ],
      "metadata": {
        "id": "v7aub-TYH4pO"
      }
    },
    {
      "cell_type": "code",
      "source": [
        "def epoch_time(start_time, end_time):\n",
        "    elapsed_time = end_time - start_time\n",
        "    elapsed_mins = int(elapsed_time / 60)\n",
        "    elapsed_secs = int(elapsed_time - (elapsed_mins * 60))\n",
        "    return elapsed_mins, elapsed_secs"
      ],
      "metadata": {
        "id": "dZhmSh4TzleL"
      },
      "execution_count": null,
      "outputs": []
    },
    {
      "cell_type": "code",
      "source": [
        "manual_seed = 77\n",
        "torch.manual_seed(manual_seed)\n",
        "device = torch.device(\"cuda\" if torch.cuda.is_available() else \"cpu\")\n",
        "print(device)\n",
        "n_gpu = torch.cuda.device_count()\n",
        "if n_gpu > 0:\n",
        "    torch.cuda.manual_seed(manual_seed)"
      ],
      "metadata": {
        "colab": {
          "base_uri": "https://localhost:8080/"
        },
        "id": "Mdt-f50b5qJn",
        "outputId": "cb853b04-8030-4079-a6af-b0b6cc925816"
      },
      "execution_count": null,
      "outputs": [
        {
          "output_type": "stream",
          "name": "stdout",
          "text": [
            "cuda\n"
          ]
        }
      ]
    },
    {
      "cell_type": "code",
      "source": [
        "model.apply(init_weights)\n",
        "optimizer = optim.Adam(model.parameters(), lr = 0.01)"
      ],
      "metadata": {
        "id": "S1Dg37N-zrUw"
      },
      "execution_count": null,
      "outputs": []
    },
    {
      "cell_type": "code",
      "source": [
        "lbl_pad_idx = LABEL.vocab.stoi[LABEL.pad_token]\n",
        "print('<pad> token index: ', lbl_pad_idx)\n",
        "## we will ignor the pad token in true target set\n",
        "criterion = nn.CrossEntropyLoss(ignore_index = lbl_pad_idx)"
      ],
      "metadata": {
        "colab": {
          "base_uri": "https://localhost:8080/"
        },
        "id": "1DvZkoF_Ddl_",
        "outputId": "687aa44b-8320-4570-a485-a07057ff1aab"
      },
      "execution_count": null,
      "outputs": [
        {
          "output_type": "stream",
          "name": "stdout",
          "text": [
            "<pad> token index:  1\n"
          ]
        }
      ]
    },
    {
      "cell_type": "markdown",
      "source": [
        "## Training loop"
      ],
      "metadata": {
        "id": "HEvM4iMlHgM3"
      }
    },
    {
      "cell_type": "code",
      "source": [
        "N_EPOCHS = 15\n",
        "\n",
        "best_valid_loss = float('inf')\n",
        "\n",
        "for epoch in range(N_EPOCHS):\n",
        "    \n",
        "    start_time = time.time()\n",
        "    \n",
        "    train_acc, train_loss = train(model, train_iter, optimizer, criterion)\n",
        "    valid_acc, valid_loss = evaluate(model, dev_iter, criterion)\n",
        "    \n",
        "    end_time = time.time()\n",
        "    \n",
        "    epoch_mins, epoch_secs = epoch_time(start_time, end_time)\n",
        "    \n",
        "    # Create checkpoint at end of each epoch\n",
        "    state_dict_model = model.state_dict() \n",
        "    state = {\n",
        "        'epoch': epoch,\n",
        "        'state_dict': state_dict_model,\n",
        "        'optimizer': optimizer.state_dict()\n",
        "        }\n",
        "\n",
        "    # torch.save(state, \"./drive/My Drive/Colab Notebooks/ckpt_ex1/seq2seq_\"+str(epoch+1)+\".pt\")\n",
        "\n",
        "    print(f'Epoch: {epoch+1:02} | Time: {epoch_mins}m {epoch_secs}s')\n",
        "    print(f'\\t Train Accuracy: {train_acc:.3f} | Train Loss: {train_loss:.3f} | Train PPL: {math.exp(train_loss):7.3f}')\n",
        "    print(f'\\t Valid Accuracy: {valid_acc:.3f} | Val. Loss: {valid_loss:.3f} |  Val. PPL: {math.exp(valid_loss):7.3f}')\n"
      ],
      "metadata": {
        "colab": {
          "base_uri": "https://localhost:8080/"
        },
        "id": "GgLq3BjKD75H",
        "outputId": "4d0f0871-9d4b-40b1-e83b-8bb44e80567a"
      },
      "execution_count": null,
      "outputs": [
        {
          "output_type": "stream",
          "name": "stdout",
          "text": [
            "Epoch: 01 | Time: 0m 12s\n",
            "\t Train Accuracy: 0.007 | Train Loss: 4.395 | Train PPL:  81.017\n",
            "\t Valid Accuracy: 0.006 | Val. Loss: 4.394 |  Val. PPL:  81.000\n",
            "Epoch: 02 | Time: 0m 12s\n",
            "\t Train Accuracy: 0.008 | Train Loss: 4.395 | Train PPL:  81.008\n",
            "\t Valid Accuracy: 0.006 | Val. Loss: 4.394 |  Val. PPL:  81.000\n",
            "Epoch: 03 | Time: 0m 12s\n",
            "\t Train Accuracy: 0.007 | Train Loss: 4.394 | Train PPL:  81.003\n",
            "\t Valid Accuracy: 0.007 | Val. Loss: 4.394 |  Val. PPL:  81.000\n",
            "Epoch: 04 | Time: 0m 12s\n",
            "\t Train Accuracy: 0.007 | Train Loss: 4.395 | Train PPL:  81.007\n",
            "\t Valid Accuracy: 0.009 | Val. Loss: 4.394 |  Val. PPL:  81.000\n",
            "Epoch: 05 | Time: 0m 12s\n",
            "\t Train Accuracy: 0.007 | Train Loss: 4.395 | Train PPL:  81.009\n",
            "\t Valid Accuracy: 0.008 | Val. Loss: 4.394 |  Val. PPL:  81.000\n",
            "Epoch: 06 | Time: 0m 12s\n",
            "\t Train Accuracy: 0.007 | Train Loss: 4.395 | Train PPL:  81.007\n",
            "\t Valid Accuracy: 0.006 | Val. Loss: 4.394 |  Val. PPL:  81.002\n",
            "Epoch: 07 | Time: 0m 12s\n",
            "\t Train Accuracy: 0.007 | Train Loss: 4.395 | Train PPL:  81.004\n",
            "\t Valid Accuracy: 0.007 | Val. Loss: 4.394 |  Val. PPL:  81.001\n",
            "Epoch: 08 | Time: 0m 12s\n",
            "\t Train Accuracy: 0.007 | Train Loss: 4.395 | Train PPL:  81.006\n",
            "\t Valid Accuracy: 0.007 | Val. Loss: 4.394 |  Val. PPL:  81.000\n",
            "Epoch: 09 | Time: 0m 12s\n",
            "\t Train Accuracy: 0.007 | Train Loss: 4.395 | Train PPL:  81.010\n",
            "\t Valid Accuracy: 0.007 | Val. Loss: 4.394 |  Val. PPL:  81.000\n",
            "Epoch: 10 | Time: 0m 12s\n",
            "\t Train Accuracy: 0.005 | Train Loss: 4.394 | Train PPL:  81.002\n",
            "\t Valid Accuracy: 0.006 | Val. Loss: 4.394 |  Val. PPL:  81.000\n",
            "Epoch: 11 | Time: 0m 12s\n",
            "\t Train Accuracy: 0.006 | Train Loss: 4.395 | Train PPL:  81.006\n",
            "\t Valid Accuracy: 0.006 | Val. Loss: 4.394 |  Val. PPL:  81.000\n",
            "Epoch: 12 | Time: 0m 12s\n",
            "\t Train Accuracy: 0.004 | Train Loss: 4.395 | Train PPL:  81.006\n",
            "\t Valid Accuracy: 0.005 | Val. Loss: 4.394 |  Val. PPL:  81.000\n",
            "Epoch: 13 | Time: 0m 12s\n",
            "\t Train Accuracy: 0.002 | Train Loss: 4.395 | Train PPL:  81.005\n",
            "\t Valid Accuracy: 0.007 | Val. Loss: 4.394 |  Val. PPL:  81.000\n",
            "Epoch: 14 | Time: 0m 12s\n",
            "\t Train Accuracy: 0.002 | Train Loss: 4.394 | Train PPL:  81.003\n",
            "\t Valid Accuracy: 0.006 | Val. Loss: 4.394 |  Val. PPL:  80.999\n",
            "Epoch: 15 | Time: 0m 12s\n",
            "\t Train Accuracy: 0.001 | Train Loss: 4.394 | Train PPL:  81.002\n",
            "\t Valid Accuracy: 0.007 | Val. Loss: 4.394 |  Val. PPL:  81.000\n"
          ]
        }
      ]
    }
  ]
}